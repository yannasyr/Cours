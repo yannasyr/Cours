{
  "nbformat": 4,
  "nbformat_minor": 0,
  "metadata": {
    "colab": {
      "provenance": []
    },
    "kernelspec": {
      "name": "python3",
      "display_name": "Python 3"
    },
    "accelerator": "GPU",
    "gpuClass": "standard"
  },
  "cells": [
    {
      "cell_type": "markdown",
      "metadata": {
        "id": "HMlUZTGtuAtq"
      },
      "source": [
        "# TP 6a - GAN\n",
        "\n",
        "This lab session will introduce you to Generative Adversial Network (GAN) with a toy problem. Starting from Fashion-MNIST dataset, we will try to generate new clothes ... from noise !\n",
        "\n",
        "Note : here, he dataset will be accessed through torchvision\n",
        "\n",
        " "
      ]
    },
    {
      "cell_type": "code",
      "metadata": {
        "id": "hIFY2fD0RXXq",
        "colab": {
          "base_uri": "https://localhost:8080/"
        },
        "outputId": "5edcdd15-97c4-4650-ce61-d4d81316ac08"
      },
      "source": [
        "import torch\n",
        "from torch import nn\n",
        "import torchvision\n",
        "from torchvision.transforms import ToTensor, ToPILImage, Resize, Normalize, Compose\n",
        "from torchvision.datasets import FashionMNIST\n",
        "from torchvision.utils import make_grid\n",
        "import matplotlib.pyplot as plt\n",
        "import numpy as np\n",
        "\n",
        "#Load the data\n",
        "\n",
        "fmnist = FashionMNIST(root='data', \n",
        "              train=True, \n",
        "              download=True, \n",
        "              transform=ToTensor())\n",
        "\n",
        "device = \"cuda:0\" if torch.cuda.is_available() else \"cpu\"\n",
        "print(\"active device is : {}\".format(device))"
      ],
      "execution_count": 1,
      "outputs": [
        {
          "output_type": "stream",
          "name": "stdout",
          "text": [
            "active device is : cuda:0\n"
          ]
        }
      ]
    },
    {
      "cell_type": "markdown",
      "source": [
        "# Utility functions"
      ],
      "metadata": {
        "id": "4WXyQL6tbD6R"
      }
    },
    {
      "cell_type": "code",
      "source": [
        "# need to apply a denormalization to display images \n",
        "def denorm(x):\n",
        "    out = (x + 1) / 2\n",
        "    return out.clamp(0, 1)\n",
        "\n",
        "# treat a mosaic of images with save/display option\n",
        "def mosaic(imgs, display=True, save=False, name=''):\n",
        "    plt.ioff()\n",
        "    if not isinstance(imgs, list):\n",
        "        imgs = [imgs]\n",
        "    nb_imgs = len(imgs)\n",
        "    n0 = np.ceil(np.sqrt(nb_imgs)).astype(int)\n",
        "    fig, axs = plt.subplots(nrows=n0, ncols=n0, squeeze=False)\n",
        "    for i, img in enumerate(imgs):\n",
        "        img = ToPILImage()(img.detach())\n",
        "        row, col = int(i / n0) , i % n0\n",
        "        axs[row, col].imshow(np.asarray(img), cmap='gray')\n",
        "        axs[row, col].set(xticklabels=[], yticklabels=[], xticks=[], yticks=[])\n",
        "    if save : \n",
        "      fig.savefig(name)\n",
        "    if display : \n",
        "      plt.show()\n",
        "    plt.close()"
      ],
      "metadata": {
        "id": "f7w9KQNYbDfN"
      },
      "execution_count": 2,
      "outputs": []
    },
    {
      "cell_type": "markdown",
      "source": [
        "### Create the folders for savings images and models weights"
      ],
      "metadata": {
        "id": "Xbr9WvfC5sip"
      }
    },
    {
      "cell_type": "code",
      "source": [
        "import os\n",
        "from os import path\n",
        "from shutil import rmtree\n",
        "\n",
        "# add your own path. Where to save the models\n",
        "root_folder_GAN = '/content/drive/MyDrive/Lessons/Models/GAN/'\n",
        "from google.colab import drive\n",
        "drive.mount('/content/drive')\n",
        "\n",
        "if path.exists(root_folder_GAN) :\n",
        "  rmtree(root_folder_GAN)\n",
        "os.makedirs(root_folder_GAN, exist_ok=True)\n",
        "os.mkdir(path.join(root_folder_GAN, 'checkpoints'))\n",
        "os.mkdir(path.join(root_folder_GAN, 'checkpoints', 'G'))\n",
        "os.mkdir(path.join(root_folder_GAN, 'checkpoints', 'D'))"
      ],
      "metadata": {
        "id": "ia3D4NIdIcti",
        "colab": {
          "base_uri": "https://localhost:8080/"
        },
        "outputId": "ad217de9-61cb-465f-9c71-1f211e5b5fde"
      },
      "execution_count": 3,
      "outputs": [
        {
          "output_type": "stream",
          "name": "stdout",
          "text": [
            "Drive already mounted at /content/drive; to attempt to forcibly remount, call drive.mount(\"/content/drive\", force_remount=True).\n"
          ]
        }
      ]
    },
    {
      "cell_type": "markdown",
      "metadata": {
        "id": "odpX0ofNwAgl"
      },
      "source": [
        "### Visualize data from the dataset\n",
        "\n"
      ]
    },
    {
      "cell_type": "code",
      "metadata": {
        "id": "ryUA_lUxvVSH",
        "colab": {
          "base_uri": "https://localhost:8080/",
          "height": 252
        },
        "outputId": "5afbe8ca-2fa3-4a53-e760-d95552d63c8b"
      },
      "source": [
        "nb_images = 16\n",
        "imgs = [fmnist[i][0] for i in range(nb_images)]\n",
        "mosaic(imgs, save=True, name=os.path.join(root_folder_GAN, 'test.png'))"
      ],
      "execution_count": 4,
      "outputs": [
        {
          "output_type": "display_data",
          "data": {
            "text/plain": [
              "<Figure size 432x288 with 16 Axes>"
            ],
            "image/png": "[encoded data removed]"
          },
          "metadata": {}
        }
      ]
    },
    {
      "cell_type": "code",
      "source": [
        "from torch.utils.data import DataLoader\n",
        "\n",
        "# Create a Dataloader with batch_size of 100, shuffling data\n",
        "\n",
        "batch_size = 100\n",
        "data_loader = DataLoader(fmnist, batch_size, shuffle=True)\n",
        "\n",
        "for img_batch, label_batch in data_loader:\n",
        "    print(\"Images batch size = {}\".format(img_batch.shape))\n",
        "    plt.imshow(img_batch[0][0], cmap='gray')\n",
        "    plt.show()\n",
        "    print(\"Labels batch = {}\".format(label_batch))\n",
        "    break\n",
        "plt.close()"
      ],
      "metadata": {
        "colab": {
          "base_uri": "https://localhost:8080/",
          "height": 369
        },
        "id": "3nifAr3ojtq7",
        "outputId": "dfb1f6ed-00fd-4729-81ea-01156f552a3a"
      },
      "execution_count": 5,
      "outputs": [
        {
          "output_type": "stream",
          "name": "stdout",
          "text": [
            "Images batch size = torch.Size([100, 1, 28, 28])\n"
          ]
        },
        {
          "output_type": "display_data",
          "data": {
            "text/plain": [
              "<Figure size 432x288 with 1 Axes>"
            ],
            "image/png": "[encoded data removed]"
          },
          "metadata": {
            "needs_background": "light"
          }
        },
        {
          "output_type": "stream",
          "name": "stdout",
          "text": [
            "Labels batch = tensor([6, 2, 7, 3, 6, 8, 9, 1, 6, 9, 5, 0, 5, 4, 8, 6, 7, 9, 9, 0, 6, 0, 5, 8,\n",
            "        7, 7, 3, 6, 5, 4, 6, 8, 2, 4, 0, 0, 8, 4, 2, 1, 6, 7, 9, 1, 6, 4, 8, 2,\n",
            "        2, 8, 9, 4, 1, 3, 3, 3, 0, 7, 8, 6, 1, 8, 1, 6, 5, 3, 6, 1, 7, 9, 4, 3,\n",
            "        2, 1, 4, 7, 3, 5, 0, 9, 7, 8, 7, 2, 2, 6, 5, 0, 3, 0, 7, 5, 0, 6, 9, 2,\n",
            "        9, 5, 6, 4])\n"
          ]
        }
      ]
    },
    {
      "cell_type": "markdown",
      "source": [
        "# Creation of the Discriminator and Generator models"
      ],
      "metadata": {
        "id": "qeBNpDpE56WO"
      }
    },
    {
      "cell_type": "markdown",
      "source": [
        "### Discriminator (\"Expert\")"
      ],
      "metadata": {
        "id": "JXJwODmJ7rTv"
      }
    },
    {
      "cell_type": "markdown",
      "source": [
        "First, create a discriminator class based on a MLP model with :    \n",
        "* flatten image input\n",
        "* two (2) hidden layers of size *hidden_size*\n",
        "* an output layer consistent with binary classification\n",
        "\n",
        "Do not forget the activation ! Use : \n",
        "* nn.LeakyRELU(0.2) for hidden layers\n",
        "* appropriate activation for output layer (binary classification) "
      ],
      "metadata": {
        "id": "lLxTIulb6Tto"
      }
    },
    {
      "cell_type": "code",
      "source": [
        "class Discriminator(nn.Module):\n",
        "  def __init__(self, hidden_size):\n",
        "    super(Discriminator, self).__init__()\n",
        "    self.hidden_size = hidden_size\n",
        "    self.linear1 = nn.Linear(image_size, hidden_size)\n",
        "    self.linear2 = nn.Linear(hidden_size, hidden_size)\n",
        "    self.linear3 = nn.Linear(hidden_size, 1)\n",
        "    self.leakyrelu = nn.LeakyReLU(0.2)\n",
        "    self.sigmoid = nn.Sigmoid()\n",
        "\n",
        "  def forward(self, x):\n",
        "    x = nn.Flatten()(x)\n",
        "    x = self.leakyrelu(self.linear1(x))\n",
        "    x = self.leakyrelu(self.linear2(x))\n",
        "    x = self.sigmoid(self.linear3(x))\n",
        "    return x"
      ],
      "metadata": {
        "id": "rEyiAW0klyVd"
      },
      "execution_count": 6,
      "outputs": []
    },
    {
      "cell_type": "markdown",
      "source": [
        "### Generator (\"Counterfeiter\")"
      ],
      "metadata": {
        "id": "kAGwKraV8K1O"
      }
    },
    {
      "cell_type": "markdown",
      "source": [
        "Second, create a generator class based on a MLP model with :    \n",
        "* an input (latent variable) as vector of dimension *latent_size*\n",
        "* two (2) hidden layers of size *hidden_size*\n",
        "* an output layer generating a vector of dimension *image_size* (= 28*28)\n",
        "\n",
        "Do not forget the activation ! Use : \n",
        "* nn.ReLU() for hidden layers\n",
        "* appropriate activation for output layer (pixel value in range [0,1]) "
      ],
      "metadata": {
        "id": "U13McPb18DUR"
      }
    },
    {
      "cell_type": "code",
      "source": [
        "class Generator(nn.Module):\n",
        "  def __init__(self, latent_size, hidden_size, image_size):\n",
        "    super(Generator, self).__init__()\n",
        "    self.latent_size = latent_size\n",
        "    self.hidden_size = hidden_size\n",
        "    self.image_size = image_size\n",
        "    self.linear1 = nn.Linear(latent_size, hidden_size)\n",
        "    self.linear2 = nn.Linear(hidden_size, hidden_size)\n",
        "    self.linear3 = nn.Linear(hidden_size, image_size)\n",
        "    self.relu = nn.ReLU()\n",
        "    self.sigmoid = nn.Sigmoid()\n",
        "\n",
        "  def forward(self, x):\n",
        "    x = self.relu(self.linear1(x))\n",
        "    x = self.relu(self.linear2(x))\n",
        "    x = self.sigmoid(self.linear3(x))\n",
        "    return x"
      ],
      "metadata": {
        "id": "F18sRMPv8EH3"
      },
      "execution_count": 7,
      "outputs": []
    },
    {
      "cell_type": "markdown",
      "source": [
        "### Models instantiation & casting"
      ],
      "metadata": {
        "id": "3vtPpTWU85g9"
      }
    },
    {
      "cell_type": "code",
      "source": [
        "image_size = 28 * 28\n",
        "hidden_size = 256\n",
        "latent_size = 64\n",
        "\n",
        "D = Discriminator(hidden_size)\n",
        "G = Generator(latent_size, hidden_size, image_size)\n",
        "\n",
        "D.to(device)\n",
        "G.to(device)"
      ],
      "metadata": {
        "colab": {
          "base_uri": "https://localhost:8080/"
        },
        "id": "Zs6U3f8Rl6uR",
        "outputId": "3e50f1f1-ee55-4aa7-a9d3-b1a2caae3fb6"
      },
      "execution_count": 8,
      "outputs": [
        {
          "output_type": "execute_result",
          "data": {
            "text/plain": [
              "Generator(\n",
              "  (linear1): Linear(in_features=64, out_features=256, bias=True)\n",
              "  (linear2): Linear(in_features=256, out_features=256, bias=True)\n",
              "  (linear3): Linear(in_features=256, out_features=784, bias=True)\n",
              "  (relu): ReLU()\n",
              "  (sigmoid): Sigmoid()\n",
              ")"
            ]
          },
          "metadata": {},
          "execution_count": 8
        }
      ]
    },
    {
      "cell_type": "markdown",
      "source": [
        "### Seeds generation and visualization"
      ],
      "metadata": {
        "id": "WstAtAto9LMl"
      }
    },
    {
      "cell_type": "markdown",
      "source": [
        "Create a batch of 9*9=81 vectors in the latent space. Use this batch to generate image from the generator model G and visualize the result. \n",
        "\n",
        "What do you observe ? "
      ],
      "metadata": {
        "id": "Xi70orQt9SHu"
      }
    },
    {
      "cell_type": "code",
      "source": [
        "seed = torch.randn(81, latent_size).to(device)\n",
        "\n",
        "y = G(seed)\n",
        "gen_imgs = denorm(y.reshape((-1, 28,28)).detach())\n",
        "print(D(gen_imgs))\n",
        "\n",
        "plt.imshow(gen_imgs[0].cpu(), cmap='gray');\n",
        "plt.show()\n",
        "plt.close()"
      ],
      "metadata": {
        "colab": {
          "base_uri": "https://localhost:8080/",
          "height": 1000
        },
        "id": "s1yc7VtB9EFp",
        "outputId": "a8efa7be-6a60-43a3-ab87-aa5dfb6fe49d"
      },
      "execution_count": 9,
      "outputs": [
        {
          "output_type": "stream",
          "name": "stdout",
          "text": [
            "tensor([[0.5232],\n",
            "        [0.5235],\n",
            "        [0.5237],\n",
            "        [0.5233],\n",
            "        [0.5233],\n",
            "        [0.5232],\n",
            "        [0.5232],\n",
            "        [0.5237],\n",
            "        [0.5235],\n",
            "        [0.5235],\n",
            "        [0.5236],\n",
            "        [0.5234],\n",
            "        [0.5236],\n",
            "        [0.5236],\n",
            "        [0.5236],\n",
            "        [0.5236],\n",
            "        [0.5235],\n",
            "        [0.5232],\n",
            "        [0.5232],\n",
            "        [0.5234],\n",
            "        [0.5235],\n",
            "        [0.5236],\n",
            "        [0.5233],\n",
            "        [0.5234],\n",
            "        [0.5233],\n",
            "        [0.5235],\n",
            "        [0.5239],\n",
            "        [0.5235],\n",
            "        [0.5234],\n",
            "        [0.5235],\n",
            "        [0.5235],\n",
            "        [0.5232],\n",
            "        [0.5233],\n",
            "        [0.5230],\n",
            "        [0.5237],\n",
            "        [0.5237],\n",
            "        [0.5237],\n",
            "        [0.5236],\n",
            "        [0.5235],\n",
            "        [0.5234],\n",
            "        [0.5233],\n",
            "        [0.5232],\n",
            "        [0.5232],\n",
            "        [0.5236],\n",
            "        [0.5236],\n",
            "        [0.5238],\n",
            "        [0.5231],\n",
            "        [0.5238],\n",
            "        [0.5234],\n",
            "        [0.5232],\n",
            "        [0.5235],\n",
            "        [0.5234],\n",
            "        [0.5231],\n",
            "        [0.5237],\n",
            "        [0.5235],\n",
            "        [0.5233],\n",
            "        [0.5237],\n",
            "        [0.5234],\n",
            "        [0.5235],\n",
            "        [0.5232],\n",
            "        [0.5237],\n",
            "        [0.5232],\n",
            "        [0.5233],\n",
            "        [0.5235],\n",
            "        [0.5236],\n",
            "        [0.5233],\n",
            "        [0.5242],\n",
            "        [0.5237],\n",
            "        [0.5235],\n",
            "        [0.5234],\n",
            "        [0.5233],\n",
            "        [0.5234],\n",
            "        [0.5237],\n",
            "        [0.5233],\n",
            "        [0.5233],\n",
            "        [0.5235],\n",
            "        [0.5236],\n",
            "        [0.5235],\n",
            "        [0.5235],\n",
            "        [0.5234],\n",
            "        [0.5238]], device='cuda:0', grad_fn=<SigmoidBackward0>)\n"
          ]
        },
        {
          "output_type": "display_data",
          "data": {
            "text/plain": [
              "<Figure size 432x288 with 1 Axes>"
            ],
            "image/png": "[encoded data removed]"
          },
          "metadata": {
            "needs_background": "light"
          }
        }
      ]
    },
    {
      "cell_type": "markdown",
      "source": [
        "# Models training"
      ],
      "metadata": {
        "id": "rRbdPsWD9mSO"
      }
    },
    {
      "cell_type": "markdown",
      "source": [
        "### Discriminator loss criterion definition and optimizer"
      ],
      "metadata": {
        "id": "yzW2avv99qC5"
      }
    },
    {
      "cell_type": "code",
      "source": [
        "d_criterion = nn.BCELoss()\n",
        "d_optimizer = torch.optim.Adam(D.parameters(), lr=0.0002)"
      ],
      "metadata": {
        "id": "HelWnn-ZntnK"
      },
      "execution_count": 10,
      "outputs": []
    },
    {
      "cell_type": "markdown",
      "source": [
        "### Discriminator training loop"
      ],
      "metadata": {
        "id": "dLoQmGUJ-JKP"
      }
    },
    {
      "cell_type": "code",
      "source": [
        "#Training the discriminator\n",
        "    \n",
        "def train_discriminator(images):\n",
        "    # set model(s) in appropriate mode (train or eval)\n",
        "    G.eval()\n",
        "    D.train()\n",
        "    # Create the labels which are later used as input for the BCE loss\n",
        "    real_labels = torch.ones(batch_size, 1).to(device)\n",
        "    fake_labels = torch.zeros(batch_size, 1).to(device)\n",
        "\n",
        "    # Loss for real images\n",
        "    real_scores = D(images)\n",
        "    d_loss_real = d_criterion(real_scores, real_labels)\n",
        "\n",
        "    # Loss for fake images\n",
        "    z = torch.randn(batch_size, latent_size).to(device)\n",
        "    fake_images = G(z)\n",
        "    fake_scores = D(fake_images)\n",
        "    d_loss_fake = d_criterion(fake_scores, fake_labels)\n",
        "    \n",
        "    # So essentially, you use the given set of real images and feed it to the discriminator and train to understand the pattern of the real images.\n",
        "    # Then, you generate a bunch of fake images and then feed them to the discriminator to train them to understand the pattern of the fake images.\n",
        "\n",
        "    # Combine losses (on real images and fake images)\n",
        "    d_loss = d_loss_real + d_loss_fake\n",
        "\n",
        "    # Backpropagation and weights update\n",
        "    d_optimizer.zero_grad()\n",
        "    d_loss.backward()\n",
        "    d_optimizer.step()\n",
        "    \n",
        "    return d_loss, real_scores, fake_scores"
      ],
      "metadata": {
        "id": "hCjd0Zeun2jY"
      },
      "execution_count": 18,
      "outputs": []
    },
    {
      "cell_type": "markdown",
      "source": [
        "### Generator loss criterion definition and optimizer"
      ],
      "metadata": {
        "id": "jbXPq-p1-Mvf"
      }
    },
    {
      "cell_type": "code",
      "source": [
        "g_criterion = nn.BCELoss()\n",
        "g_optimizer = torch.optim.Adam(G.parameters(), lr=0.0002)"
      ],
      "metadata": {
        "id": "ulrNzWb_oVTH"
      },
      "execution_count": 12,
      "outputs": []
    },
    {
      "cell_type": "markdown",
      "source": [
        "### Generator training loop"
      ],
      "metadata": {
        "id": "YLWkNpyD-Wp4"
      }
    },
    {
      "cell_type": "code",
      "source": [
        "def train_generator():\n",
        "    # set model(s) in appropriate mode (train or eval)\n",
        "    G.train()\n",
        "\n",
        "    # Create the labels which are later used as input for the BCE loss\n",
        "    real_labels = torch.ones(batch_size, 1).to(device)\n",
        "    \n",
        "    # Generate fake images and calculate loss\n",
        "    z = torch.randn(batch_size, latent_size).to(device)\n",
        "    fake_images = G(z)\n",
        "    g_loss = g_criterion(D(fake_images), real_labels)\n",
        "\n",
        "    # Backprop and optimize\n",
        "    g_optimizer.zero_grad()\n",
        "    g_loss.backward()\n",
        "    g_optimizer.step()\n",
        "\n",
        "    return g_loss, fake_images"
      ],
      "metadata": {
        "id": "ImmISu24oWFi"
      },
      "execution_count": 13,
      "outputs": []
    },
    {
      "cell_type": "code",
      "source": [
        "def eval_generator():\n",
        "    # a function to evaluate the geneartor by creating \"fake\" images and returning them as imgs\n",
        "    G.eval()\n",
        "    gen_imgs = G(seed.to(device)).reshape((-1, 28,28)).detach()\n",
        "    imgs = [gen_imgs[i] for i in range(gen_imgs.shape[0])]\n",
        "    return imgs"
      ],
      "metadata": {
        "id": "RKiN8Mw4Fuon"
      },
      "execution_count": 14,
      "outputs": []
    },
    {
      "cell_type": "markdown",
      "source": [
        "# Training loop"
      ],
      "metadata": {
        "id": "zCiWimO3A64q"
      }
    },
    {
      "cell_type": "markdown",
      "source": [
        "Run the training for 50 epochs (~8 minutes with GPU environment)"
      ],
      "metadata": {
        "id": "0JeAmvwTA9lG"
      }
    },
    {
      "cell_type": "code",
      "source": [
        "%%time\n",
        "\n",
        "num_epochs = 50\n",
        "total_step = len(data_loader)\n",
        "d_losses, g_losses, real_scores, fake_scores = [], [], [], []\n",
        "\n",
        "for epoch in range(num_epochs):\n",
        "    for i, (images, _) in enumerate(data_loader):\n",
        "        # Load a batch & transform to vectors\n",
        "        images = images.reshape(batch_size, -1).to(device)\n",
        "        \n",
        "        # Train the discriminator and generator\n",
        "        d_loss, real_score, fake_score = train_discriminator(images)\n",
        "        g_loss, fake_images = train_generator()\n",
        "        \n",
        "        # Inspect the losses\n",
        "        if (i+1) % 200 == 0:\n",
        "            d_losses.append(d_loss.item())\n",
        "            g_losses.append(g_loss.item())\n",
        "            real_scores.append(real_score.mean().item())\n",
        "            fake_scores.append(fake_score.mean().item())\n",
        "            print('Epoch [{}/{}], Step [{}/{}], d_loss: {:.4f}, g_loss: {:.4f}, D(x): {:.2f}, D(G(z)): {:.2f}' \n",
        "                  .format(epoch, num_epochs, i+1, total_step, d_loss.item(), g_loss.item(), \n",
        "                          real_score.mean().item(), fake_score.mean().item()))\n",
        "        \n",
        "    if epoch % 5 == 0 :\n",
        "       imgs = eval_generator()\n",
        "       mosaic(imgs, display=False, save=True, name=root_folder_GAN + 'epoch{:04}.png'.format(epoch))\n",
        "    \n",
        "    if epoch % 25 == 0 : \n",
        "       torch.save(G.state_dict(), root_folder_GAN + '/checkpoints/G/epoch{:04}.ckpt'.format(epoch))\n",
        "       torch.save(D.state_dict(), root_folder_GAN + '/checkpoints/D/epoch{:04}.ckpt'.format(epoch))"
      ],
      "metadata": {
        "colab": {
          "base_uri": "https://localhost:8080/"
        },
        "id": "wZPAAe43oprx",
        "outputId": "5292f3cf-56cc-4259-feae-20b0d8f0b7c7"
      },
      "execution_count": 19,
      "outputs": [
        {
          "output_type": "stream",
          "name": "stdout",
          "text": [
            "Epoch [0/50], Step [200/600], d_loss: 0.0425, g_loss: 4.4697, D(x): 0.98, D(G(z)): 0.02\n",
            "Epoch [0/50], Step [400/600], d_loss: 0.0814, g_loss: 6.4339, D(x): 0.97, D(G(z)): 0.03\n",
            "Epoch [0/50], Step [600/600], d_loss: 0.0448, g_loss: 5.3987, D(x): 0.97, D(G(z)): 0.01\n",
            "Epoch [1/50], Step [200/600], d_loss: 0.0025, g_loss: 7.2504, D(x): 1.00, D(G(z)): 0.00\n",
            "Epoch [1/50], Step [400/600], d_loss: 0.0210, g_loss: 7.5618, D(x): 0.99, D(G(z)): 0.00\n",
            "Epoch [1/50], Step [600/600], d_loss: 0.0495, g_loss: 5.8728, D(x): 0.99, D(G(z)): 0.01\n",
            "Epoch [2/50], Step [200/600], d_loss: 0.0504, g_loss: 8.9009, D(x): 0.99, D(G(z)): 0.03\n",
            "Epoch [2/50], Step [400/600], d_loss: 0.0479, g_loss: 8.0369, D(x): 0.98, D(G(z)): 0.00\n",
            "Epoch [2/50], Step [600/600], d_loss: 0.0217, g_loss: 6.4526, D(x): 0.99, D(G(z)): 0.01\n",
            "Epoch [3/50], Step [200/600], d_loss: 0.1306, g_loss: 5.9532, D(x): 0.96, D(G(z)): 0.00\n",
            "Epoch [3/50], Step [400/600], d_loss: 0.0420, g_loss: 7.2407, D(x): 0.98, D(G(z)): 0.00\n",
            "Epoch [3/50], Step [600/600], d_loss: 0.0487, g_loss: 6.5783, D(x): 0.99, D(G(z)): 0.01\n",
            "Epoch [4/50], Step [200/600], d_loss: 0.0349, g_loss: 5.2812, D(x): 0.99, D(G(z)): 0.02\n",
            "Epoch [4/50], Step [400/600], d_loss: 0.4675, g_loss: 3.8476, D(x): 0.95, D(G(z)): 0.27\n",
            "Epoch [4/50], Step [600/600], d_loss: 0.2335, g_loss: 3.6385, D(x): 0.93, D(G(z)): 0.02\n",
            "Epoch [5/50], Step [200/600], d_loss: 0.0232, g_loss: 4.5396, D(x): 0.99, D(G(z)): 0.02\n",
            "Epoch [5/50], Step [400/600], d_loss: 0.1009, g_loss: 4.8786, D(x): 0.96, D(G(z)): 0.01\n",
            "Epoch [5/50], Step [600/600], d_loss: 0.1027, g_loss: 4.1935, D(x): 0.98, D(G(z)): 0.06\n",
            "Epoch [6/50], Step [200/600], d_loss: 0.0389, g_loss: 5.5522, D(x): 0.99, D(G(z)): 0.03\n",
            "Epoch [6/50], Step [400/600], d_loss: 0.0211, g_loss: 6.1550, D(x): 0.99, D(G(z)): 0.01\n",
            "Epoch [6/50], Step [600/600], d_loss: 0.0428, g_loss: 6.3444, D(x): 0.98, D(G(z)): 0.00\n",
            "Epoch [7/50], Step [200/600], d_loss: 0.0618, g_loss: 5.7603, D(x): 0.98, D(G(z)): 0.02\n",
            "Epoch [7/50], Step [400/600], d_loss: 0.0600, g_loss: 8.5892, D(x): 0.97, D(G(z)): 0.02\n",
            "Epoch [7/50], Step [600/600], d_loss: 0.0640, g_loss: 8.2319, D(x): 0.99, D(G(z)): 0.03\n",
            "Epoch [8/50], Step [200/600], d_loss: 0.0169, g_loss: 6.1535, D(x): 1.00, D(G(z)): 0.01\n",
            "Epoch [8/50], Step [400/600], d_loss: 0.0352, g_loss: 7.2202, D(x): 0.98, D(G(z)): 0.00\n",
            "Epoch [8/50], Step [600/600], d_loss: 0.2085, g_loss: 3.6845, D(x): 0.92, D(G(z)): 0.02\n",
            "Epoch [9/50], Step [200/600], d_loss: 0.0821, g_loss: 6.7350, D(x): 0.97, D(G(z)): 0.02\n",
            "Epoch [9/50], Step [400/600], d_loss: 0.1035, g_loss: 6.8069, D(x): 0.98, D(G(z)): 0.04\n",
            "Epoch [9/50], Step [600/600], d_loss: 0.0320, g_loss: 6.1935, D(x): 0.99, D(G(z)): 0.02\n",
            "Epoch [10/50], Step [200/600], d_loss: 0.0562, g_loss: 4.2430, D(x): 0.98, D(G(z)): 0.03\n",
            "Epoch [10/50], Step [400/600], d_loss: 0.0852, g_loss: 5.2511, D(x): 0.96, D(G(z)): 0.03\n",
            "Epoch [10/50], Step [600/600], d_loss: 0.1526, g_loss: 4.4463, D(x): 0.92, D(G(z)): 0.01\n",
            "Epoch [11/50], Step [200/600], d_loss: 0.0947, g_loss: 3.8471, D(x): 0.99, D(G(z)): 0.07\n",
            "Epoch [11/50], Step [400/600], d_loss: 0.2826, g_loss: 4.0805, D(x): 0.98, D(G(z)): 0.16\n",
            "Epoch [11/50], Step [600/600], d_loss: 0.2368, g_loss: 4.4705, D(x): 0.94, D(G(z)): 0.02\n",
            "Epoch [12/50], Step [200/600], d_loss: 0.1206, g_loss: 6.4767, D(x): 0.98, D(G(z)): 0.08\n",
            "Epoch [12/50], Step [400/600], d_loss: 0.1639, g_loss: 3.8855, D(x): 0.98, D(G(z)): 0.11\n",
            "Epoch [12/50], Step [600/600], d_loss: 0.1792, g_loss: 3.9487, D(x): 0.94, D(G(z)): 0.04\n",
            "Epoch [13/50], Step [200/600], d_loss: 0.1063, g_loss: 5.6746, D(x): 0.99, D(G(z)): 0.07\n",
            "Epoch [13/50], Step [400/600], d_loss: 0.2293, g_loss: 5.0811, D(x): 0.94, D(G(z)): 0.09\n",
            "Epoch [13/50], Step [600/600], d_loss: 0.1203, g_loss: 3.8781, D(x): 0.96, D(G(z)): 0.06\n",
            "Epoch [14/50], Step [200/600], d_loss: 0.3539, g_loss: 5.5807, D(x): 0.91, D(G(z)): 0.01\n",
            "Epoch [14/50], Step [400/600], d_loss: 0.1395, g_loss: 3.7055, D(x): 0.96, D(G(z)): 0.07\n",
            "Epoch [14/50], Step [600/600], d_loss: 0.3431, g_loss: 5.3507, D(x): 0.90, D(G(z)): 0.03\n",
            "Epoch [15/50], Step [200/600], d_loss: 0.0437, g_loss: 6.1209, D(x): 0.97, D(G(z)): 0.01\n",
            "Epoch [15/50], Step [400/600], d_loss: 0.2008, g_loss: 6.1290, D(x): 0.93, D(G(z)): 0.02\n",
            "Epoch [15/50], Step [600/600], d_loss: 0.5088, g_loss: 5.1219, D(x): 0.83, D(G(z)): 0.04\n",
            "Epoch [16/50], Step [200/600], d_loss: 0.2670, g_loss: 3.7747, D(x): 0.91, D(G(z)): 0.04\n",
            "Epoch [16/50], Step [400/600], d_loss: 0.2048, g_loss: 3.7489, D(x): 0.93, D(G(z)): 0.08\n",
            "Epoch [16/50], Step [600/600], d_loss: 0.2779, g_loss: 4.0734, D(x): 0.89, D(G(z)): 0.04\n",
            "Epoch [17/50], Step [200/600], d_loss: 0.2060, g_loss: 4.6348, D(x): 0.93, D(G(z)): 0.06\n",
            "Epoch [17/50], Step [400/600], d_loss: 0.2227, g_loss: 4.8654, D(x): 0.91, D(G(z)): 0.03\n",
            "Epoch [17/50], Step [600/600], d_loss: 0.4264, g_loss: 3.3416, D(x): 0.85, D(G(z)): 0.10\n",
            "Epoch [18/50], Step [200/600], d_loss: 0.3373, g_loss: 3.2617, D(x): 0.89, D(G(z)): 0.07\n",
            "Epoch [18/50], Step [400/600], d_loss: 0.2330, g_loss: 5.2885, D(x): 0.92, D(G(z)): 0.05\n",
            "Epoch [18/50], Step [600/600], d_loss: 0.1251, g_loss: 3.4508, D(x): 0.95, D(G(z)): 0.06\n",
            "Epoch [19/50], Step [200/600], d_loss: 0.3109, g_loss: 3.8473, D(x): 0.91, D(G(z)): 0.06\n",
            "Epoch [19/50], Step [400/600], d_loss: 0.3615, g_loss: 3.0230, D(x): 0.90, D(G(z)): 0.11\n",
            "Epoch [19/50], Step [600/600], d_loss: 0.2283, g_loss: 4.0446, D(x): 0.93, D(G(z)): 0.09\n",
            "Epoch [20/50], Step [200/600], d_loss: 0.2849, g_loss: 3.9138, D(x): 0.92, D(G(z)): 0.09\n",
            "Epoch [20/50], Step [400/600], d_loss: 0.3310, g_loss: 3.6757, D(x): 0.89, D(G(z)): 0.06\n",
            "Epoch [20/50], Step [600/600], d_loss: 0.1448, g_loss: 4.1575, D(x): 0.94, D(G(z)): 0.04\n",
            "Epoch [21/50], Step [200/600], d_loss: 0.3731, g_loss: 3.1558, D(x): 0.87, D(G(z)): 0.07\n",
            "Epoch [21/50], Step [400/600], d_loss: 0.3588, g_loss: 2.7655, D(x): 0.89, D(G(z)): 0.06\n",
            "Epoch [21/50], Step [600/600], d_loss: 0.1820, g_loss: 4.7315, D(x): 0.92, D(G(z)): 0.05\n",
            "Epoch [22/50], Step [200/600], d_loss: 0.3019, g_loss: 2.3273, D(x): 0.89, D(G(z)): 0.09\n",
            "Epoch [22/50], Step [400/600], d_loss: 0.3923, g_loss: 3.1391, D(x): 0.86, D(G(z)): 0.08\n",
            "Epoch [22/50], Step [600/600], d_loss: 0.2310, g_loss: 4.0831, D(x): 0.92, D(G(z)): 0.06\n",
            "Epoch [23/50], Step [200/600], d_loss: 0.2644, g_loss: 4.2351, D(x): 0.92, D(G(z)): 0.08\n",
            "Epoch [23/50], Step [400/600], d_loss: 0.1634, g_loss: 4.5288, D(x): 0.93, D(G(z)): 0.04\n",
            "Epoch [23/50], Step [600/600], d_loss: 0.3160, g_loss: 4.2686, D(x): 0.88, D(G(z)): 0.06\n",
            "Epoch [24/50], Step [200/600], d_loss: 0.4309, g_loss: 4.4456, D(x): 0.92, D(G(z)): 0.17\n",
            "Epoch [24/50], Step [400/600], d_loss: 0.4036, g_loss: 3.1320, D(x): 0.97, D(G(z)): 0.23\n",
            "Epoch [24/50], Step [600/600], d_loss: 0.2750, g_loss: 3.6571, D(x): 0.91, D(G(z)): 0.08\n",
            "Epoch [25/50], Step [200/600], d_loss: 0.2336, g_loss: 3.4031, D(x): 0.97, D(G(z)): 0.15\n",
            "Epoch [25/50], Step [400/600], d_loss: 0.6707, g_loss: 2.6446, D(x): 0.82, D(G(z)): 0.07\n",
            "Epoch [25/50], Step [600/600], d_loss: 0.3262, g_loss: 3.3787, D(x): 0.94, D(G(z)): 0.16\n",
            "Epoch [26/50], Step [200/600], d_loss: 0.5294, g_loss: 2.7937, D(x): 0.91, D(G(z)): 0.20\n",
            "Epoch [26/50], Step [400/600], d_loss: 0.2616, g_loss: 4.0089, D(x): 0.92, D(G(z)): 0.08\n",
            "Epoch [26/50], Step [600/600], d_loss: 0.4481, g_loss: 3.4553, D(x): 0.85, D(G(z)): 0.06\n",
            "Epoch [27/50], Step [200/600], d_loss: 0.3114, g_loss: 4.4413, D(x): 0.93, D(G(z)): 0.14\n",
            "Epoch [27/50], Step [400/600], d_loss: 0.3298, g_loss: 2.8753, D(x): 0.88, D(G(z)): 0.07\n",
            "Epoch [27/50], Step [600/600], d_loss: 0.2551, g_loss: 3.8293, D(x): 0.93, D(G(z)): 0.08\n",
            "Epoch [28/50], Step [200/600], d_loss: 0.5201, g_loss: 3.3675, D(x): 0.92, D(G(z)): 0.25\n",
            "Epoch [28/50], Step [400/600], d_loss: 0.4696, g_loss: 3.1458, D(x): 0.91, D(G(z)): 0.18\n",
            "Epoch [28/50], Step [600/600], d_loss: 0.3357, g_loss: 4.4242, D(x): 0.89, D(G(z)): 0.07\n",
            "Epoch [29/50], Step [200/600], d_loss: 0.5342, g_loss: 3.1639, D(x): 0.84, D(G(z)): 0.12\n",
            "Epoch [29/50], Step [400/600], d_loss: 0.4611, g_loss: 3.4133, D(x): 0.86, D(G(z)): 0.11\n",
            "Epoch [29/50], Step [600/600], d_loss: 0.3393, g_loss: 3.5158, D(x): 0.87, D(G(z)): 0.09\n",
            "Epoch [30/50], Step [200/600], d_loss: 0.4555, g_loss: 3.9695, D(x): 0.83, D(G(z)): 0.04\n",
            "Epoch [30/50], Step [400/600], d_loss: 0.3803, g_loss: 3.6808, D(x): 0.87, D(G(z)): 0.09\n",
            "Epoch [30/50], Step [600/600], d_loss: 0.3966, g_loss: 3.8015, D(x): 0.87, D(G(z)): 0.07\n",
            "Epoch [31/50], Step [200/600], d_loss: 0.3240, g_loss: 3.0202, D(x): 0.92, D(G(z)): 0.15\n",
            "Epoch [31/50], Step [400/600], d_loss: 0.3991, g_loss: 3.8493, D(x): 0.87, D(G(z)): 0.08\n",
            "Epoch [31/50], Step [600/600], d_loss: 0.4605, g_loss: 2.8664, D(x): 0.84, D(G(z)): 0.13\n",
            "Epoch [32/50], Step [200/600], d_loss: 0.4568, g_loss: 4.6246, D(x): 0.86, D(G(z)): 0.11\n",
            "Epoch [32/50], Step [400/600], d_loss: 0.5485, g_loss: 4.0305, D(x): 0.82, D(G(z)): 0.06\n",
            "Epoch [32/50], Step [600/600], d_loss: 0.3827, g_loss: 3.7281, D(x): 0.89, D(G(z)): 0.13\n",
            "Epoch [33/50], Step [200/600], d_loss: 0.2414, g_loss: 3.5444, D(x): 0.94, D(G(z)): 0.13\n",
            "Epoch [33/50], Step [400/600], d_loss: 0.2830, g_loss: 3.4721, D(x): 0.89, D(G(z)): 0.06\n",
            "Epoch [33/50], Step [600/600], d_loss: 0.3121, g_loss: 3.2300, D(x): 0.93, D(G(z)): 0.17\n",
            "Epoch [34/50], Step [200/600], d_loss: 0.3378, g_loss: 3.0328, D(x): 0.91, D(G(z)): 0.13\n",
            "Epoch [34/50], Step [400/600], d_loss: 0.4006, g_loss: 3.8583, D(x): 0.85, D(G(z)): 0.04\n",
            "Epoch [34/50], Step [600/600], d_loss: 0.3357, g_loss: 3.6786, D(x): 0.89, D(G(z)): 0.07\n",
            "Epoch [35/50], Step [200/600], d_loss: 0.1631, g_loss: 4.7283, D(x): 0.94, D(G(z)): 0.05\n",
            "Epoch [35/50], Step [400/600], d_loss: 0.4640, g_loss: 2.8752, D(x): 0.89, D(G(z)): 0.12\n",
            "Epoch [35/50], Step [600/600], d_loss: 0.3445, g_loss: 3.1546, D(x): 0.87, D(G(z)): 0.07\n",
            "Epoch [36/50], Step [200/600], d_loss: 0.3253, g_loss: 3.7136, D(x): 0.85, D(G(z)): 0.02\n",
            "Epoch [36/50], Step [400/600], d_loss: 0.3806, g_loss: 3.3726, D(x): 0.92, D(G(z)): 0.20\n",
            "Epoch [36/50], Step [600/600], d_loss: 0.2355, g_loss: 4.6055, D(x): 0.94, D(G(z)): 0.08\n",
            "Epoch [37/50], Step [200/600], d_loss: 0.4390, g_loss: 3.8602, D(x): 0.82, D(G(z)): 0.03\n",
            "Epoch [37/50], Step [400/600], d_loss: 0.2467, g_loss: 3.4035, D(x): 0.91, D(G(z)): 0.07\n",
            "Epoch [37/50], Step [600/600], d_loss: 0.2274, g_loss: 4.3135, D(x): 0.90, D(G(z)): 0.07\n",
            "Epoch [38/50], Step [200/600], d_loss: 0.3271, g_loss: 2.6979, D(x): 0.94, D(G(z)): 0.15\n",
            "Epoch [38/50], Step [400/600], d_loss: 0.4665, g_loss: 2.7721, D(x): 0.86, D(G(z)): 0.11\n",
            "Epoch [38/50], Step [600/600], d_loss: 0.3625, g_loss: 3.0544, D(x): 0.89, D(G(z)): 0.12\n",
            "Epoch [39/50], Step [200/600], d_loss: 0.3443, g_loss: 3.3615, D(x): 0.90, D(G(z)): 0.13\n",
            "Epoch [39/50], Step [400/600], d_loss: 0.4344, g_loss: 3.9314, D(x): 0.82, D(G(z)): 0.05\n",
            "Epoch [39/50], Step [600/600], d_loss: 0.4871, g_loss: 3.7422, D(x): 0.86, D(G(z)): 0.09\n",
            "Epoch [40/50], Step [200/600], d_loss: 0.3760, g_loss: 3.0239, D(x): 0.90, D(G(z)): 0.13\n",
            "Epoch [40/50], Step [400/600], d_loss: 0.3849, g_loss: 3.9758, D(x): 0.88, D(G(z)): 0.11\n",
            "Epoch [40/50], Step [600/600], d_loss: 0.3462, g_loss: 4.3055, D(x): 0.87, D(G(z)): 0.06\n",
            "Epoch [41/50], Step [200/600], d_loss: 0.3362, g_loss: 4.0359, D(x): 0.90, D(G(z)): 0.09\n",
            "Epoch [41/50], Step [400/600], d_loss: 0.2847, g_loss: 3.1614, D(x): 0.90, D(G(z)): 0.05\n",
            "Epoch [41/50], Step [600/600], d_loss: 0.2353, g_loss: 3.7257, D(x): 0.93, D(G(z)): 0.09\n",
            "Epoch [42/50], Step [200/600], d_loss: 0.3140, g_loss: 3.7730, D(x): 0.90, D(G(z)): 0.11\n",
            "Epoch [42/50], Step [400/600], d_loss: 0.4830, g_loss: 3.0715, D(x): 0.89, D(G(z)): 0.19\n",
            "Epoch [42/50], Step [600/600], d_loss: 0.3632, g_loss: 3.5436, D(x): 0.88, D(G(z)): 0.07\n",
            "Epoch [43/50], Step [200/600], d_loss: 0.2425, g_loss: 4.5282, D(x): 0.90, D(G(z)): 0.05\n",
            "Epoch [43/50], Step [400/600], d_loss: 0.3945, g_loss: 3.0564, D(x): 0.91, D(G(z)): 0.15\n",
            "Epoch [43/50], Step [600/600], d_loss: 0.2853, g_loss: 3.3945, D(x): 0.87, D(G(z)): 0.03\n",
            "Epoch [44/50], Step [200/600], d_loss: 0.4284, g_loss: 3.4359, D(x): 0.91, D(G(z)): 0.17\n",
            "Epoch [44/50], Step [400/600], d_loss: 0.2268, g_loss: 5.1538, D(x): 0.92, D(G(z)): 0.05\n",
            "Epoch [44/50], Step [600/600], d_loss: 0.3890, g_loss: 3.7650, D(x): 0.86, D(G(z)): 0.06\n",
            "Epoch [45/50], Step [200/600], d_loss: 0.2526, g_loss: 2.3985, D(x): 0.94, D(G(z)): 0.14\n",
            "Epoch [45/50], Step [400/600], d_loss: 0.3872, g_loss: 3.0329, D(x): 0.90, D(G(z)): 0.13\n",
            "Epoch [45/50], Step [600/600], d_loss: 0.3626, g_loss: 3.7509, D(x): 0.88, D(G(z)): 0.09\n",
            "Epoch [46/50], Step [200/600], d_loss: 0.3889, g_loss: 3.4177, D(x): 0.89, D(G(z)): 0.10\n",
            "Epoch [46/50], Step [400/600], d_loss: 0.5270, g_loss: 3.2884, D(x): 0.78, D(G(z)): 0.04\n",
            "Epoch [46/50], Step [600/600], d_loss: 0.5088, g_loss: 2.3706, D(x): 0.90, D(G(z)): 0.22\n",
            "Epoch [47/50], Step [200/600], d_loss: 0.7113, g_loss: 3.8898, D(x): 0.77, D(G(z)): 0.08\n",
            "Epoch [47/50], Step [400/600], d_loss: 0.6511, g_loss: 1.7695, D(x): 0.86, D(G(z)): 0.24\n",
            "Epoch [47/50], Step [600/600], d_loss: 0.4482, g_loss: 2.4466, D(x): 0.84, D(G(z)): 0.13\n",
            "Epoch [48/50], Step [200/600], d_loss: 0.5114, g_loss: 3.5760, D(x): 0.84, D(G(z)): 0.14\n",
            "Epoch [48/50], Step [400/600], d_loss: 0.5655, g_loss: 2.5999, D(x): 0.82, D(G(z)): 0.12\n",
            "Epoch [48/50], Step [600/600], d_loss: 0.5496, g_loss: 2.5810, D(x): 0.78, D(G(z)): 0.08\n",
            "Epoch [49/50], Step [200/600], d_loss: 0.5586, g_loss: 2.8530, D(x): 0.87, D(G(z)): 0.23\n",
            "Epoch [49/50], Step [400/600], d_loss: 0.4881, g_loss: 2.7563, D(x): 0.83, D(G(z)): 0.12\n",
            "Epoch [49/50], Step [600/600], d_loss: 0.4336, g_loss: 2.6172, D(x): 0.87, D(G(z)): 0.17\n",
            "CPU times: user 6min 56s, sys: 4.46 s, total: 7min 1s\n",
            "Wall time: 7min 1s\n"
          ]
        }
      ]
    },
    {
      "cell_type": "markdown",
      "source": [
        "Plot the Generator and Discriminator losses over training"
      ],
      "metadata": {
        "id": "BD2JUdfFBF2V"
      }
    },
    {
      "cell_type": "code",
      "source": [
        "plt.plot(g_losses, '-')\n",
        "plt.plot(d_losses, '-')\n",
        "plt.xlabel('epoch')\n",
        "plt.ylabel('loss')\n",
        "plt.legend(['Generator', 'Discriminator'])\n",
        "plt.title('Losses');\n",
        "plt.show()"
      ],
      "metadata": {
        "colab": {
          "base_uri": "https://localhost:8080/",
          "height": 295
        },
        "id": "Uvt0wQ0Co-2V",
        "outputId": "fdf3440b-7957-41a9-b15e-279c465248f3"
      },
      "execution_count": 20,
      "outputs": [
        {
          "output_type": "display_data",
          "data": {
            "text/plain": [
              "<Figure size 432x288 with 1 Axes>"
            ],
            "image/png": "[encoded data removed]"
          },
          "metadata": {
            "needs_background": "light"
          }
        }
      ]
    },
    {
      "cell_type": "markdown",
      "source": [
        "Plot the scores (fake and real) over training"
      ],
      "metadata": {
        "id": "kBH_eM82BMOx"
      }
    },
    {
      "cell_type": "code",
      "source": [
        "plt.plot(real_scores, '-')\n",
        "plt.plot(fake_scores, '-')\n",
        "plt.xlabel('epoch')\n",
        "plt.ylabel('scores')\n",
        "plt.legend(['Real', 'Fake'])\n",
        "plt.title('Scores');\n",
        "plt.show()"
      ],
      "metadata": {
        "id": "C2cBDXfoNcvm",
        "colab": {
          "base_uri": "https://localhost:8080/",
          "height": 295
        },
        "outputId": "aaa56308-3679-46cc-8f33-8ca2158eaea8"
      },
      "execution_count": 21,
      "outputs": [
        {
          "output_type": "display_data",
          "data": {
            "text/plain": [
              "<Figure size 432x288 with 1 Axes>"
            ],
            "image/png": "[encoded data removed]"
          },
          "metadata": {
            "needs_background": "light"
          }
        }
      ]
    },
    {
      "cell_type": "markdown",
      "source": [
        "# BONUS"
      ],
      "metadata": {
        "id": "MbliUPpWD5EA"
      }
    },
    {
      "cell_type": "markdown",
      "source": [
        "How would you modify the Discriminator & Generator to better deal with images ? \n",
        "\n",
        "Try and check if you can improve performances ! "
      ],
      "metadata": {
        "id": "j1rlC1aTD8dV"
      }
    }
  ]
}