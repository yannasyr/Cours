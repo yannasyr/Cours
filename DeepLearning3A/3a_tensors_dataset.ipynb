{
  "cells": [
    {
      "cell_type": "markdown",
      "metadata": {
        "id": "2kcx8rVTyKh9"
      },
      "source": [
        "# <center><font color=green align=\"center\"> Introduction to PyTorch</font></center>\n",
        "# <center><font color=blue align=\"center\"> Frameworks, GPU, Tensors and Operations </font></center>\n",
        "\n",
        "\n",
        "(c) Research Group CAMMA, University of Strasbourg<br>\n",
        "Website: http://camma.u-strasbg.fr\n",
        "\n",
        "\n"
      ]
    },
    {
      "cell_type": "markdown",
      "metadata": {
        "id": "ms0W7vggijzN"
      },
      "source": [
        "Welcome to the practical section of the 3rd lecture on deep learning. <br>\n",
        "This exercise is divided into 5 parts. Each part is accompanied by one `TODO` exercise.<br>\n",
        "You also have an additional `Bonus` exercise if you finish very quickly.<br>\n",
        "\n",
        "**Instructions**:\n",
        "* Download \"sample_images\" folder at https://seafile.unistra.fr/d/4fbc31ff7ccc43239080/ and save your google drive folder (./datasets)\n",
        "* Read all the descriptions and code.\n",
        "* Run the pre-completed cells.\n",
        "* Fill in the `TODO`blocks and run the code.\n",
        "* Ensure you are connected to the internet for the notebook image rendering.\n",
        "* Please ask questions if you have any doubts.\n",
        "\n",
        "--------\n"
      ]
    },
    {
      "cell_type": "markdown",
      "metadata": {
        "id": "LvcopXNeijzO"
      },
      "source": [
        "## Part 1:  Introduction to Tensors\n",
        "\n",
        "<img src=\"https://drive.google.com/uc?id=1OTDrP_bwN-JECQ02uRzxXxcomB0cYmpU\" width=\"200\" style=\"margin-right: 100px\" align=\"left\"/>\n",
        "\n",
        "\n",
        "**Objectives**:\n",
        "\n",
        "* 1) To use PyTorch framework and GPU devices \n",
        "* 2)  To create Tensors \n",
        "* 3) To inspect the properties of Tensors such as: data types, shapes, ranks and dimensions\n",
        "\n"
      ]
    },
    {
      "cell_type": "markdown",
      "metadata": {
        "id": "q4tvwNeByKiA"
      },
      "source": [
        "<br>**Import PyTorch Frameworks and other libraries**"
      ]
    },
    {
      "cell_type": "code",
      "execution_count": null,
      "metadata": {
        "id": "N0LjglaCijzP"
      },
      "outputs": [],
      "source": [
        "import torch\n",
        "import os\n",
        "import urllib\n",
        "from zipfile import ZipFile\n",
        "\n",
        "from matplotlib import pyplot as plt\n",
        "import glob\n",
        "\n",
        "import numpy as np\n",
        "import pickle\n",
        "import gzip"
      ]
    },
    {
      "cell_type": "markdown",
      "metadata": {
        "id": "PF9krLHSijzQ"
      },
      "source": [
        "<br>**Check your PyTorch version and GPU**"
      ]
    },
    {
      "cell_type": "code",
      "execution_count": null,
      "metadata": {
        "id": "mfFKDvT9ijzQ"
      },
      "outputs": [],
      "source": [
        "# check the tensorflow version; should be greater than 2.0\n",
        "print(\"PyTorch version: \", torch.__version__)\n",
        "\n",
        "# check the GPU support; should be yes\n",
        "print(\"Is GPU available ?: \", torch.cuda.is_available())\n",
        "\n",
        "# check how many GPU(s) are present\n",
        "print(\"How many GPU(s) ?\", torch.cuda.device_count())\n",
        "\n",
        "# get the information on the gpu:0\n",
        "device0 = torch.device('cuda:0')\n",
        "print(\"Infos :\", torch.cuda.get_device_properties(device0))"
      ]
    },
    {
      "cell_type": "markdown",
      "metadata": {
        "id": "sJfF35tMyKiI"
      },
      "source": [
        "<br><br>**Creating Tenors**\n",
        "- create constant tensor of value 5.0\n",
        "- create a vector tensor with sequential values ranging from 2 to 9\n",
        "- create a 3x4 matrix tensor with zero values.\n",
        "- inpect all their properties (such as:  shape, data type, dimension, rank, etc.)\n",
        "- print their numpy values"
      ]
    },
    {
      "cell_type": "code",
      "execution_count": null,
      "metadata": {
        "id": "eRBpQX0qyKiJ"
      },
      "outputs": [],
      "source": [
        "a = torch.tensor(5.0, dtype=torch.float64)\n",
        "print(a)"
      ]
    },
    {
      "cell_type": "code",
      "execution_count": null,
      "metadata": {
        "id": "Gz6HVpENijzS"
      },
      "outputs": [],
      "source": [
        "b = torch.arange(2,10, dtype=torch.int64)\n",
        "print(b)"
      ]
    },
    {
      "cell_type": "code",
      "execution_count": null,
      "metadata": {
        "id": "FVoZo8OxijzT"
      },
      "outputs": [],
      "source": [
        "c = torch.zeros((3,4), dtype=torch.int32)\n",
        "print(c)"
      ]
    },
    {
      "cell_type": "code",
      "execution_count": null,
      "metadata": {
        "id": "007kmVdwijzT"
      },
      "outputs": [],
      "source": [
        "print(\"Tensor A has a shape of \", (a.shape), \". Its data type is \", (a.dtype) ,\". It is a \", len(a.shape),\"-D tensor.\",\"\\n\", \"-\"*30)\n",
        "print(\"Tensor A has a shape of \", (a.shape), \". Its data type is \", (a.dtype) ,\". It is a \", len(b.shape),\"-D tensor.\",\"\\n\", \"-\"*30)\n",
        "print(\"Tensor A has a shape of \", (b.shape), \". Its data type is \", (b.dtype) ,\". It is a \", len(c.shape),\"-D tensor.\",\"\\n\", \"-\"*30)\n"
      ]
    },
    {
      "cell_type": "code",
      "execution_count": null,
      "metadata": {
        "id": "8h7HFNMgijzT"
      },
      "outputs": [],
      "source": [
        "print(\" A = \", a.numpy(),\"\\n\", \"-\"*30)\n",
        "print(\" B = \", b.numpy(),\"\\n\", \"-\"*30)\n",
        "print(\" C = \\n\", c.numpy(),\"\\n\", \"-\"*30)"
      ]
    },
    {
      "cell_type": "markdown",
      "metadata": {
        "id": "gHsQWfibijzU"
      },
      "source": [
        "#### <font color=red> <br><br><u><b>TODO</b></u> 1:</font>\n",
        "![alt text](https://drive.google.com/uc?id=11u8_8XXjFkqFPVtSS4Q7PW_S3ZxppLaD)\n",
        "- Generate the tensor in the figure. \n",
        "- Generate also a 5x2 tensors with gaussian distributed values.\n",
        "- Finally, generate a boolean list (1,1,0,1,0).\n",
        "- Display their numpy values to confirm.\n",
        "- Inspect the shape and data type of the generated tensors."
      ]
    },
    {
      "cell_type": "code",
      "execution_count": null,
      "metadata": {
        "id": "FIQwlyNtijzV"
      },
      "outputs": [],
      "source": [
        "# Tensor in the figure"
      ]
    },
    {
      "cell_type": "code",
      "execution_count": null,
      "metadata": {
        "id": "5jnoRQ_sijzV"
      },
      "outputs": [],
      "source": [
        "# 5x2 random value tensor"
      ]
    },
    {
      "cell_type": "code",
      "execution_count": null,
      "metadata": {
        "id": "qnZZHjIOijzW"
      },
      "outputs": [],
      "source": [
        "# Boolean tensor with values (1,1,0,1,0)"
      ]
    },
    {
      "cell_type": "code",
      "execution_count": null,
      "metadata": {
        "id": "BhV75zNLijzW"
      },
      "outputs": [],
      "source": [
        "# Tensor values"
      ]
    },
    {
      "cell_type": "code",
      "execution_count": null,
      "metadata": {
        "id": "OCSOyakxijzX"
      },
      "outputs": [],
      "source": [
        "# Tensor properties"
      ]
    },
    {
      "cell_type": "markdown",
      "metadata": {
        "id": "4daDr_89yKiL"
      },
      "source": [
        "<br><hr />\n",
        "\n",
        "## Part 2: Tensor Operations\n",
        "\n",
        "<img src=\"https://developer.nvidia.com/blog/wp-content/uploads/2019/01/Tensor-Core-Matrix.png\" width=\"500\"  style=\"margin-right: 100px\" align=\"left\"/>\n",
        "\n",
        "**Objectives**:\n",
        "\n",
        "- 1) To modify the properties of tensors\n",
        "- 2) To query tensors values and properties\n",
        "- 3) To manipulate the values of tenosrs\n",
        "\n",
        "\n"
      ]
    },
    {
      "cell_type": "markdown",
      "source": [
        "<br><br>**Tensor modification**\n",
        "- Generate a 1D tensor with a sequential values ranging from 0 to 19 and print the values.\n",
        "- Reshape it to 4x5 matrix tensors and inspect the shape and values\n",
        "- Convert to a float tensor and inspect the data type.\n",
        "- Duplicate the tensor and concatenate them side by side and inspect their shapes.\n"
      ],
      "metadata": {
        "id": "eZiqaDBXjGeU"
      }
    },
    {
      "cell_type": "code",
      "execution_count": null,
      "metadata": {
        "id": "dUhLVaVCyKiQ"
      },
      "outputs": [],
      "source": [
        "a = torch.arange(20, dtype=torch.int64)  # if start == 0 and the delta ==1, then you don't need to specify start, and delta.\n",
        "\n",
        "print(\" Shape A = \", a.shape)\n",
        "print(\"------------------------------------------------------------------\")\n",
        "print(\" Value A = \\n\", a.numpy())"
      ]
    },
    {
      "cell_type": "code",
      "execution_count": null,
      "metadata": {
        "id": "ywXocm2RijzY"
      },
      "outputs": [],
      "source": [
        "b = torch.reshape(a, shape=(4,5))\n",
        "\n",
        "print(\" Shape B = \", b.shape)\n",
        "print(\"------------------------------------------------------------------\")\n",
        "print(\" Value B = \\n\", b.numpy())"
      ]
    },
    {
      "cell_type": "code",
      "execution_count": null,
      "metadata": {
        "id": "If4gXOpqijzY"
      },
      "outputs": [],
      "source": [
        "c = b.to(dtype=torch.float64)\n",
        "\n",
        "print(\" Type B = \", b.dtype, \" but Type C = \", c.dtype)"
      ]
    },
    {
      "cell_type": "code",
      "execution_count": null,
      "metadata": {
        "id": "zhaqxp2-ijzY"
      },
      "outputs": [],
      "source": [
        "d = torch.clone(c)\n",
        "e = torch.cat((c,d), axis=1)\n",
        "\n",
        "\n",
        "print(\" Shape D = \", d.shape)\n",
        "print(\" Shape E = \", e.shape)\n",
        "print(\"------------------------------------------------------------------\")\n",
        "print(\" Value E = \\n\", e.numpy())"
      ]
    },
    {
      "cell_type": "markdown",
      "metadata": {
        "id": "SXaGwWEqyKiS"
      },
      "source": [
        "**<br><br>Query Tensor**\n",
        "Continuing with the concatenated tensor (e) in the previous exercise.\n",
        "- Slice the tensor and display only the first column values.\n",
        "- Slice the tensor and display only the last row values.\n",
        "- Slice the tensor and display the values within column 2<sup>nd</sup> - 5<sup>th</sup> and row 1<sup>st</sup> - 3<sup>rd</sup>.\n",
        "- Find the maximum values for each row.\n",
        "- Find the average values for each column.\n",
        "- Find the overall minimum value of the tensor.\n"
      ]
    },
    {
      "cell_type": "code",
      "execution_count": null,
      "metadata": {
        "id": "7k9ZMJ_ByKiT"
      },
      "outputs": [],
      "source": [
        "e1 = e[:,0]\n",
        "print(e1.numpy())"
      ]
    },
    {
      "cell_type": "code",
      "execution_count": null,
      "metadata": {
        "id": "mMhI1qqcijzZ"
      },
      "outputs": [],
      "source": [
        "e2 = e[-1,:]\n",
        "print(e2.numpy())"
      ]
    },
    {
      "cell_type": "code",
      "execution_count": null,
      "metadata": {
        "id": "7wwAqPOCijzZ"
      },
      "outputs": [],
      "source": [
        "e3 = e[0:2, 1:4]\n",
        "print(e3.numpy())"
      ]
    },
    {
      "cell_type": "code",
      "execution_count": null,
      "metadata": {
        "id": "avtZBedVijza"
      },
      "outputs": [],
      "source": [
        "e4 = torch.max(e, axis=1)\n",
        "print(e4, \"\\n\", '-'*20)\n",
        "print(e4.values.numpy(), \"\\n\", '-'*20)"
      ]
    },
    {
      "cell_type": "code",
      "execution_count": null,
      "metadata": {
        "id": "L4moQjvfijza"
      },
      "outputs": [],
      "source": [
        "e5 = torch.mean(e, axis=0)\n",
        "print(e5.numpy())"
      ]
    },
    {
      "cell_type": "code",
      "execution_count": null,
      "metadata": {
        "id": "6FFxW4NAijza"
      },
      "outputs": [],
      "source": [
        "e6 = torch.min(e)\n",
        "print(e6.numpy())"
      ]
    },
    {
      "cell_type": "markdown",
      "metadata": {
        "id": "BXPRA_fTijza"
      },
      "source": [
        "**<br><br>Tensor Operations**\n",
        "\n",
        "Let's implement the following algorithm:\n",
        "- x = a 3x3 matrix tensor of random values.\n",
        "- y = $ 2x^2 + 12$\n",
        "- z = $\\sqrt{y} - cos x$\n",
        "- f = scale z between 0 and 1\n",
        "- print the values.\n",
        "\n"
      ]
    },
    {
      "cell_type": "code",
      "execution_count": null,
      "metadata": {
        "id": "ZPM3fqvNyKiZ"
      },
      "outputs": [],
      "source": [
        "x = torch.rand((3,3), dtype=torch.float32)"
      ]
    },
    {
      "cell_type": "code",
      "execution_count": null,
      "metadata": {
        "id": "7ZQK170Nijza"
      },
      "outputs": [],
      "source": [
        "y = 2 * torch.pow(x,2) + 12.0"
      ]
    },
    {
      "cell_type": "code",
      "execution_count": null,
      "metadata": {
        "id": "hgqWXCgjijza"
      },
      "outputs": [],
      "source": [
        "z = torch.sqrt(y) - torch.cos(x)"
      ]
    },
    {
      "cell_type": "code",
      "execution_count": null,
      "metadata": {
        "id": "VynX2ddBijzb"
      },
      "outputs": [],
      "source": [
        "f = torch.sigmoid(z)"
      ]
    },
    {
      "cell_type": "code",
      "execution_count": null,
      "metadata": {
        "id": "dMbYe93Oijzc"
      },
      "outputs": [],
      "source": [
        "print(\"Value x = \\n\", x.numpy())\n",
        "print(\"------------------------------------------------------------------\")\n",
        "print(\"Value y = \\n\", y.numpy())\n",
        "print(\"------------------------------------------------------------------\")\n",
        "print(\"Value z = \\n\", z.numpy())\n",
        "print(\"------------------------------------------------------------------\")\n",
        "print(\"Value f = \\n\", f.numpy())\n",
        "print(\"------------------------------------------------------------------\")"
      ]
    },
    {
      "cell_type": "markdown",
      "metadata": {
        "id": "FlgL6IWLyKil"
      },
      "source": [
        "#### <font color=red><br><br><u><b>TODO</b></u> 2:</font>\n",
        "- x = generate a 1D tensor of any length with random values. \n",
        "- x = | x * 100 | - 2.0\n",
        "- check that:    $tan(x) = \\frac{sin(x)}{cos(x)}$ .\n",
        "- check that:    sin<sup> 2</sup>(x) + cos<sup>2</sup>(x) = 1 .\n",
        "- print the values and cross check if your answers are correct all the time?"
      ]
    },
    {
      "cell_type": "code",
      "execution_count": null,
      "metadata": {
        "id": "SFPElsixyKim"
      },
      "outputs": [],
      "source": [
        "# Generate x"
      ]
    },
    {
      "cell_type": "code",
      "execution_count": null,
      "metadata": {
        "id": "v8dGrdiLijzd"
      },
      "outputs": [],
      "source": [
        "# Absolute value"
      ]
    },
    {
      "cell_type": "code",
      "execution_count": null,
      "metadata": {
        "id": "6pYuzAsMijzd"
      },
      "outputs": [],
      "source": [
        "# proof 1"
      ]
    },
    {
      "cell_type": "code",
      "execution_count": null,
      "metadata": {
        "id": "jeHXnZkAijzd"
      },
      "outputs": [],
      "source": [
        "# proof 2"
      ]
    },
    {
      "cell_type": "markdown",
      "metadata": {
        "id": "X-ADKtiDyKiq"
      },
      "source": [
        "<br><hr />\n",
        "\n",
        "## Part 3: Functions and Derivatives\n",
        "\n",
        "<img src=\"https://miro.medium.com/max/3040/1*q1M7LGiDTirwU-4LcFq7_Q.png\" width=\"600\" height=\"120\"  style=\"margin-right: 100px\" align=\"left\"/>\n",
        "\n",
        "\n",
        "\n",
        "**Objectives**:\n",
        "\n",
        "- 1) To build a PyTorch function\n",
        "- 2) To automatically differentiate PyTorch functions\n",
        "\n",
        "\n"
      ]
    },
    {
      "cell_type": "markdown",
      "metadata": {
        "id": "m8jUv9isijze"
      },
      "source": [
        "<br><br>**Functions**\n",
        "\n",
        "build the following TensorFlow functions:\n",
        "- $y = 2x^2 + 12$\n",
        "- $f(x, y) = x^3 + x^2y + xy^2 + y^3 + 0.3$"
      ]
    },
    {
      "cell_type": "code",
      "execution_count": null,
      "metadata": {
        "id": "i6qybRvBijze"
      },
      "outputs": [],
      "source": [
        "# define the function\n",
        "def eqn1(x):\n",
        "    return (2.0 * (x**2)) + 12.0\n"
      ]
    },
    {
      "cell_type": "code",
      "execution_count": null,
      "metadata": {
        "id": "SybU5O3Xijze"
      },
      "outputs": [],
      "source": [
        "# define the function\n",
        "def eqn2(x,y):\n",
        "    return (x**3) + (x**2 * y) + (x * y**2) + (y**3) + 0.3\n"
      ]
    },
    {
      "cell_type": "markdown",
      "metadata": {
        "id": "vgzn1-6Yijze"
      },
      "source": [
        "<br><br>**Derivatives**\n",
        "\n",
        "Using `torch.autograde` to compute automatic differentiations of:\n",
        "- $ \\frac{dy}{dx} $ and solve for $x=5.0$.\n",
        "- $ \\frac{df(x,y)}{d_xd_y} $ and solve for $x=2.0,   y=3.0$.\n"
      ]
    },
    {
      "cell_type": "code",
      "execution_count": null,
      "metadata": {
        "id": "d4WP_-c6ijzf"
      },
      "outputs": [],
      "source": [
        "\n",
        "# Given that x = 5.0\n",
        "x = torch.tensor(5., requires_grad=True)\n",
        "\n",
        "y = eqn1(x)\n",
        "y.backward()\n",
        "\n",
        "print(\"\\nFunction ::: f = {} \".format(y.detach().numpy()))\n",
        "print(\"\\nGradient ::: gd = {} \".format(x.grad.numpy()))\n"
      ]
    },
    {
      "cell_type": "code",
      "execution_count": null,
      "metadata": {
        "id": "dEURpedZijzf"
      },
      "outputs": [],
      "source": [
        "\n",
        "# Given that x=2 and y=3\n",
        "x   = torch.tensor(2.0, requires_grad=True)\n",
        "y   = torch.tensor(3.0, requires_grad=True)\n",
        "\n",
        "f = eqn2(x,y)\n",
        "f.backward()\n",
        "\n",
        "print(f)\n",
        "print(y.grad)\n"
      ]
    },
    {
      "cell_type": "code",
      "execution_count": null,
      "metadata": {
        "id": "FKRTOd15ijzf"
      },
      "outputs": [],
      "source": [
        "\n",
        "# Given that x=2 and y=3\n",
        "x   = torch.tensor(2.0, requires_grad=True)\n",
        "y   = torch.tensor(3.0, requires_grad=True)\n",
        "\n",
        "\n",
        "# Gradients\n",
        "f = eqn2(x,y)\n",
        "f.backward()\n",
        "\n",
        "print(\"\\nFunction  ::: f(x,y) = {}\".format(f.detach().numpy()))\n",
        "print(\"\\nGradients ::: df/dx = {} and df/dy = {} \".format(x.grad.numpy(), y.grad.numpy()))\n"
      ]
    },
    {
      "cell_type": "markdown",
      "metadata": {
        "id": "UoVwBomLijzg"
      },
      "source": [
        "#### <font color=red><br><br><u><b>TODO</b></u> 3:</font>\n",
        "\n",
        "Given the function :\n",
        "###  $g =  \\frac{1}{1+e^{-(w_0 x_0 + w_1 x_1 + w_2)}}$\n",
        "\n",
        "- Implement the function and find the gradients of all variables given that <br>: $w_0=4.0$ ,  $x_0=1.0$ ,  $w_1=2.0$ ,  $x_1=-1.0$ ,  $w_2=-3.0$.\n",
        "- Compare your answer from the lecture 2."
      ]
    },
    {
      "cell_type": "code",
      "execution_count": null,
      "metadata": {
        "id": "kTIF08GZijzg"
      },
      "outputs": [],
      "source": [
        "# define function"
      ]
    },
    {
      "cell_type": "code",
      "execution_count": null,
      "metadata": {
        "id": "0zoD1F61ijzg"
      },
      "outputs": [],
      "source": [
        "# Define the given the values   "
      ]
    },
    {
      "cell_type": "code",
      "execution_count": null,
      "metadata": {
        "id": "bUFQTkUzijzg"
      },
      "outputs": [],
      "source": [
        "# Compute the gradients"
      ]
    },
    {
      "cell_type": "code",
      "execution_count": null,
      "metadata": {
        "id": "2JEBZrLPijzh"
      },
      "outputs": [],
      "source": [
        "# print the results"
      ]
    },
    {
      "cell_type": "markdown",
      "metadata": {
        "id": "T9QGzIJgyKjB"
      },
      "source": [
        "<br>\n",
        "<br>\n",
        "<br><hr />\n",
        "\n",
        "## Part 4: Image Manipulation\n",
        "\n",
        "<img src=\"https://drive.google.com/uc?id=13Uwu2cUmk_j2OXtYSNxsQRig1PgE2Rk3\" width=\"300\" height=\"120\"  style=\"margin-right: 100px\" align=\"left\"/>\n",
        "\n",
        "**Objectives**:\n",
        "\n",
        "- 1) To load and display images\n",
        "- 2) To learn image to tensor conversion\n",
        "- 3) To learn image processing\n",
        "- 4) To learn image data augmentation\n",
        "\n",
        "\n"
      ]
    },
    {
      "cell_type": "markdown",
      "metadata": {
        "id": "DHshpWewijzh"
      },
      "source": [
        "<br><br>**Download data**\n",
        "\n",
        "Let's download the image dataset we will be using for this task."
      ]
    },
    {
      "cell_type": "code",
      "execution_count": null,
      "metadata": {
        "id": "NPv5pcsYijzh"
      },
      "outputs": [],
      "source": [
        "# First, prepare the image\n",
        "from google.colab import drive\n",
        "drive.mount('/content/drive')\n",
        "filepath='/content/drive/MyDrive/datasets/sample_images/' # add your own path. Where to save the dataset"
      ]
    },
    {
      "cell_type": "markdown",
      "metadata": {
        "id": "oP8i5Hk6ijzh"
      },
      "source": [
        "<br><br>**Loading and dispalying image data**"
      ]
    },
    {
      "cell_type": "code",
      "execution_count": null,
      "metadata": {
        "id": "Ps2AzENwijzh"
      },
      "outputs": [],
      "source": [
        "# read image file\n",
        "icube_img = plt.imread(filepath+\"icube.jpg\")\n",
        "\n",
        "# display image\n",
        "plt.imshow(icube_img)\n",
        "\n",
        "# check the image shape\n",
        "print(icube_img.shape)"
      ]
    },
    {
      "cell_type": "markdown",
      "metadata": {
        "id": "Ioz1Cj8Hijzh"
      },
      "source": [
        "<br><br>**Convert image to tensor**"
      ]
    },
    {
      "cell_type": "code",
      "execution_count": null,
      "metadata": {
        "id": "UnygkEGTijzh"
      },
      "outputs": [],
      "source": [
        "import torchvision.transforms.functional as TF\n",
        "from torchvision.transforms import ToTensor, ToPILImage, Grayscale\n",
        "icube_tensor = ToTensor()(icube_img)\n",
        "\n",
        "# display the tensor image\n",
        "plt.imshow(ToPILImage()(icube_tensor))"
      ]
    },
    {
      "cell_type": "markdown",
      "metadata": {
        "id": "tn2cH5aNijzi"
      },
      "source": [
        "<br><br>**Image processing**\n",
        "\n",
        "We have learnt how to manipulate images in the class. Let's practice here.\n",
        "    \n",
        " - img  = Read the image of flower\n",
        " - img1 = Rotate by 90 degrees\n",
        " - img2 = transpose image\n",
        " - img3 = flip vertically\n",
        " - img4 = resize (shrink) 10 times smaller than original size\n",
        " - img5 = crop 30% of the center\n",
        " - img6 = Can you crop exactly only the flower? using `tf.image.crop_to_bounding_box?` (_Do only 3 trials and proceed to next task_)"
      ]
    },
    {
      "cell_type": "code",
      "execution_count": null,
      "metadata": {
        "id": "hxAJne5yijzi"
      },
      "outputs": [],
      "source": [
        "\n",
        "img = plt.imread(filepath+\"flower.jpg\")\n",
        "\n",
        "# convert to tensor variable\n",
        "img = ToTensor()(img)\n",
        "print(\"Image shape = \",img.shape)\n",
        "\n",
        "# rotate\n",
        "img1 = TF.rotate(img, angle=75)\n",
        "\n",
        "# Transpose\n",
        "img2 = TF.vflip(TF.hflip(img))\n",
        "\n",
        "# Vertical flipping\n",
        "img3 = TF.vflip(img)\n",
        "\n",
        "# shrink img x 10\n",
        "img4 = TF.resize(img, (43, 78))\n",
        "\n",
        "# Crop 30% in the middle\n",
        "img5 = TF.center_crop(img, 100)\n"
      ]
    },
    {
      "cell_type": "code",
      "execution_count": null,
      "metadata": {
        "id": "K6pkWYhKijzi"
      },
      "outputs": [],
      "source": [
        "# plot the images\n",
        "fig = plt.figure(figsize=(35,7))\n",
        "fig.add_subplot(1, 7, 1); plt.imshow(ToPILImage()(img))\n",
        "fig.add_subplot(1, 7, 2); plt.imshow(ToPILImage()(img1))\n",
        "fig.add_subplot(1, 7, 3); plt.imshow(ToPILImage()(img2))\n",
        "fig.add_subplot(1, 7, 4); plt.imshow(ToPILImage()(img3))\n",
        "fig.add_subplot(1, 7, 5); plt.imshow(ToPILImage()(img4))\n",
        "fig.add_subplot(1, 7, 6); plt.imshow(ToPILImage()(img5))\n",
        "plt.show()"
      ]
    },
    {
      "cell_type": "markdown",
      "metadata": {
        "id": "cUYrTitnijzi"
      },
      "source": [
        "#### <font color=red><br><br><u><b>TODO</b></u> 4:</font>\n",
        "\n",
        "- Read and display the image of petite-france.jpg\n",
        "- Transform it to a grayscale image ( PS: to display, slice the channel as img[:, :, 0] )\n",
        "- Add the brightness\n"
      ]
    },
    {
      "cell_type": "code",
      "execution_count": null,
      "metadata": {
        "id": "A4teq8Dtijzj"
      },
      "outputs": [],
      "source": [
        "# Read and display image : petite-france.jpg"
      ]
    },
    {
      "cell_type": "code",
      "execution_count": null,
      "metadata": {
        "id": "MOLuKctMijzj"
      },
      "outputs": [],
      "source": [
        "# convert to grayscale\n",
        "\n",
        "\n",
        "# display grayscale image\n",
        "\n"
      ]
    },
    {
      "cell_type": "code",
      "execution_count": null,
      "metadata": {
        "id": "YTMMkKjRijzj"
      },
      "outputs": [],
      "source": [
        "# adjust image brightness\n",
        "\n",
        "\n",
        "# display brightened image\n",
        "\n"
      ]
    },
    {
      "cell_type": "markdown",
      "metadata": {
        "id": "0dG-AR1TyKjV"
      },
      "source": [
        "<br>\n",
        "<br>\n",
        "<br><hr />\n",
        "\n",
        "## Part 5: Dataset and input pipeline\n",
        "\n",
        "<img src=\"https://storage.googleapis.com/jalammar-ml/tf.data/images/tf.data.png\" width=\"500\" height=\"120\"  style=\"margin-right: 100px\" align=\"left\"/>\n",
        "\n",
        "**Objectives**:\n",
        "\n",
        "- 1) To build a simple dataset.\n",
        "- 2) To build an image dataset.\n",
        "- 3) To perform basic dataset operations.\n",
        "- 4) To build PyTorch dataset input pipeline for deep learning models."
      ]
    },
    {
      "cell_type": "markdown",
      "metadata": {
        "id": "6jyGkOFJijzk"
      },
      "source": [
        "<br><br>**Simple dataset**\n",
        "\n",
        "- Generate a dataset of sequential numbers\n",
        "- access the items in the dataset"
      ]
    },
    {
      "cell_type": "code",
      "execution_count": null,
      "metadata": {
        "id": "cEWxxNjuijzk"
      },
      "outputs": [],
      "source": [
        "# Make a dataset of few numbers\n",
        "dataset = torch.arange(10)\n",
        "\n",
        "# Check the contents of the dataset:\n",
        "for elem in dataset:\n",
        "    print(elem.numpy())"
      ]
    },
    {
      "cell_type": "code",
      "execution_count": null,
      "metadata": {
        "id": "FTfafkWGijzk"
      },
      "outputs": [],
      "source": [
        "# Repeat the dataset 3x\n",
        "repeated_dataset = dataset.repeat(3)\n",
        "\n",
        "# display\n",
        "for elem in repeated_dataset:\n",
        "    print(elem.numpy())"
      ]
    },
    {
      "cell_type": "code",
      "execution_count": null,
      "metadata": {
        "id": "nruZ2eQ5ijzk"
      },
      "outputs": [],
      "source": [
        "# Make a sub dataset (front)\n",
        "new_dataset = dataset[0:3]\n",
        "\n",
        "# display\n",
        "for elem in new_dataset:\n",
        "    print(elem.numpy())"
      ]
    },
    {
      "cell_type": "code",
      "execution_count": null,
      "metadata": {
        "id": "mqXhbvD8ijzl"
      },
      "outputs": [],
      "source": [
        "# we can iterate and read the dataset one-by-one\n",
        "it = iter(dataset)"
      ]
    },
    {
      "cell_type": "code",
      "execution_count": null,
      "metadata": {
        "id": "Lxfr2E3Bijzl"
      },
      "outputs": [],
      "source": [
        "# print one by one.\n",
        "print(next(it).numpy())\n",
        "print(next(it).numpy())\n",
        "print(next(it).numpy())"
      ]
    },
    {
      "cell_type": "markdown",
      "metadata": {
        "id": "CoyqmGPDijzl"
      },
      "source": [
        "<br><br>**Image dataset**\n",
        "\n",
        "- We have downloaded a cat and dog dataset.\n",
        "- Let's transform the data to a PyTorch dataset."
      ]
    },
    {
      "cell_type": "code",
      "execution_count": null,
      "metadata": {
        "id": "QKIynmQqijzl"
      },
      "outputs": [],
      "source": [
        "# The cat & dog dataset (https://seafile.unistra.fr/f/ca6dc3c7823f44b4a769/?dl=1)\n",
        "f = gzip.open('/content/drive/MyDrive/datasets/td_catsdogs2000_u8.pkl.gz', 'rb')\n",
        "cat_dog_dataset = pickle.load(f,encoding='bytes')\n",
        "\n",
        "print(cat_dog_dataset[0].shape)\n",
        "print(cat_dog_dataset[1].shape)\n",
        "f.close()"
      ]
    },
    {
      "cell_type": "code",
      "execution_count": null,
      "metadata": {
        "id": "MX4WYT3Dijzl"
      },
      "outputs": [],
      "source": [
        "# Check some images and labels\n",
        "img_idx = (30, 75, 1500, 895)\n",
        "for i, idx in enumerate(img_idx):\n",
        "    plt.subplot(1,len(img_idx),i+1)\n",
        "    plt.imshow(cat_dog_dataset[0][idx])\n",
        "    plt.title(cat_dog_dataset[1][idx])"
      ]
    },
    {
      "cell_type": "code",
      "execution_count": null,
      "metadata": {
        "id": "DPsHJGxwijzm"
      },
      "outputs": [],
      "source": [
        "#Recovers the cats & dogs images from the gzip file\n",
        "#and creates train and test subfolders\n",
        "from PIL import Image\n",
        "import pandas as pd \n",
        "\n",
        "os.makedirs('dataset/td_catsdogs2000/train/')\n",
        "os.makedirs('dataset/td_catsdogs2000/test/')\n",
        "train_split = 0.8\n",
        "train_samp = np.round(cat_dog_dataset[0].shape[0]*train_split)\n",
        "\n",
        "for idx in np.arange(cat_dog_dataset[0].shape[0]): \n",
        "    im = Image.fromarray(cat_dog_dataset[0][idx])\n",
        "    label = cat_dog_dataset[1][idx]\n",
        "    if label == 0:\n",
        "        im_label = 'cat'\n",
        "    else:\n",
        "        im_label = 'dog'    \n",
        "    if idx <= train_samp : \n",
        "        destdir = 'train'\n",
        "    else:\n",
        "        destdir = 'test'\n",
        "    im.save(\"dataset/td_catsdogs2000/{}/{}_{}.png\".format(destdir,im_label,idx))\n",
        "\n",
        "print('Images treatment done')"
      ]
    },
    {
      "cell_type": "code",
      "execution_count": null,
      "metadata": {
        "id": "i3_bc-ncijzm"
      },
      "outputs": [],
      "source": [
        "#Creates the cvs files for the train and test datasets\n",
        "\n",
        "train_df = pd.DataFrame(columns=['img_name', 'label'])\n",
        "test_df = pd.DataFrame(columns=['img_name', 'label'])\n",
        "train_df['img_name'] = os.listdir('dataset/td_catsdogs2000/train/')\n",
        "test_df['img_name'] =  os.listdir('dataset/td_catsdogs2000/test/')\n",
        "\n",
        "for idx, i in enumerate(os.listdir(\"dataset/td_catsdogs2000/train/\")): \n",
        "    if 'cat' in i : \n",
        "        label = 0\n",
        "    else :\n",
        "        label = 1\n",
        "    train_df['label'][idx] = label\n",
        "for idx, i in enumerate(os.listdir('dataset/td_catsdogs2000/test/')):\n",
        "    if 'cat' in i : \n",
        "        label = 0\n",
        "    else :\n",
        "        label = 1\n",
        "    train_df['label'][idx] = label \n",
        "\n",
        "train_df.to_csv(r'train_csv.csv', index=False, header=True)\n",
        "test_df.to_csv(r'test_csv.csv', index=False, header=True)    \n",
        "    \n",
        "print('Done')"
      ]
    },
    {
      "cell_type": "code",
      "execution_count": null,
      "metadata": {
        "id": "2nCuFA_eijzm"
      },
      "outputs": [],
      "source": [
        "# Create custom dataset\n",
        "from torch.utils.data import Dataset\n",
        "\n",
        "class CatsDogsDataset(Dataset):\n",
        "    \"\"\"Cats and Dogs dataset.\"\"\"\n",
        "\n",
        "    def __init__(self, root_dir, annotation_file, transform=None):\n",
        "        \"\"\"\n",
        "        Args:\n",
        "            root_dir (string): Directory with all the images.\n",
        "            annotation_file : cvs file with the image names & the labels \n",
        "            transform (callable, optional): Optional transform to be applied\n",
        "                on a sample.\n",
        "        \"\"\"\n",
        "    #TODO\n",
        "\n",
        "    def __len__(self):\n",
        "    #TODO\n",
        "\n",
        "    def __getitem__(self, idx):\n",
        "    #TODO"
      ]
    },
    {
      "cell_type": "markdown",
      "metadata": {
        "id": "iYRugAynijzn"
      },
      "source": [
        "<br><br>**PyTorch dataset input pipeline**\n",
        "\n",
        "- Let prepare an PyTorch input pipeline with the train dataset\n",
        "- Iteratively read the image and labels as needed by deep learning model"
      ]
    },
    {
      "cell_type": "code",
      "execution_count": null,
      "metadata": {
        "id": "6wrbmmhgijzn"
      },
      "outputs": [],
      "source": [
        "#create a trasnformation pipeline (at least to create a torch.tensor from image + one random transformation)\n",
        "#TODO\n",
        "\n",
        "\n",
        "# create train & test datasets (display the number of elements in each dataset)\n",
        "#TODO"
      ]
    },
    {
      "cell_type": "code",
      "execution_count": null,
      "metadata": {
        "id": "mIVwPMwQijzn"
      },
      "outputs": [],
      "source": [
        "# Display a random train image multiple time (each time with the same image)\n",
        "#TODO"
      ]
    },
    {
      "cell_type": "markdown",
      "metadata": {
        "id": "C2CvetiNyKj7"
      },
      "source": [
        "<br><br><hr />\n",
        "# Bonus Exercises\n",
        "You can complete the following bonus exercises to better understand the concepts. "
      ]
    },
    {
      "cell_type": "markdown",
      "metadata": {
        "id": "tJs7PCbtyKj8"
      },
      "source": [
        "\n",
        "<hr />\n",
        "\n",
        "### **Bonus 1:**\n",
        "<hr />\n",
        " \n",
        "<font color=red> \n",
        "\n",
        "[comment]: <> (<img src=\"notebook_images/todo_ops.jpg\"/>)\n",
        "![alt text](https://drive.google.com/uc?id=137e0qQpty0PF7LlBiaQEOgxhWbktL1j0)\n",
        "\n",
        "Following the activities in the figure:\n",
        "    \n",
        "- a = using `torch.arange` generate tensors from 0... 23.\n",
        "- b = using `torch.reshape` reshape it to a 4 x 6 tensor as shown\n",
        "- c = slice the upper part\n",
        "- d = slice the lower part\n",
        "- e = using `torch.concat` along `axis=1` to join the two slices as shown\n",
        "- f = figure out and code the operation going on in the axis=1\n",
        "- g = figure out and code the operation going on in the axis=0\n",
        "    \n",
        "</font>"
      ]
    },
    {
      "cell_type": "code",
      "execution_count": null,
      "metadata": {
        "id": "0fY_6oN9yKj8"
      },
      "outputs": [],
      "source": [
        "# TODO (print every step)"
      ]
    },
    {
      "cell_type": "markdown",
      "metadata": {
        "id": "JQNnvUoZyKj-"
      },
      "source": [
        "<br>\n",
        "<hr />\n",
        "\n",
        "\n",
        "### **Bonus 2:**\n",
        "<hr />\n",
        "\n",
        "- A. Given the function :\n",
        "### $f = -3x^3 + 2x^2 - x + \\frac{1}{2}\\sqrt{x}$\n",
        "    - Find the derivative  $ \\frac{df}{dx} $ and solve for $x=3.7$.\n",
        "    \n",
        "</font>"
      ]
    },
    {
      "cell_type": "code",
      "execution_count": null,
      "metadata": {
        "id": "nTrWvFQNyKj-"
      },
      "outputs": [],
      "source": [
        "# Bonus 2:"
      ]
    },
    {
      "cell_type": "markdown",
      "metadata": {
        "id": "eFjJAMjkyKkA"
      },
      "source": [
        "<br>\n",
        "<hr />\n",
        "\n",
        "### **Bonus 3:**\n",
        "<hr />\n",
        "\n",
        "<font color=red> \n",
        "\n",
        "- Generate a 2D 9x9 tensor with random values.\n",
        "- Normalize the tensor such that the values of each row sums to 1.\n",
        "- Show that they actually sum to 1.\n",
        "    \n",
        "</font>"
      ]
    },
    {
      "cell_type": "code",
      "execution_count": null,
      "metadata": {
        "id": "RNW4Yv0LyKkA"
      },
      "outputs": [],
      "source": [
        "# Bonus 3 "
      ]
    },
    {
      "cell_type": "markdown",
      "metadata": {
        "id": "aFexTmeRyKkD"
      },
      "source": [
        "<hr />\n",
        "\n",
        "### **Bonus 4:**\n",
        "<hr />\n",
        "\n",
        "[comment]: <> (<img src=\"notebook_images/ff1.jpg\"/>)\n",
        "![alt text](https://drive.google.com/uc?id=1MFsndZAPpsgu8iW6kO3KEiVEvON0jJR5)\n",
        "\n",
        "As shown in the figure beside:\n",
        "- Given a 2D 3x5 tensor with int values.\n",
        "- Slice the tensor to have a new tensor consisting of ONLY the 1st, 3rd and 5th columns of the tensor.\n",
        "    \n",
        "</font>"
      ]
    },
    {
      "cell_type": "code",
      "execution_count": null,
      "metadata": {
        "id": "3TXwlkDSyKkD"
      },
      "outputs": [],
      "source": [
        "# Bonus 4 :"
      ]
    },
    {
      "cell_type": "markdown",
      "metadata": {
        "id": "9xhh36j8yKkL"
      },
      "source": [
        "<hr />\n",
        "\n",
        "### **Bonus 5:**\n",
        "<hr />\n",
        "\n",
        "<font color=red> \n",
        "\n",
        "- Read the image of the car (dataset/sample_images/car.jpg)\n",
        "- Augment it to have 5 different images; you can use rotation, transpose, vertical and horizontal flipping, resize\n",
        "\n",
        "    \n",
        "</font>"
      ]
    },
    {
      "cell_type": "code",
      "execution_count": null,
      "metadata": {
        "id": "f72XD7GVyKkL"
      },
      "outputs": [],
      "source": [
        "# Bonus 6:"
      ]
    },
    {
      "cell_type": "markdown",
      "metadata": {
        "id": "qtM1ufMbyKkR"
      },
      "source": [
        "<hr /><hr />\n",
        "\n",
        "### <font color=green> Congratulations!! this is end of first part </font> "
      ]
    }
  ],
  "metadata": {
    "accelerator": "GPU",
    "colab": {
      "collapsed_sections": [],
      "provenance": []
    },
    "kernelspec": {
      "display_name": "Python 3 (ipykernel)",
      "language": "python",
      "name": "python3"
    },
    "language_info": {
      "codemirror_mode": {
        "name": "ipython",
        "version": 3
      },
      "file_extension": ".py",
      "mimetype": "text/x-python",
      "name": "python",
      "nbconvert_exporter": "python",
      "pygments_lexer": "ipython3",
      "version": "3.8.11"
    }
  },
  "nbformat": 4,
  "nbformat_minor": 0
}