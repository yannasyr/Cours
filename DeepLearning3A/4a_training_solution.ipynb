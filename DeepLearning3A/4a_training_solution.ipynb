{
  "cells": [
    {
      "cell_type": "markdown",
      "metadata": {
        "id": "9WLMNhNzrvZN"
      },
      "source": [
        "Training CNNs *(solution)*\n",
        "================\n",
        "------\n",
        "**Deep Learning for Computer Vision**<br>\n",
        "(c) Research Group CAMMA, University of Strasbourg<br>\n",
        "Website: http://camma.u-strasbg.fr/\n",
        "-----"
      ]
    },
    {
      "cell_type": "markdown",
      "metadata": {
        "id": "zbLH0TzEea85"
      },
      "source": [
        "In this lab session we will go over the detailed implementation of a training loop for a CNN model.\n",
        "\n",
        "Those *highly repetitive* exercises are meant to train your fundamentals, without the comfort of high-level APIs. \n",
        "\n",
        "You will have to identify overfitting scenarios and adjust your training process accordingly using the methods presented during the lecture.\n",
        "\n",
        "**Instructions**\n",
        "\n",
        "Import RPS dataset (https://seafile.unistra.fr/f/2d58c54203e6435fbf22/?dl=1) in your google drive 'datasets' folder."
      ]
    },
    {
      "cell_type": "markdown",
      "metadata": {
        "id": "FT6F_xd_UfVr"
      },
      "source": [
        "# GPU activation\n",
        "\n",
        "Be sure to have cuda enabled from your computer."
      ]
    },
    {
      "cell_type": "markdown",
      "metadata": {
        "id": "_51fkJmjea86"
      },
      "source": [
        "# Imports"
      ]
    },
    {
      "cell_type": "code",
      "execution_count": 1,
      "metadata": {
        "colab": {
          "base_uri": "https://localhost:8080/"
        },
        "id": "atijLt93ea87",
        "outputId": "b125255b-c7be-4d14-bd78-9b5ef09fc75f",
        "scrolled": true
      },
      "outputs": [
        {
          "name": "stdout",
          "output_type": "stream",
          "text": [
            "PyTorch version:  1.13.1+cpu\n",
            "torchvision version:  0.14.1+cpu\n",
            "Is GPU available?:  False\n"
          ]
        }
      ],
      "source": [
        "import torch\n",
        "import torch.nn as nn\n",
        "from torch.utils.data import Dataset, DataLoader, Subset\n",
        "import torchvision\n",
        "from torchvision.transforms import ToTensor, ToPILImage, Resize\n",
        "\n",
        "\n",
        "import matplotlib.pyplot as plt\n",
        "import importlib as ipl\n",
        "import numpy as np\n",
        "import random\n",
        "import pickle\n",
        "import os\n",
        "import urllib\n",
        "from timeit import default_timer as timer\n",
        "import gc\n",
        "from zipfile import ZipFile\n",
        "\n",
        "# check the PyTorch version; \n",
        "print(\"PyTorch version: \", torch.__version__)\n",
        "print(\"torchvision version: \", torchvision.__version__)\n",
        "\n",
        "# check the GPU support; shold be yes\n",
        "print(\"Is GPU available?: \", torch.cuda.is_available())"
      ]
    },
    {
      "cell_type": "markdown",
      "metadata": {
        "id": "arPXK1_dUFsO"
      },
      "source": [
        "The next cells will prepare the dataset you will be working on."
      ]
    },
    {
      "cell_type": "code",
      "execution_count": null,
      "metadata": {
        "colab": {
          "base_uri": "https://localhost:8080/"
        },
        "id": "-QWGxhW1IwOf",
        "outputId": "66a9bc5f-c9ef-412b-97d0-6b705798fc78"
      },
      "outputs": [
        {
          "name": "stdout",
          "output_type": "stream",
          "text": [
            "Drive already mounted at /content/drive; to attempt to forcibly remount, call drive.mount(\"/content/drive\", force_remount=True).\n",
            "Files extracted and folder RPS created.\n"
          ]
        }
      ],
      "source": [
        "from google.colab import drive\n",
        "drive.mount('/content/drive')\n",
        "filepath='RPS'\n",
        "with ZipFile('/content/drive/MyDrive/datasets/RPS.zip', 'r') as zf:\n",
        "  zf.extractall('RPS/')\n",
        "  print(\"Files extracted and folder {} created.\".format(filepath))"
      ]
    },
    {
      "cell_type": "markdown",
      "metadata": {
        "id": "GlISZeotrvZa"
      },
      "source": [
        "# Dataset"
      ]
    },
    {
      "cell_type": "markdown",
      "metadata": {
        "id": "8FCC_id6rvZj"
      },
      "source": [
        "We will be packaging the data into the following PyTorch datasets with a batch size of 16 for speed and convenience."
      ]
    },
    {
      "cell_type": "code",
      "execution_count": 3,
      "metadata": {
        "colab": {
          "base_uri": "https://localhost:8080/"
        },
        "id": "xc3GwTz2rvZk",
        "outputId": "94209933-b364-44fa-dd00-53976a3fbcbb"
      },
      "outputs": [
        {
          "name": "stdout",
          "output_type": "stream",
          "text": [
            "['paper', 'rock', 'scissors']\n",
            "87\n",
            "[tensor([[[[0.1771, 0.1784, 0.1831,  ..., 0.3786, 0.3706, 0.3758],\n",
            "          [0.1711, 0.1768, 0.1775,  ..., 0.2085, 0.2092, 0.2151],\n",
            "          [0.1723, 0.1750, 0.1760,  ..., 0.1754, 0.1726, 0.1876],\n",
            "          ...,\n",
            "          [0.1876, 0.1932, 0.1941,  ..., 0.1984, 0.1917, 0.1915],\n",
            "          [0.1928, 0.1964, 0.2006,  ..., 0.1941, 0.1915, 0.1922],\n",
            "          [0.1928, 0.1981, 0.2067,  ..., 0.1867, 0.1981, 0.1961]],\n",
            "\n",
            "         [[0.5778, 0.5823, 0.5804,  ..., 0.4172, 0.4058, 0.4046],\n",
            "          [0.5751, 0.5840, 0.5837,  ..., 0.4911, 0.4897, 0.4820],\n",
            "          [0.5793, 0.5829, 0.5839,  ..., 0.5049, 0.5015, 0.4982],\n",
            "          ...,\n",
            "          [0.5891, 0.5971, 0.5980,  ..., 0.6080, 0.6113, 0.6013],\n",
            "          [0.5967, 0.6003, 0.6029,  ..., 0.6050, 0.6092, 0.6017],\n",
            "          [0.5967, 0.6020, 0.6006,  ..., 0.6045, 0.6059, 0.6039]],\n",
            "\n",
            "         [[0.2661, 0.2784, 0.2679,  ..., 0.1753, 0.1706, 0.1725],\n",
            "          [0.2611, 0.2685, 0.2669,  ..., 0.1791, 0.1804, 0.1830],\n",
            "          [0.2625, 0.2652, 0.2662,  ..., 0.1794, 0.1766, 0.1859],\n",
            "          ...,\n",
            "          [0.2401, 0.2481, 0.2490,  ..., 0.2752, 0.2819, 0.2752],\n",
            "          [0.2479, 0.2526, 0.2557,  ..., 0.2716, 0.2792, 0.2755],\n",
            "          [0.2491, 0.2608, 0.2627,  ..., 0.2679, 0.2726, 0.2771]]],\n",
            "\n",
            "\n",
            "        [[[0.3379, 0.3156, 0.2965,  ..., 0.0745, 0.0726, 0.0673],\n",
            "          [0.3308, 0.3188, 0.2937,  ..., 0.0745, 0.0726, 0.0619],\n",
            "          [0.3375, 0.3252, 0.2965,  ..., 0.0692, 0.0683, 0.0598],\n",
            "          ...,\n",
            "          [0.3894, 0.3975, 0.3784,  ..., 0.1038, 0.1038, 0.0949],\n",
            "          [0.3876, 0.3954, 0.3742,  ..., 0.0993, 0.0990, 0.0922],\n",
            "          [0.3909, 0.3919, 0.3671,  ..., 0.1059, 0.1040, 0.0954]],\n",
            "\n",
            "         [[0.3581, 0.3391, 0.3200,  ..., 0.3686, 0.3686, 0.3589],\n",
            "          [0.3532, 0.3407, 0.3172,  ..., 0.3686, 0.3686, 0.3534],\n",
            "          [0.3580, 0.3453, 0.3196,  ..., 0.3719, 0.3715, 0.3547],\n",
            "          ...,\n",
            "          [0.3767, 0.3817, 0.3579,  ..., 0.3793, 0.3793, 0.3663],\n",
            "          [0.3724, 0.3790, 0.3512,  ..., 0.3758, 0.3755, 0.3622],\n",
            "          [0.3745, 0.3723, 0.3442,  ..., 0.3725, 0.3706, 0.3556]],\n",
            "\n",
            "         [[0.1575, 0.1352, 0.1161,  ..., 0.0739, 0.0667, 0.0595],\n",
            "          [0.1553, 0.1368, 0.1133,  ..., 0.0744, 0.0684, 0.0595],\n",
            "          [0.1645, 0.1500, 0.1218,  ..., 0.0749, 0.0730, 0.0628],\n",
            "          ...,\n",
            "          [0.1700, 0.1719, 0.1509,  ..., 0.0920, 0.0920, 0.0831],\n",
            "          [0.1700, 0.1695, 0.1467,  ..., 0.0863, 0.0860, 0.0791],\n",
            "          [0.1700, 0.1645, 0.1396,  ..., 0.0863, 0.0843, 0.0758]]],\n",
            "\n",
            "\n",
            "        [[[0.1412, 0.1412, 0.1345,  ..., 0.1379, 0.1393, 0.1470],\n",
            "          [0.1357, 0.1395, 0.1368,  ..., 0.1374, 0.1327, 0.1290],\n",
            "          [0.1366, 0.1378, 0.1397,  ..., 0.1406, 0.1358, 0.1331],\n",
            "          ...,\n",
            "          [0.1248, 0.1216, 0.1298,  ..., 0.1281, 0.1231, 0.1249],\n",
            "          [0.1259, 0.1219, 0.1250,  ..., 0.1293, 0.1272, 0.1320],\n",
            "          [0.1313, 0.1236, 0.1255,  ..., 0.1288, 0.1255, 0.1320]],\n",
            "\n",
            "         [[0.4863, 0.4863, 0.4863,  ..., 0.4673, 0.4687, 0.4634],\n",
            "          [0.4814, 0.4879, 0.4863,  ..., 0.4733, 0.4703, 0.4634],\n",
            "          [0.4847, 0.4868, 0.4887,  ..., 0.4778, 0.4750, 0.4687],\n",
            "          ...,\n",
            "          [0.4817, 0.4784, 0.4842,  ..., 0.3118, 0.3035, 0.2979],\n",
            "          [0.4827, 0.4791, 0.4819,  ..., 0.3138, 0.3088, 0.3028],\n",
            "          [0.4882, 0.4824, 0.4829,  ..., 0.3171, 0.3137, 0.3040]],\n",
            "\n",
            "         [[0.1686, 0.1686, 0.1620,  ..., 0.1418, 0.1432, 0.1509],\n",
            "          [0.1538, 0.1587, 0.1544,  ..., 0.1380, 0.1350, 0.1438],\n",
            "          [0.1524, 0.1540, 0.1578,  ..., 0.1406, 0.1377, 0.1477],\n",
            "          ...,\n",
            "          [0.1470, 0.1373, 0.1497,  ..., 0.0626, 0.0643, 0.0619],\n",
            "          [0.1465, 0.1376, 0.1473,  ..., 0.0643, 0.0677, 0.0666],\n",
            "          [0.1438, 0.1393, 0.1478,  ..., 0.0661, 0.0627, 0.0660]]],\n",
            "\n",
            "\n",
            "        ...,\n",
            "\n",
            "\n",
            "        [[[0.3372, 0.3097, 0.2953,  ..., 0.0778, 0.0726, 0.0641],\n",
            "          [0.3263, 0.3113, 0.2902,  ..., 0.0773, 0.0709, 0.0641],\n",
            "          [0.3366, 0.3274, 0.3012,  ..., 0.0805, 0.0735, 0.0665],\n",
            "          ...,\n",
            "          [0.3863, 0.3876, 0.3643,  ..., 0.0815, 0.0818, 0.0748],\n",
            "          [0.3856, 0.3852, 0.3564,  ..., 0.0802, 0.0814, 0.0732],\n",
            "          [0.3817, 0.3803, 0.3559,  ..., 0.0863, 0.0863, 0.0798]],\n",
            "\n",
            "         [[0.3738, 0.3528, 0.3318,  ..., 0.3804, 0.3785, 0.3634],\n",
            "          [0.3656, 0.3528, 0.3290,  ..., 0.3827, 0.3768, 0.3634],\n",
            "          [0.3698, 0.3585, 0.3318,  ..., 0.3864, 0.3794, 0.3658],\n",
            "          ...,\n",
            "          [0.3824, 0.3862, 0.3677,  ..., 0.3952, 0.3956, 0.3820],\n",
            "          [0.3829, 0.3858, 0.3603,  ..., 0.3920, 0.3932, 0.3785],\n",
            "          [0.3856, 0.3842, 0.3598,  ..., 0.3882, 0.3882, 0.3752]],\n",
            "\n",
            "         [[0.1803, 0.1548, 0.1424,  ..., 0.0824, 0.0804, 0.0719],\n",
            "          [0.1721, 0.1565, 0.1373,  ..., 0.0846, 0.0788, 0.0719],\n",
            "          [0.1768, 0.1654, 0.1449,  ..., 0.0860, 0.0814, 0.0743],\n",
            "          ...,\n",
            "          [0.1817, 0.1822, 0.1614,  ..., 0.1128, 0.1132, 0.1062],\n",
            "          [0.1816, 0.1816, 0.1564,  ..., 0.1090, 0.1108, 0.1033],\n",
            "          [0.1811, 0.1783, 0.1559,  ..., 0.1020, 0.1058, 0.1033]]],\n",
            "\n",
            "\n",
            "        [[[0.1824, 0.1902, 0.1882,  ..., 0.4588, 0.4627, 0.4536],\n",
            "          [0.1747, 0.1787, 0.1867,  ..., 0.2510, 0.2520, 0.2621],\n",
            "          [0.1756, 0.1794, 0.1873,  ..., 0.2107, 0.2102, 0.2255],\n",
            "          ...,\n",
            "          [0.1893, 0.1904, 0.1938,  ..., 0.1467, 0.1525, 0.1475],\n",
            "          [0.1934, 0.1961, 0.1987,  ..., 0.1460, 0.1494, 0.1515],\n",
            "          [0.2000, 0.1960, 0.1922,  ..., 0.1445, 0.1412, 0.1477]],\n",
            "\n",
            "         [[0.5706, 0.5784, 0.5765,  ..., 0.4941, 0.4960, 0.4915],\n",
            "          [0.5728, 0.5768, 0.5765,  ..., 0.5858, 0.5881, 0.5870],\n",
            "          [0.5756, 0.5779, 0.5769,  ..., 0.6029, 0.6043, 0.6053],\n",
            "          ...,\n",
            "          [0.5854, 0.5859, 0.5888,  ..., 0.5175, 0.5133, 0.5083],\n",
            "          [0.5889, 0.5902, 0.5915,  ..., 0.5154, 0.5121, 0.5126],\n",
            "          [0.5922, 0.5902, 0.5882,  ..., 0.5071, 0.5137, 0.5105]],\n",
            "\n",
            "         [[0.2550, 0.2705, 0.2600,  ..., 0.2314, 0.2333, 0.2353],\n",
            "          [0.2522, 0.2574, 0.2585,  ..., 0.2539, 0.2547, 0.2583],\n",
            "          [0.2540, 0.2564, 0.2587,  ..., 0.2578, 0.2573, 0.2627],\n",
            "          ...,\n",
            "          [0.2296, 0.2301, 0.2355,  ..., 0.2048, 0.2049, 0.1985],\n",
            "          [0.2359, 0.2373, 0.2386,  ..., 0.2028, 0.2017, 0.2027],\n",
            "          [0.2392, 0.2372, 0.2353,  ..., 0.1967, 0.2000, 0.2000]]],\n",
            "\n",
            "\n",
            "        [[[0.1405, 0.1373, 0.1273,  ..., 0.1418, 0.1451, 0.1549],\n",
            "          [0.1318, 0.1323, 0.1179,  ..., 0.1337, 0.1254, 0.1400],\n",
            "          [0.1291, 0.1271, 0.1230,  ..., 0.1343, 0.1346, 0.1439],\n",
            "          ...,\n",
            "          [0.1280, 0.1333, 0.1388,  ..., 0.1451, 0.1451, 0.1436],\n",
            "          [0.1296, 0.1343, 0.1379,  ..., 0.1457, 0.1457, 0.1485],\n",
            "          [0.1307, 0.1393, 0.1412,  ..., 0.1490, 0.1490, 0.1490]],\n",
            "\n",
            "         [[0.4849, 0.4784, 0.4784,  ..., 0.4890, 0.4824, 0.4824],\n",
            "          [0.4899, 0.4899, 0.4855,  ..., 0.4862, 0.4791, 0.4758],\n",
            "          [0.4899, 0.4878, 0.4913,  ..., 0.4879, 0.4900, 0.4831],\n",
            "          ...,\n",
            "          [0.5393, 0.5431, 0.5471,  ..., 0.5065, 0.5098, 0.4985],\n",
            "          [0.5413, 0.5438, 0.5457,  ..., 0.5071, 0.5104, 0.5034],\n",
            "          [0.5418, 0.5471, 0.5490,  ..., 0.5104, 0.5137, 0.5040]],\n",
            "\n",
            "         [[0.1830, 0.1765, 0.1731,  ..., 0.1596, 0.1529, 0.1660],\n",
            "          [0.1858, 0.1913, 0.1751,  ..., 0.1535, 0.1464, 0.1561],\n",
            "          [0.1848, 0.1869, 0.1820,  ..., 0.1545, 0.1567, 0.1628],\n",
            "          ...,\n",
            "          [0.1981, 0.2019, 0.2126,  ..., 0.1870, 0.1804, 0.1821],\n",
            "          [0.2003, 0.2039, 0.2114,  ..., 0.1877, 0.1810, 0.1870],\n",
            "          [0.2020, 0.2138, 0.2157,  ..., 0.1910, 0.1843, 0.1876]]]]), tensor([0, 0, 0, 1, 1, 1, 0, 2, 0, 1, 2, 2, 2, 0, 0, 1, 1, 1, 2, 2, 0, 1, 0, 2,\n",
            "        2, 1, 2, 1, 0, 0, 1, 2])]\n"
          ]
        }
      ],
      "source": [
        "filepath='rps'\n",
        "transform = torchvision.transforms.Compose([\n",
        "    ToTensor(),\n",
        "    Resize(size=(224,224)),\n",
        "])\n",
        "\n",
        "full_dataset = torchvision.datasets.ImageFolder(root=filepath, transform=transform)\n",
        "class_names = full_dataset.classes\n",
        "print(class_names)\n",
        "\n",
        "items = np.random.permutation(len(full_dataset))\n",
        "val_ratio = 0.1\n",
        "test_ratio = 0.1\n",
        "train_items = items[0:int((1.0-val_ratio-test_ratio)*len(full_dataset))]\n",
        "val_items = items[int((1.0-val_ratio-test_ratio)*len(full_dataset)):int((1.0-test_ratio)*len(full_dataset))]\n",
        "test_items = items[int((1.0-test_ratio)*len(full_dataset)):-1]\n",
        "\n",
        "train_dataset = Subset(full_dataset, train_items)\n",
        "val_dataset = Subset(full_dataset, val_items)\n",
        "test_dataset = Subset(full_dataset, test_items)\n",
        "\n",
        "BATCH_SIZE = 32\n",
        "full_dataloader = DataLoader(train_dataset, batch_size=BATCH_SIZE, shuffle=True)\n",
        "\n",
        "train_dataloader = DataLoader(train_dataset, batch_size=BATCH_SIZE, shuffle=True)\n",
        "val_dataloader = DataLoader(val_dataset, batch_size=BATCH_SIZE, shuffle=False)\n",
        "test_dataloader = DataLoader(test_dataset, batch_size=BATCH_SIZE, shuffle=False)\n",
        "\n",
        "train_small_indices = np.random.permutation(train_items[0:int(0.05*len(train_items))])\n",
        "train_small_dataset = Subset(full_dataset, train_small_indices)\n",
        "train_small_dataloader = DataLoader(train_small_dataset, batch_size=BATCH_SIZE, shuffle=True)\n",
        "print(len(train_small_dataset))\n",
        "print(next(iter(train_small_dataloader)))"
      ]
    },
    {
      "cell_type": "markdown",
      "metadata": {
        "id": "CPJCJ-18rvZe"
      },
      "source": [
        "x, y = dataset[index] \n",
        "\n",
        "Labels (y_...) 0, 1, 2 correspond to paper, rock and scissors respectively.\n",
        "Images (x_...) are (224, 224, 3) numpy arrays."
      ]
    },
    {
      "cell_type": "markdown",
      "metadata": {
        "id": "bA5-HlOirvZf"
      },
      "source": [
        "### TODO 1: Preview 8 images from the training set. Display the type of move (rock, paper or scissors) in the title. Any comments?"
      ]
    },
    {
      "cell_type": "code",
      "execution_count": 4,
      "metadata": {
        "colab": {
          "base_uri": "https://localhost:8080/",
          "height": 123
        },
        "id": "hJbO_Q2V7Zhn",
        "outputId": "de0aa13d-4e35-44f2-d4f8-5daf1b10d9f8"
      },
      "outputs": [
        {
          "data": {
            "text/plain": [
              "Text(0.5, 1.0, \"['rock', 'paper', 'scissors', 'scissors', 'scissors', 'paper', 'scissors', 'rock']\")"
            ]
          },
          "execution_count": 4,
          "metadata": {},
          "output_type": "execute_result"
        },
        {
          "data": {
            "image/png": "[encoded data removed]",
            "text/plain": [
              "<Figure size 640x480 with 1 Axes>"
            ]
          },
          "metadata": {},
          "output_type": "display_data"
        }
      ],
      "source": [
        "# Get a batch of training data\n",
        "inputs, classes = next(iter(train_dataloader))\n",
        "\n",
        "# Make a grid from batch\n",
        "out = torchvision.utils.make_grid(inputs[0:8])\n",
        "\n",
        "plt.imshow(ToPILImage()(out))\n",
        "plt.title([class_names[x] for x in classes[0:8]])"
      ]
    },
    {
      "cell_type": "markdown",
      "metadata": {
        "id": "QDRmojPfrvZn"
      },
      "source": [
        "# Model"
      ]
    },
    {
      "cell_type": "markdown",
      "metadata": {
        "id": "WkJFamVUrvZo"
      },
      "source": [
        "The model is provided in the following cell. Pay attention to the syntax: in *__init__* we define the layers with their properties. In *forward* we establish the sequence of function calls that turns inputs (batch of images) into predictions (batch of class probabilities). Each one of the layer objects behaves like a function."
      ]
    },
    {
      "cell_type": "code",
      "execution_count": 5,
      "metadata": {
        "id": "nwWolXLarvZo"
      },
      "outputs": [],
      "source": [
        "class CNN(nn.Module):\n",
        "    def __init__(self):\n",
        "        super().__init__()\n",
        "        self.conv_1 = nn.Conv2d(in_channels=3, out_channels=8, kernel_size=5)\n",
        "        self.max_pool_1 = nn.MaxPool2d(kernel_size=5)\n",
        "        self.conv_2 = nn.Conv2d(in_channels=8, out_channels=16, kernel_size=3)\n",
        "        self._flatten = nn.Flatten()\n",
        "        self._dense_1 = nn.Linear(in_features=28224, out_features=2048)\n",
        "        self._dense_2 = nn.Linear(in_features=2048, out_features=4096)\n",
        "        self._dense_3 = nn.Linear(in_features=4096, out_features=3)\n",
        "        self._relu = nn.ReLU()\n",
        "        \n",
        "    def forward(self, x):\n",
        "        x = self._relu(self.conv_1(x))\n",
        "        x = self.max_pool_1(x)\n",
        "        x = self._relu(self.conv_2(x))\n",
        "        x = self._flatten(x)\n",
        "        x = nn.ReLU()(self._dense_1(x))\n",
        "        x = nn.ReLU()(self._dense_2(x))\n",
        "        x = self._dense_3(x)\n",
        "        return x"
      ]
    },
    {
      "cell_type": "markdown",
      "metadata": {
        "id": "k0uCRRpFrvZs"
      },
      "source": [
        "Here we create a CNN model, as well as a save for its parameters from which you'll restart throughout the lab."
      ]
    },
    {
      "cell_type": "code",
      "execution_count": 6,
      "metadata": {
        "colab": {
          "base_uri": "https://localhost:8080/"
        },
        "id": "6sNRjaQarvZs",
        "outputId": "ae9b0f6e-1f9e-406e-a28a-dbab5e6c5a26"
      },
      "outputs": [
        {
          "ename": "AssertionError",
          "evalue": "Torch not compiled with CUDA enabled",
          "output_type": "error",
          "traceback": [
            "\u001b[1;31m---------------------------------------------------------------------------\u001b[0m",
            "\u001b[1;31mAssertionError\u001b[0m                            Traceback (most recent call last)",
            "Input \u001b[1;32mIn [6]\u001b[0m, in \u001b[0;36m<cell line: 2>\u001b[1;34m()\u001b[0m\n\u001b[0;32m      1\u001b[0m cnn_0 \u001b[38;5;241m=\u001b[39m CNN()\n\u001b[1;32m----> 2\u001b[0m cnn_0 \u001b[38;5;241m=\u001b[39m \u001b[43mcnn_0\u001b[49m\u001b[38;5;241;43m.\u001b[39;49m\u001b[43mto\u001b[49m\u001b[43m(\u001b[49m\u001b[38;5;124;43m'\u001b[39;49m\u001b[38;5;124;43mcuda:0\u001b[39;49m\u001b[38;5;124;43m'\u001b[39;49m\u001b[43m)\u001b[49m\n\u001b[0;32m      3\u001b[0m inp \u001b[38;5;241m=\u001b[39m torch\u001b[38;5;241m.\u001b[39mzeros([\u001b[38;5;241m5\u001b[39m,\u001b[38;5;241m3\u001b[39m,\u001b[38;5;241m224\u001b[39m,\u001b[38;5;241m224\u001b[39m])\u001b[38;5;241m.\u001b[39mto(\u001b[38;5;124m'\u001b[39m\u001b[38;5;124mcuda:0\u001b[39m\u001b[38;5;124m'\u001b[39m) \u001b[38;5;66;03m# create \"fake\" input to run cnn_0 a first time, for allocation (starting point)\u001b[39;00m\n\u001b[0;32m      4\u001b[0m \u001b[38;5;28mprint\u001b[39m(inp\u001b[38;5;241m.\u001b[39mtype())\n",
            "File \u001b[1;32mc:\\Users\\kille\\AppData\\Local\\Programs\\Python\\Python310\\lib\\site-packages\\torch\\nn\\modules\\module.py:989\u001b[0m, in \u001b[0;36mModule.to\u001b[1;34m(self, *args, **kwargs)\u001b[0m\n\u001b[0;32m    985\u001b[0m         \u001b[38;5;28;01mreturn\u001b[39;00m t\u001b[38;5;241m.\u001b[39mto(device, dtype \u001b[38;5;28;01mif\u001b[39;00m t\u001b[38;5;241m.\u001b[39mis_floating_point() \u001b[38;5;129;01mor\u001b[39;00m t\u001b[38;5;241m.\u001b[39mis_complex() \u001b[38;5;28;01melse\u001b[39;00m \u001b[38;5;28;01mNone\u001b[39;00m,\n\u001b[0;32m    986\u001b[0m                     non_blocking, memory_format\u001b[38;5;241m=\u001b[39mconvert_to_format)\n\u001b[0;32m    987\u001b[0m     \u001b[38;5;28;01mreturn\u001b[39;00m t\u001b[38;5;241m.\u001b[39mto(device, dtype \u001b[38;5;28;01mif\u001b[39;00m t\u001b[38;5;241m.\u001b[39mis_floating_point() \u001b[38;5;129;01mor\u001b[39;00m t\u001b[38;5;241m.\u001b[39mis_complex() \u001b[38;5;28;01melse\u001b[39;00m \u001b[38;5;28;01mNone\u001b[39;00m, non_blocking)\n\u001b[1;32m--> 989\u001b[0m \u001b[38;5;28;01mreturn\u001b[39;00m \u001b[38;5;28;43mself\u001b[39;49m\u001b[38;5;241;43m.\u001b[39;49m\u001b[43m_apply\u001b[49m\u001b[43m(\u001b[49m\u001b[43mconvert\u001b[49m\u001b[43m)\u001b[49m\n",
            "File \u001b[1;32mc:\\Users\\kille\\AppData\\Local\\Programs\\Python\\Python310\\lib\\site-packages\\torch\\nn\\modules\\module.py:641\u001b[0m, in \u001b[0;36mModule._apply\u001b[1;34m(self, fn)\u001b[0m\n\u001b[0;32m    639\u001b[0m \u001b[38;5;28;01mdef\u001b[39;00m \u001b[38;5;21m_apply\u001b[39m(\u001b[38;5;28mself\u001b[39m, fn):\n\u001b[0;32m    640\u001b[0m     \u001b[38;5;28;01mfor\u001b[39;00m module \u001b[38;5;129;01min\u001b[39;00m \u001b[38;5;28mself\u001b[39m\u001b[38;5;241m.\u001b[39mchildren():\n\u001b[1;32m--> 641\u001b[0m         \u001b[43mmodule\u001b[49m\u001b[38;5;241;43m.\u001b[39;49m\u001b[43m_apply\u001b[49m\u001b[43m(\u001b[49m\u001b[43mfn\u001b[49m\u001b[43m)\u001b[49m\n\u001b[0;32m    643\u001b[0m     \u001b[38;5;28;01mdef\u001b[39;00m \u001b[38;5;21mcompute_should_use_set_data\u001b[39m(tensor, tensor_applied):\n\u001b[0;32m    644\u001b[0m         \u001b[38;5;28;01mif\u001b[39;00m torch\u001b[38;5;241m.\u001b[39m_has_compatible_shallow_copy_type(tensor, tensor_applied):\n\u001b[0;32m    645\u001b[0m             \u001b[38;5;66;03m# If the new tensor has compatible tensor type as the existing tensor,\u001b[39;00m\n\u001b[0;32m    646\u001b[0m             \u001b[38;5;66;03m# the current behavior is to change the tensor in-place using `.data =`,\u001b[39;00m\n\u001b[1;32m   (...)\u001b[0m\n\u001b[0;32m    651\u001b[0m             \u001b[38;5;66;03m# global flag to let the user control whether they want the future\u001b[39;00m\n\u001b[0;32m    652\u001b[0m             \u001b[38;5;66;03m# behavior of overwriting the existing tensor or not.\u001b[39;00m\n",
            "File \u001b[1;32mc:\\Users\\kille\\AppData\\Local\\Programs\\Python\\Python310\\lib\\site-packages\\torch\\nn\\modules\\module.py:664\u001b[0m, in \u001b[0;36mModule._apply\u001b[1;34m(self, fn)\u001b[0m\n\u001b[0;32m    660\u001b[0m \u001b[38;5;66;03m# Tensors stored in modules are graph leaves, and we don't want to\u001b[39;00m\n\u001b[0;32m    661\u001b[0m \u001b[38;5;66;03m# track autograd history of `param_applied`, so we have to use\u001b[39;00m\n\u001b[0;32m    662\u001b[0m \u001b[38;5;66;03m# `with torch.no_grad():`\u001b[39;00m\n\u001b[0;32m    663\u001b[0m \u001b[38;5;28;01mwith\u001b[39;00m torch\u001b[38;5;241m.\u001b[39mno_grad():\n\u001b[1;32m--> 664\u001b[0m     param_applied \u001b[38;5;241m=\u001b[39m \u001b[43mfn\u001b[49m\u001b[43m(\u001b[49m\u001b[43mparam\u001b[49m\u001b[43m)\u001b[49m\n\u001b[0;32m    665\u001b[0m should_use_set_data \u001b[38;5;241m=\u001b[39m compute_should_use_set_data(param, param_applied)\n\u001b[0;32m    666\u001b[0m \u001b[38;5;28;01mif\u001b[39;00m should_use_set_data:\n",
            "File \u001b[1;32mc:\\Users\\kille\\AppData\\Local\\Programs\\Python\\Python310\\lib\\site-packages\\torch\\nn\\modules\\module.py:987\u001b[0m, in \u001b[0;36mModule.to.<locals>.convert\u001b[1;34m(t)\u001b[0m\n\u001b[0;32m    984\u001b[0m \u001b[38;5;28;01mif\u001b[39;00m convert_to_format \u001b[38;5;129;01mis\u001b[39;00m \u001b[38;5;129;01mnot\u001b[39;00m \u001b[38;5;28;01mNone\u001b[39;00m \u001b[38;5;129;01mand\u001b[39;00m t\u001b[38;5;241m.\u001b[39mdim() \u001b[38;5;129;01min\u001b[39;00m (\u001b[38;5;241m4\u001b[39m, \u001b[38;5;241m5\u001b[39m):\n\u001b[0;32m    985\u001b[0m     \u001b[38;5;28;01mreturn\u001b[39;00m t\u001b[38;5;241m.\u001b[39mto(device, dtype \u001b[38;5;28;01mif\u001b[39;00m t\u001b[38;5;241m.\u001b[39mis_floating_point() \u001b[38;5;129;01mor\u001b[39;00m t\u001b[38;5;241m.\u001b[39mis_complex() \u001b[38;5;28;01melse\u001b[39;00m \u001b[38;5;28;01mNone\u001b[39;00m,\n\u001b[0;32m    986\u001b[0m                 non_blocking, memory_format\u001b[38;5;241m=\u001b[39mconvert_to_format)\n\u001b[1;32m--> 987\u001b[0m \u001b[38;5;28;01mreturn\u001b[39;00m \u001b[43mt\u001b[49m\u001b[38;5;241;43m.\u001b[39;49m\u001b[43mto\u001b[49m\u001b[43m(\u001b[49m\u001b[43mdevice\u001b[49m\u001b[43m,\u001b[49m\u001b[43m \u001b[49m\u001b[43mdtype\u001b[49m\u001b[43m \u001b[49m\u001b[38;5;28;43;01mif\u001b[39;49;00m\u001b[43m \u001b[49m\u001b[43mt\u001b[49m\u001b[38;5;241;43m.\u001b[39;49m\u001b[43mis_floating_point\u001b[49m\u001b[43m(\u001b[49m\u001b[43m)\u001b[49m\u001b[43m \u001b[49m\u001b[38;5;129;43;01mor\u001b[39;49;00m\u001b[43m \u001b[49m\u001b[43mt\u001b[49m\u001b[38;5;241;43m.\u001b[39;49m\u001b[43mis_complex\u001b[49m\u001b[43m(\u001b[49m\u001b[43m)\u001b[49m\u001b[43m \u001b[49m\u001b[38;5;28;43;01melse\u001b[39;49;00m\u001b[43m \u001b[49m\u001b[38;5;28;43;01mNone\u001b[39;49;00m\u001b[43m,\u001b[49m\u001b[43m \u001b[49m\u001b[43mnon_blocking\u001b[49m\u001b[43m)\u001b[49m\n",
            "File \u001b[1;32mc:\\Users\\kille\\AppData\\Local\\Programs\\Python\\Python310\\lib\\site-packages\\torch\\cuda\\__init__.py:221\u001b[0m, in \u001b[0;36m_lazy_init\u001b[1;34m()\u001b[0m\n\u001b[0;32m    217\u001b[0m     \u001b[38;5;28;01mraise\u001b[39;00m \u001b[38;5;167;01mRuntimeError\u001b[39;00m(\n\u001b[0;32m    218\u001b[0m         \u001b[38;5;124m\"\u001b[39m\u001b[38;5;124mCannot re-initialize CUDA in forked subprocess. To use CUDA with \u001b[39m\u001b[38;5;124m\"\u001b[39m\n\u001b[0;32m    219\u001b[0m         \u001b[38;5;124m\"\u001b[39m\u001b[38;5;124mmultiprocessing, you must use the \u001b[39m\u001b[38;5;124m'\u001b[39m\u001b[38;5;124mspawn\u001b[39m\u001b[38;5;124m'\u001b[39m\u001b[38;5;124m start method\u001b[39m\u001b[38;5;124m\"\u001b[39m)\n\u001b[0;32m    220\u001b[0m \u001b[38;5;28;01mif\u001b[39;00m \u001b[38;5;129;01mnot\u001b[39;00m \u001b[38;5;28mhasattr\u001b[39m(torch\u001b[38;5;241m.\u001b[39m_C, \u001b[38;5;124m'\u001b[39m\u001b[38;5;124m_cuda_getDeviceCount\u001b[39m\u001b[38;5;124m'\u001b[39m):\n\u001b[1;32m--> 221\u001b[0m     \u001b[38;5;28;01mraise\u001b[39;00m \u001b[38;5;167;01mAssertionError\u001b[39;00m(\u001b[38;5;124m\"\u001b[39m\u001b[38;5;124mTorch not compiled with CUDA enabled\u001b[39m\u001b[38;5;124m\"\u001b[39m)\n\u001b[0;32m    222\u001b[0m \u001b[38;5;28;01mif\u001b[39;00m _cudart \u001b[38;5;129;01mis\u001b[39;00m \u001b[38;5;28;01mNone\u001b[39;00m:\n\u001b[0;32m    223\u001b[0m     \u001b[38;5;28;01mraise\u001b[39;00m \u001b[38;5;167;01mAssertionError\u001b[39;00m(\n\u001b[0;32m    224\u001b[0m         \u001b[38;5;124m\"\u001b[39m\u001b[38;5;124mlibcudart functions unavailable. It looks like you have a broken build?\u001b[39m\u001b[38;5;124m\"\u001b[39m)\n",
            "\u001b[1;31mAssertionError\u001b[0m: Torch not compiled with CUDA enabled"
          ]
        }
      ],
      "source": [
        "device = 'cpu'\n",
        "cnn_0 = CNN()\n",
        "cnn_0 = cnn_0.to(device)\n",
        "inp = torch.zeros([5,3,224,224]).to(device) # create \"fake\" input to run cnn_0 a first time, for allocation (starting point)\n",
        "print(inp.type())\n",
        "sample = cnn_0(inp)\n",
        "print(sample)"
      ]
    },
    {
      "cell_type": "markdown",
      "metadata": {
        "id": "9Pch9Px1rvZv"
      },
      "source": [
        "Here is an overview of the model's architecture:"
      ]
    },
    {
      "cell_type": "code",
      "execution_count": null,
      "metadata": {
        "colab": {
          "base_uri": "https://localhost:8080/"
        },
        "id": "Ebp6L2kqrvZv",
        "outputId": "fc9b6350-332b-4ddf-f820-1a119e7b9967"
      },
      "outputs": [
        {
          "name": "stdout",
          "output_type": "stream",
          "text": [
            "----------------------------------------------------------------\n",
            "        Layer (type)               Output Shape         Param #\n",
            "================================================================\n",
            "            Conv2d-1          [-1, 8, 220, 220]             608\n",
            "              ReLU-2          [-1, 8, 220, 220]               0\n",
            "         MaxPool2d-3            [-1, 8, 44, 44]               0\n",
            "            Conv2d-4           [-1, 16, 42, 42]           1,168\n",
            "              ReLU-5           [-1, 16, 42, 42]               0\n",
            "           Flatten-6                [-1, 28224]               0\n",
            "            Linear-7                 [-1, 2048]      57,804,800\n",
            "            Linear-8                 [-1, 4096]       8,392,704\n",
            "            Linear-9                    [-1, 3]          12,291\n",
            "================================================================\n",
            "Total params: 66,211,571\n",
            "Trainable params: 66,211,571\n",
            "Non-trainable params: 0\n",
            "----------------------------------------------------------------\n",
            "Input size (MB): 0.57\n",
            "Forward/backward pass size (MB): 6.72\n",
            "Params size (MB): 252.58\n",
            "Estimated Total Size (MB): 259.87\n",
            "----------------------------------------------------------------\n"
          ]
        }
      ],
      "source": [
        "from torchsummary import summary\n",
        "summary(cnn_0, (3, 224, 224))    # provide \"summary\" with model and input data size"
      ]
    },
    {
      "cell_type": "markdown",
      "metadata": {
        "id": "cN2RXLmmoLQY"
      },
      "source": [
        "This - *incomplete* -  function will be used to complete one training step. For now it takes batch of images *inputs*, the corresponding batch of labels *labels*, a model *cnn_model* and returns the loss between the model's predictions and the labels.\n",
        "\n",
        "Again, pay attention to the *cnn_model* object. It acts as a **function** here - takes the batch of images and returns the batch of predictions."
      ]
    },
    {
      "cell_type": "code",
      "execution_count": null,
      "metadata": {
        "id": "mIkeSffVrvZy"
      },
      "outputs": [],
      "source": [
        "def train_step(inputs, labels, cnn_model):\n",
        "    cnn_model.train()\n",
        "    data = inputs.to('cuda:0')\n",
        "    outp = cnn_model(data)\n",
        "    loss = torch.mean(torch.nn.CrossEntropyLoss()(outp.to('cpu'), labels)).item()\n",
        "    del data\n",
        "    del outp\n",
        "    torch.cuda.empty_cache()\n",
        "    return loss"
      ]
    },
    {
      "cell_type": "markdown",
      "metadata": {
        "id": "AGOoQ_VBrvZ2"
      },
      "source": [
        "Similarly, the following function computes the accuracy of the model on a batch."
      ]
    },
    {
      "cell_type": "code",
      "execution_count": null,
      "metadata": {
        "id": "zAR5lLTprvZ3"
      },
      "outputs": [],
      "source": [
        "def eval_step(inputs, labels, cnn_model):\n",
        "    cnn_model.eval()\n",
        "    data = inputs.to('cuda:0')\n",
        "    outp = cnn_model(data)\n",
        "    pred = torch.argmax(outp, axis=1)\n",
        "    acc = torch.mean((labels == pred.to('cpu')).float())\n",
        "    del data\n",
        "    del pred\n",
        "    torch.cuda.empty_cache()\n",
        "    return acc"
      ]
    },
    {
      "cell_type": "markdown",
      "metadata": {
        "id": "vszdthCdrvZ6"
      },
      "source": [
        "### TODO 2: Run the model on the training set for 100 iterations. Report the loss at each iteration. Plot and comment; what is missing?"
      ]
    },
    {
      "cell_type": "code",
      "execution_count": null,
      "metadata": {
        "colab": {
          "base_uri": "https://localhost:8080/",
          "height": 296
        },
        "id": "n6uVw3zDrvZ6",
        "outputId": "ee170dd7-93bb-4c6e-a587-fcfbc5f1323e"
      },
      "outputs": [
        {
          "name": "stdout",
          "output_type": "stream",
          "text": [
            "accuracy evaluation on last step : 0.25\n"
          ]
        },
        {
          "data": {
            "image/png": "[encoded data removed]",
            "text/plain": [
              "<Figure size 432x288 with 1 Axes>"
            ]
          },
          "metadata": {
            "needs_background": "light"
          },
          "output_type": "display_data"
        }
      ],
      "source": [
        "losses = []\n",
        "iteration = 0\n",
        "max_iter = 100\n",
        "\n",
        "for epoch in range(10):\n",
        "    for (x_train_in, y_train_in) in train_dataloader:\n",
        "        iteration += 1 \n",
        "        losses.append(train_step(x_train_in, y_train_in, cnn_0))\n",
        "        if iteration >= max_iter:\n",
        "            break\n",
        "\n",
        "fig = plt.figure()\n",
        "ax = fig.add_subplot(111)\n",
        "ax.plot(np.arange(iteration), losses)\n",
        "ax.set_xlabel(\"iteration\")\n",
        "ax.set_ylabel(\"classification loss\")\n",
        "\n",
        "print(\"accuracy evaluation on last step : {}\".format(eval_step(x_train_in, y_train_in, cnn_0)))\n",
        "torch.cuda.empty_cache()"
      ]
    },
    {
      "cell_type": "markdown",
      "metadata": {
        "id": "riS7Bef1rvZ9"
      },
      "source": [
        "\n",
        "### TODO 3: Fix the *train_step* function to incorporate the update:\n",
        "- Compute gradients for all variables in the model\n",
        "- To each variable, subtract its gradient scaled by a 0.01 learning rate"
      ]
    },
    {
      "cell_type": "code",
      "execution_count": null,
      "metadata": {
        "id": "4Ufml5ZTrvZ-"
      },
      "outputs": [],
      "source": [
        "LEARNING_RATE = 0.005\n",
        "optimizer = torch.optim.SGD(cnn_0.parameters(), lr=LEARNING_RATE)\n",
        "\n",
        "def train_step(inputs, labels, cnn_model, optim):\n",
        "    cnn_model.train()\n",
        "    data = inputs.to('cuda:0')\n",
        "    optim.zero_grad()\n",
        "    outp = cnn_model(data)\n",
        "    loss = torch.mean(torch.nn.CrossEntropyLoss()(outp.to('cpu'), labels))\n",
        "    loss.backward()\n",
        "    optim.step()\n",
        "    del data\n",
        "    del outp\n",
        "    torch.cuda.empty_cache()\n",
        "    return loss.item()"
      ]
    },
    {
      "cell_type": "code",
      "execution_count": null,
      "metadata": {
        "id": "7YWSJxbV7Zht"
      },
      "outputs": [],
      "source": [
        "torch.save({\n",
        "            'model_state_dict': cnn_0.state_dict(),\n",
        "            'optimizer_state_dict': optimizer.state_dict(),\n",
        "            }, 'start')"
      ]
    },
    {
      "cell_type": "markdown",
      "metadata": {
        "id": "2Tw93F3VrvaA"
      },
      "source": [
        "### TODO 4: Train the model on the training set for 2000 iterations. Every 100th iteration, report the average loss over the 100 previous iterations. Plot it."
      ]
    },
    {
      "cell_type": "code",
      "execution_count": null,
      "metadata": {
        "colab": {
          "base_uri": "https://localhost:8080/",
          "height": 1000
        },
        "id": "WOHMO-kZrvaB",
        "outputId": "5d19482b-e590-4651-c12c-d8a1e45d54ca"
      },
      "outputs": [
        {
          "name": "stdout",
          "output_type": "stream",
          "text": [
            "ITER  0: training loss       = 1.0973\n",
            "______________________________________\n",
            "ITER  100: training loss       = 1.0967\n",
            "______________________________________\n",
            "ITER  200: training loss       = 1.0926\n",
            "______________________________________\n",
            "ITER  300: training loss       = 1.0841\n",
            "______________________________________\n",
            "ITER  400: training loss       = 1.0592\n",
            "______________________________________\n",
            "ITER  500: training loss       = 0.9442\n",
            "______________________________________\n",
            "ITER  600: training loss       = 0.6495\n",
            "______________________________________\n",
            "ITER  700: training loss       = 0.5018\n",
            "______________________________________\n",
            "ITER  800: training loss       = 0.3626\n",
            "______________________________________\n",
            "ITER  900: training loss       = 0.2798\n",
            "______________________________________\n",
            "ITER  1000: training loss       = 0.2068\n",
            "______________________________________\n",
            "ITER  1100: training loss       = 0.1725\n",
            "______________________________________\n",
            "ITER  1200: training loss       = 0.1295\n",
            "______________________________________\n",
            "ITER  1300: training loss       = 0.1038\n",
            "______________________________________\n",
            "ITER  1400: training loss       = 0.0898\n",
            "______________________________________\n",
            "ITER  1500: training loss       = 0.0636\n",
            "______________________________________\n",
            "ITER  1600: training loss       = 0.2204\n",
            "______________________________________\n",
            "ITER  1700: training loss       = 0.0795\n",
            "______________________________________\n",
            "ITER  1800: training loss       = 0.0484\n",
            "______________________________________\n",
            "ITER  1900: training loss       = 0.0363\n",
            "______________________________________\n",
            "ITER  2000: training loss       = 0.0280\n",
            "______________________________________\n",
            "time_elapsed: 271.0850276609999\n"
          ]
        },
        {
          "data": {
            "text/plain": [
              "Text(0, 0.5, 'classification loss')"
            ]
          },
          "execution_count": 17,
          "metadata": {},
          "output_type": "execute_result"
        },
        {
          "data": {
            "image/png": "[encoded data removed]",
            "text/plain": [
              "<Figure size 432x288 with 1 Axes>"
            ]
          },
          "metadata": {
            "needs_background": "light"
          },
          "output_type": "display_data"
        }
      ],
      "source": [
        "start_t = timer()\n",
        "\n",
        "average_training_losses = []\n",
        "training_losses = []\n",
        "iteration = 0\n",
        "nb_pts = 0 \n",
        "max_iter = 2000\n",
        "stop_epoch = False\n",
        "\n",
        "for epoch in range(100): \n",
        "    for (x_train_in, y_train_in) in train_dataloader:\n",
        "        training_losses.append(train_step(x_train_in, y_train_in, cnn_0, optimizer))\n",
        "        if iteration % 100 == 0:\n",
        "            nb_pts += 1 \n",
        "            average_training_losses.append(sum(training_losses) / len(training_losses))\n",
        "            training_losses = []\n",
        "            print(\"ITER  {}: training loss       = {:.4f}\".format(iteration, average_training_losses[-1]))\n",
        "            print(\"______________________________________\")\n",
        "        if iteration >= max_iter:\n",
        "            stop_epoch = True\n",
        "            break\n",
        "        iteration += 1            \n",
        "    if stop_epoch:\n",
        "        break\n",
        "\n",
        "end_t = timer()\n",
        "print(\"time_elapsed: {}\".format(end_t - start_t))\n",
        "\n",
        "times = list(range(len(average_training_losses)))\n",
        "\n",
        "fig = plt.figure()\n",
        "ax = fig.add_subplot(111)\n",
        "ax.plot(np.arange(nb_pts), average_training_losses)\n",
        "ax.set_xlabel(\"iteration * 100\")\n",
        "ax.set_ylabel(\"classification loss\")"
      ]
    },
    {
      "cell_type": "markdown",
      "metadata": {
        "id": "ujOlPBTfrvaE"
      },
      "source": [
        "### TODO 5: Evaluate (report the average accuracy) on the training set, then on the test set. Comment."
      ]
    },
    {
      "cell_type": "code",
      "execution_count": null,
      "metadata": {
        "colab": {
          "base_uri": "https://localhost:8080/"
        },
        "id": "n6G3_pzprvaE",
        "outputId": "d38bf960-92e8-4f8f-ed94-29ca1c150ce1"
      },
      "outputs": [
        {
          "name": "stdout",
          "output_type": "stream",
          "text": [
            "ACCURACY - TRAINING SET: 0.9977272748947144\n",
            "ACCURACY - TEST SET: 0.9498625993728638\n"
          ]
        }
      ],
      "source": [
        "train_accs = []\n",
        "for x_train_in, y_train_in in train_dataloader:\n",
        "    train_accs.append(eval_step(x_train_in, y_train_in, cnn_0))\n",
        "\n",
        "average_train_acc = sum(train_accs) / len(train_accs)\n",
        "print(\"ACCURACY - TRAINING SET: {}\".format(average_train_acc))\n",
        "\n",
        "test_accs = []\n",
        "for x_test_in, y_test_in in test_dataloader:\n",
        "    test_accs.append(eval_step(x_test_in, y_test_in, cnn_0))\n",
        "\n",
        "average_test_acc = sum(test_accs) / len(test_accs)\n",
        "print(\"ACCURACY - TEST SET: {}\".format(average_test_acc))"
      ]
    },
    {
      "cell_type": "markdown",
      "metadata": {
        "id": "8Yc1E0KMrvaH"
      },
      "source": [
        "### TODO 6: Reset the model's weights, then remove 95% of the data from the training set. Repeat the training process from question 4 on this diminished dataset. Plot the loss, evaluate this model on its training set and the test set. Comment."
      ]
    },
    {
      "cell_type": "code",
      "execution_count": null,
      "metadata": {
        "id": "B0IqC4uy7Zhu"
      },
      "outputs": [],
      "source": [
        "cnn_0 = CNN()\n",
        "optimizer = optimizer = torch.optim.SGD(cnn_0.parameters(), lr=LEARNING_RATE)\n",
        "\n",
        "startpoint = torch.load('start')\n",
        "cnn_0.load_state_dict(startpoint['model_state_dict'])\n",
        "optimizer.load_state_dict(startpoint['optimizer_state_dict'])\n",
        "cnn_0 = cnn_0.to('cuda:0')"
      ]
    },
    {
      "cell_type": "code",
      "execution_count": null,
      "metadata": {
        "colab": {
          "base_uri": "https://localhost:8080/",
          "height": 1000
        },
        "id": "95bpyxxArvaI",
        "outputId": "df94ce6b-f530-4480-d66b-68306218210d"
      },
      "outputs": [
        {
          "name": "stdout",
          "output_type": "stream",
          "text": [
            "ITER  0: training loss       = 1.1001\n",
            "______________________________________\n",
            "ITER  100: training loss       = 1.0912\n",
            "______________________________________\n",
            "ITER  200: training loss       = 1.0818\n",
            "______________________________________\n",
            "ITER  300: training loss       = 1.0609\n",
            "______________________________________\n",
            "ITER  400: training loss       = 0.9637\n",
            "______________________________________\n",
            "ITER  500: training loss       = 0.6814\n",
            "______________________________________\n",
            "ITER  600: training loss       = 0.3648\n",
            "______________________________________\n",
            "ITER  700: training loss       = 0.1461\n",
            "______________________________________\n",
            "ITER  800: training loss       = 0.0331\n",
            "______________________________________\n",
            "ITER  900: training loss       = 0.0132\n",
            "______________________________________\n",
            "ITER  1000: training loss       = 0.0075\n",
            "______________________________________\n",
            "ITER  1100: training loss       = 0.0050\n",
            "______________________________________\n",
            "ITER  1200: training loss       = 0.0036\n",
            "______________________________________\n",
            "ITER  1300: training loss       = 0.0029\n",
            "______________________________________\n",
            "ITER  1400: training loss       = 0.0023\n",
            "______________________________________\n",
            "ITER  1500: training loss       = 0.0019\n",
            "______________________________________\n",
            "ITER  1600: training loss       = 0.0016\n",
            "______________________________________\n",
            "ITER  1700: training loss       = 0.0014\n",
            "______________________________________\n",
            "ITER  1800: training loss       = 0.0012\n",
            "______________________________________\n",
            "ITER  1900: training loss       = 0.0011\n",
            "______________________________________\n",
            "ITER  2000: training loss       = 0.0010\n",
            "______________________________________\n",
            "time_elapsed: 246.15812296000013\n"
          ]
        },
        {
          "data": {
            "text/plain": [
              "Text(0, 0.5, 'classification loss')"
            ]
          },
          "execution_count": 23,
          "metadata": {},
          "output_type": "execute_result"
        },
        {
          "data": {
            "image/png": "[encoded data removed]",
            "text/plain": [
              "<Figure size 432x288 with 1 Axes>"
            ]
          },
          "metadata": {
            "needs_background": "light"
          },
          "output_type": "display_data"
        }
      ],
      "source": [
        "start_t = timer()\n",
        "\n",
        "average_training_losses = []\n",
        "training_losses = []\n",
        "iteration = 0\n",
        "nb_pts = 0 \n",
        "max_iter = 2000\n",
        "stop_epoch = False\n",
        "\n",
        "for epoch in range(1000000): \n",
        "    for (x_train_in, y_train_in) in train_small_dataloader:\n",
        "        training_losses.append(train_step(x_train_in, y_train_in, cnn_0, optimizer))\n",
        "        if iteration % 100 == 0:\n",
        "            nb_pts += 1 \n",
        "            average_training_losses.append(sum(training_losses) / len(training_losses))\n",
        "            training_losses = []\n",
        "            print(\"ITER  {}: training loss       = {:.4f}\".format(iteration, average_training_losses[-1]))\n",
        "            print(\"______________________________________\")\n",
        "        if iteration >= max_iter:\n",
        "            stop_epoch = True\n",
        "            break\n",
        "        iteration += 1\n",
        "    if stop_epoch:\n",
        "        break\n",
        "\n",
        "\n",
        "end_t = timer()\n",
        "print(\"time_elapsed: {}\".format(end_t - start_t))\n",
        "\n",
        "times = list(range(len(average_training_losses)))\n",
        "\n",
        "fig = plt.figure()\n",
        "ax = fig.add_subplot(111)\n",
        "ax.plot(times, average_training_losses)\n",
        "ax.set_xlabel(\"iteration / 100\")\n",
        "ax.set_ylabel(\"classification loss\")"
      ]
    },
    {
      "cell_type": "code",
      "execution_count": null,
      "metadata": {
        "colab": {
          "base_uri": "https://localhost:8080/"
        },
        "id": "-hdbHbKMrvaM",
        "outputId": "f681adc3-99ee-4cfd-a192-2ffedf312f1b"
      },
      "outputs": [
        {
          "name": "stdout",
          "output_type": "stream",
          "text": [
            "ACCURACY - TRAINING SET: 1.0\n",
            "ACCURACY - TEST SET: 0.8028846383094788\n"
          ]
        }
      ],
      "source": [
        "train_accs = []\n",
        "for x_train_in, y_train_in in train_small_dataloader:\n",
        "    train_accs.append(eval_step(x_train_in, y_train_in, cnn_0))\n",
        "\n",
        "average_train_acc = sum(train_accs) / len(train_accs)\n",
        "print(\"ACCURACY - TRAINING SET: {}\".format(average_train_acc))\n",
        "\n",
        "test_accs = []\n",
        "for x_test_in, y_test_in in test_dataloader:\n",
        "    test_accs.append(eval_step(x_test_in, y_test_in, cnn_0))\n",
        "\n",
        "average_test_acc = sum(test_accs) / len(test_accs)\n",
        "print(\"ACCURACY - TEST SET: {}\".format(average_test_acc))"
      ]
    },
    {
      "cell_type": "markdown",
      "metadata": {
        "id": "9KJpDkeyrvaO"
      },
      "source": [
        "### TODO 7: We are going to modify the training loop to incorporate validation; every 100th iteration, evaluate the model on the entire validation dataset and report the average accuracy (do this for 0 and 95% of data removed). Plot the validation accuracy over the course of the training process and interpret."
      ]
    },
    {
      "cell_type": "code",
      "execution_count": null,
      "metadata": {
        "id": "egeTzoCM7Zhw"
      },
      "outputs": [],
      "source": [
        "cnn_0 = CNN()\n",
        "optimizer = optimizer = torch.optim.SGD(cnn_0.parameters(), lr=LEARNING_RATE)\n",
        "\n",
        "startpoint = torch.load('start')\n",
        "cnn_0.load_state_dict(startpoint['model_state_dict'])\n",
        "optimizer.load_state_dict(startpoint['optimizer_state_dict'])\n",
        "cnn_0 = cnn_0.to('cuda:0')"
      ]
    },
    {
      "cell_type": "code",
      "execution_count": null,
      "metadata": {
        "colab": {
          "base_uri": "https://localhost:8080/",
          "height": 1000
        },
        "id": "m7AcaMvZrvaP",
        "outputId": "12afb267-bcbd-44a6-ea10-37c4d5846e45"
      },
      "outputs": [
        {
          "name": "stdout",
          "output_type": "stream",
          "text": [
            "ITER  0: training loss       = 1.0915\n",
            "______________________________________\n",
            "        : validation accuracy = 0.3484\n",
            "______________________________________\n",
            "ITER  100: training loss       = 1.0921\n",
            "______________________________________\n",
            "        : validation accuracy = 0.3395\n",
            "______________________________________\n",
            "ITER  200: training loss       = 1.0835\n",
            "______________________________________\n",
            "        : validation accuracy = 0.6784\n",
            "______________________________________\n",
            "ITER  300: training loss       = 1.0555\n",
            "______________________________________\n",
            "        : validation accuracy = 0.6310\n",
            "______________________________________\n",
            "ITER  400: training loss       = 0.9120\n",
            "______________________________________\n",
            "        : validation accuracy = 0.7021\n",
            "______________________________________\n",
            "ITER  500: training loss       = 0.6357\n",
            "______________________________________\n",
            "        : validation accuracy = 0.7503\n",
            "______________________________________\n",
            "ITER  600: training loss       = 0.4892\n",
            "______________________________________\n",
            "        : validation accuracy = 0.8360\n",
            "______________________________________\n",
            "ITER  700: training loss       = 0.3725\n",
            "______________________________________\n",
            "        : validation accuracy = 0.8566\n",
            "______________________________________\n",
            "ITER  800: training loss       = 0.2702\n",
            "______________________________________\n",
            "        : validation accuracy = 0.9029\n",
            "______________________________________\n",
            "ITER  900: training loss       = 0.2033\n",
            "______________________________________\n",
            "        : validation accuracy = 0.8530\n",
            "______________________________________\n",
            "ITER  1000: training loss       = 0.1579\n",
            "______________________________________\n",
            "        : validation accuracy = 0.9537\n",
            "______________________________________\n",
            "ITER  1100: training loss       = 0.1280\n",
            "______________________________________\n",
            "        : validation accuracy = 0.9635\n",
            "______________________________________\n",
            "ITER  1200: training loss       = 0.0988\n",
            "______________________________________\n",
            "        : validation accuracy = 0.9663\n",
            "______________________________________\n",
            "ITER  1300: training loss       = 0.0803\n",
            "______________________________________\n",
            "        : validation accuracy = 0.9679\n",
            "______________________________________\n",
            "ITER  1400: training loss       = 0.0616\n",
            "______________________________________\n",
            "        : validation accuracy = 0.9716\n",
            "______________________________________\n",
            "ITER  1500: training loss       = 0.0566\n",
            "______________________________________\n",
            "        : validation accuracy = 0.9769\n",
            "______________________________________\n",
            "ITER  1600: training loss       = 0.0386\n",
            "______________________________________\n",
            "        : validation accuracy = 0.9866\n",
            "______________________________________\n",
            "ITER  1700: training loss       = 0.0324\n",
            "______________________________________\n",
            "        : validation accuracy = 0.9769\n",
            "______________________________________\n",
            "ITER  1800: training loss       = 0.0281\n",
            "______________________________________\n",
            "        : validation accuracy = 0.9866\n",
            "______________________________________\n",
            "ITER  1900: training loss       = 0.0182\n",
            "______________________________________\n",
            "        : validation accuracy = 0.9813\n",
            "______________________________________\n",
            "ITER  2000: training loss       = 0.0168\n",
            "______________________________________\n",
            "        : validation accuracy = 0.9866\n",
            "______________________________________\n",
            "time_elapsed: 279.6435234400001\n"
          ]
        },
        {
          "data": {
            "text/plain": [
              "Text(0, 0.5, 'validation accuracy')"
            ]
          },
          "execution_count": 27,
          "metadata": {},
          "output_type": "execute_result"
        },
        {
          "data": {
            "image/png": "[encoded data removed]",
            "text/plain": [
              "<Figure size 432x288 with 2 Axes>"
            ]
          },
          "metadata": {
            "needs_background": "light"
          },
          "output_type": "display_data"
        }
      ],
      "source": [
        "start_t = timer()\n",
        "\n",
        "average_training_losses = []\n",
        "average_val_accs = []\n",
        "training_losses = []\n",
        "val_accs = []\n",
        "iteration = 0\n",
        "nb_pts = 0 \n",
        "max_iter = 2000\n",
        "stop_epoch = False\n",
        "\n",
        "for epoch in range(100): \n",
        "    for (x_train_in, y_train_in) in train_dataloader:\n",
        "        training_losses.append(train_step(x_train_in, y_train_in, cnn_0, optimizer))\n",
        "        if iteration % 100 == 0:\n",
        "            nb_pts += 1 \n",
        "            average_training_losses.append(sum(training_losses) / len(training_losses))\n",
        "            training_losses = []\n",
        "            print(\"ITER  {}: training loss       = {:.4f}\".format(iteration, average_training_losses[-1]))\n",
        "            print(\"______________________________________\")\n",
        "            val_accs = []\n",
        "            for x_val_in, y_val_in in val_dataloader:\n",
        "                val_accs.append(eval_step(x_val_in, y_val_in, cnn_0))\n",
        "            average_val_accs.append(sum(val_accs) / len(val_accs))\n",
        "            print(\"        : validation accuracy = {:.4f}\".format(average_val_accs[-1]))\n",
        "            print(\"______________________________________\")\n",
        "        if iteration >= max_iter:\n",
        "            stop_epoch = True\n",
        "            break\n",
        "        iteration += 1\n",
        "    if stop_epoch:\n",
        "        break\n",
        "        \n",
        "end_t = timer()\n",
        "print(\"time_elapsed: {}\".format(end_t - start_t))\n",
        "\n",
        "times = list(range(len(average_training_losses)))\n",
        "\n",
        "fig = plt.figure()\n",
        "\n",
        "ax = fig.add_subplot(121)\n",
        "ax.plot(np.arange(nb_pts), average_training_losses)\n",
        "ax.set_xlabel(\"iteration * 100\")\n",
        "ax.set_ylabel(\"classification loss\")\n",
        "\n",
        "ax = fig.add_subplot(122)\n",
        "ax.plot(np.arange(len(average_val_accs)), average_val_accs)\n",
        "ax.set_xlabel(\"iteration * 100\")\n",
        "ax.set_ylabel(\"validation accuracy\")"
      ]
    },
    {
      "cell_type": "code",
      "execution_count": null,
      "metadata": {
        "colab": {
          "base_uri": "https://localhost:8080/"
        },
        "id": "8RsFnVFJrvaR",
        "outputId": "9a5019a6-9c15-4163-d7ae-a071d8a9b965"
      },
      "outputs": [
        {
          "name": "stdout",
          "output_type": "stream",
          "text": [
            "ACCURACY - TRAINING SET: 0.9988636374473572\n",
            "ACCURACY - TEST SET: 0.9498625993728638\n"
          ]
        }
      ],
      "source": [
        "train_accs = []\n",
        "for x_train_in, y_train_in in train_dataloader:\n",
        "    train_accs.append(eval_step(x_train_in, y_train_in, cnn_0))\n",
        "\n",
        "average_train_acc = sum(train_accs) / len(train_accs)\n",
        "print(\"ACCURACY - TRAINING SET: {}\".format(average_train_acc))\n",
        "\n",
        "test_accs = []\n",
        "for x_test_in, y_test_in in test_dataloader:\n",
        "    test_accs.append(eval_step(x_test_in, y_test_in, cnn_0))\n",
        "\n",
        "average_test_acc = sum(test_accs) / len(test_accs)\n",
        "print(\"ACCURACY - TEST SET: {}\".format(average_test_acc))"
      ]
    },
    {
      "cell_type": "code",
      "execution_count": null,
      "metadata": {
        "id": "Y13SAJMI7Zhx"
      },
      "outputs": [],
      "source": [
        "cnn_0 = CNN()\n",
        "optimizer = optimizer = torch.optim.SGD(cnn_0.parameters(), lr=LEARNING_RATE)\n",
        "\n",
        "startpoint = torch.load('start')\n",
        "cnn_0.load_state_dict(startpoint['model_state_dict'])\n",
        "optimizer.load_state_dict(startpoint['optimizer_state_dict'])\n",
        "cnn_0 = cnn_0.to('cuda:0')"
      ]
    },
    {
      "cell_type": "code",
      "execution_count": null,
      "metadata": {
        "colab": {
          "base_uri": "https://localhost:8080/",
          "height": 1000
        },
        "id": "qqVpbXMy7Zhx",
        "outputId": "328090d3-70bf-4c12-9e5b-219a37b3b59f"
      },
      "outputs": [
        {
          "name": "stdout",
          "output_type": "stream",
          "text": [
            "ITER  0: training loss       = 1.0983\n",
            "______________________________________\n",
            "        : validation accuracy = 0.3325\n",
            "______________________________________\n",
            "ITER  100: training loss       = 1.0917\n",
            "______________________________________\n",
            "        : validation accuracy = 0.3252\n",
            "______________________________________\n",
            "ITER  200: training loss       = 1.0816\n",
            "______________________________________\n",
            "        : validation accuracy = 0.3342\n",
            "______________________________________\n",
            "ITER  300: training loss       = 1.0605\n",
            "______________________________________\n",
            "        : validation accuracy = 0.4580\n",
            "______________________________________\n",
            "ITER  400: training loss       = 0.9627\n",
            "______________________________________\n",
            "        : validation accuracy = 0.6159\n",
            "______________________________________\n",
            "ITER  500: training loss       = 0.6906\n",
            "______________________________________\n",
            "        : validation accuracy = 0.7300\n",
            "______________________________________\n",
            "ITER  600: training loss       = 0.3640\n",
            "______________________________________\n",
            "        : validation accuracy = 0.7487\n",
            "______________________________________\n",
            "ITER  700: training loss       = 0.1415\n",
            "______________________________________\n",
            "        : validation accuracy = 0.7442\n",
            "______________________________________\n",
            "ITER  800: training loss       = 0.0321\n",
            "______________________________________\n",
            "        : validation accuracy = 0.7621\n",
            "______________________________________\n",
            "ITER  900: training loss       = 0.0130\n",
            "______________________________________\n",
            "        : validation accuracy = 0.7487\n",
            "______________________________________\n",
            "ITER  1000: training loss       = 0.0075\n",
            "______________________________________\n",
            "        : validation accuracy = 0.7487\n",
            "______________________________________\n",
            "ITER  1100: training loss       = 0.0050\n",
            "______________________________________\n",
            "        : validation accuracy = 0.7487\n",
            "______________________________________\n",
            "ITER  1200: training loss       = 0.0036\n",
            "______________________________________\n",
            "        : validation accuracy = 0.7487\n",
            "______________________________________\n",
            "ITER  1300: training loss       = 0.0028\n",
            "______________________________________\n",
            "        : validation accuracy = 0.7442\n",
            "______________________________________\n",
            "ITER  1400: training loss       = 0.0023\n",
            "______________________________________\n",
            "        : validation accuracy = 0.7442\n",
            "______________________________________\n",
            "ITER  1500: training loss       = 0.0019\n",
            "______________________________________\n",
            "        : validation accuracy = 0.7487\n",
            "______________________________________\n",
            "ITER  1600: training loss       = 0.0016\n",
            "______________________________________\n",
            "        : validation accuracy = 0.7442\n",
            "______________________________________\n",
            "ITER  1700: training loss       = 0.0014\n",
            "______________________________________\n",
            "        : validation accuracy = 0.7442\n",
            "______________________________________\n",
            "ITER  1800: training loss       = 0.0012\n",
            "______________________________________\n",
            "        : validation accuracy = 0.7442\n",
            "______________________________________\n",
            "ITER  1900: training loss       = 0.0011\n",
            "______________________________________\n",
            "        : validation accuracy = 0.7442\n",
            "______________________________________\n",
            "ITER  2000: training loss       = 0.0010\n",
            "______________________________________\n",
            "        : validation accuracy = 0.7442\n",
            "______________________________________\n",
            "time_elapsed: 256.7588010330005\n"
          ]
        },
        {
          "data": {
            "text/plain": [
              "Text(0, 0.5, 'validation accuracy')"
            ]
          },
          "execution_count": 30,
          "metadata": {},
          "output_type": "execute_result"
        },
        {
          "data": {
            "image/png": "[encoded data removed]",
            "text/plain": [
              "<Figure size 432x288 with 2 Axes>"
            ]
          },
          "metadata": {
            "needs_background": "light"
          },
          "output_type": "display_data"
        }
      ],
      "source": [
        "start_t = timer()\n",
        "\n",
        "average_training_losses = []\n",
        "average_val_accs = []\n",
        "training_losses = []\n",
        "val_accs = []\n",
        "iteration = 0\n",
        "nb_pts = 0 \n",
        "max_iter = 2000\n",
        "stop_epoch = False\n",
        "\n",
        "for epoch in range(1000000): \n",
        "    for (x_train_in, y_train_in) in train_small_dataloader:\n",
        "        training_losses.append(train_step(x_train_in, y_train_in, cnn_0, optimizer))\n",
        "        if iteration % 100 == 0:\n",
        "            nb_pts += 1 \n",
        "            average_training_losses.append(sum(training_losses) / len(training_losses))\n",
        "            training_losses = []\n",
        "            print(\"ITER  {}: training loss       = {:.4f}\".format(iteration, average_training_losses[-1]))\n",
        "            print(\"______________________________________\")\n",
        "            val_accs = []\n",
        "            for x_val_in, y_val_in in val_dataloader:\n",
        "                val_accs.append(eval_step(x_val_in, y_val_in, cnn_0))\n",
        "            average_val_accs.append(sum(val_accs) / len(val_accs))\n",
        "            print(\"        : validation accuracy = {:.4f}\".format(average_val_accs[-1]))\n",
        "            print(\"______________________________________\")\n",
        "        if iteration >= max_iter:\n",
        "            stop_epoch = True\n",
        "            break\n",
        "        iteration += 1\n",
        "    if stop_epoch:\n",
        "        break\n",
        "        \n",
        "end_t = timer()\n",
        "print(\"time_elapsed: {}\".format(end_t - start_t))\n",
        "\n",
        "times = list(range(len(average_training_losses)))\n",
        "\n",
        "fig = plt.figure()\n",
        "\n",
        "ax = fig.add_subplot(121)\n",
        "ax.plot(np.arange(nb_pts), average_training_losses)\n",
        "ax.set_xlabel(\"iteration * 100\")\n",
        "ax.set_ylabel(\"classification loss\")\n",
        "\n",
        "ax = fig.add_subplot(122)\n",
        "ax.plot(np.arange(len(average_val_accs)), average_val_accs)\n",
        "ax.set_xlabel(\"iteration * 100\")\n",
        "ax.set_ylabel(\"validation accuracy\")"
      ]
    },
    {
      "cell_type": "code",
      "execution_count": null,
      "metadata": {
        "colab": {
          "base_uri": "https://localhost:8080/"
        },
        "id": "THD4Xy0KrvaX",
        "outputId": "eb22d7c5-bf2e-4abf-8179-e0f0d0dd68af"
      },
      "outputs": [
        {
          "name": "stdout",
          "output_type": "stream",
          "text": [
            "ACCURACY - TRAINING SET: 1.0\n",
            "ACCURACY - TEST SET: 0.8028846383094788\n"
          ]
        }
      ],
      "source": [
        "train_accs = []\n",
        "for x_train_in, y_train_in in train_small_dataloader:\n",
        "    train_accs.append(eval_step(x_train_in, y_train_in, cnn_0))\n",
        "\n",
        "average_train_acc = sum(train_accs) / len(train_accs)\n",
        "print(\"ACCURACY - TRAINING SET: {}\".format(average_train_acc))\n",
        "\n",
        "test_accs = []\n",
        "for x_test_in, y_test_in in test_dataloader:\n",
        "    test_accs.append(eval_step(x_test_in, y_test_in, cnn_0))\n",
        "\n",
        "average_test_acc = sum(test_accs) / len(test_accs)\n",
        "print(\"ACCURACY - TEST SET: {}\".format(average_test_acc))"
      ]
    },
    {
      "cell_type": "markdown",
      "metadata": {
        "id": "r91gu_7Hrvad"
      },
      "source": [
        "### TODO 8: We will now incorporate data augmentation into the training set. Choose random transformations in order to return the dataset with randomly transformed images. "
      ]
    },
    {
      "cell_type": "code",
      "execution_count": null,
      "metadata": {
        "id": "tdPREx247Zhy"
      },
      "outputs": [],
      "source": [
        "cnn_0 = CNN()\n",
        "optimizer = optimizer = torch.optim.SGD(cnn_0.parameters(), lr=LEARNING_RATE)\n",
        "\n",
        "startpoint = torch.load('start')\n",
        "cnn_0.load_state_dict(startpoint['model_state_dict'])\n",
        "optimizer.load_state_dict(startpoint['optimizer_state_dict'])\n",
        "cnn_0 = cnn_0.to('cuda:0')"
      ]
    },
    {
      "cell_type": "code",
      "execution_count": null,
      "metadata": {
        "id": "ckDOEphVrvad"
      },
      "outputs": [],
      "source": [
        "transform_rand = torchvision.transforms.Compose([\n",
        "    ToTensor(),\n",
        "    torchvision.transforms.RandomRotation(20),\n",
        "    Resize(size=(224,224)),\n",
        "])\n",
        "\n",
        "full_dataset = torchvision.datasets.ImageFolder(root='RPS', transform=transform_rand)\n",
        "\n",
        "items = np.random.permutation(len(full_dataset))\n",
        "val_ratio = 0.1\n",
        "test_ratio = 0.1\n",
        "train_items = items[0:int((1.0-val_ratio-test_ratio)*len(full_dataset))]\n",
        "val_items = items[int((1.0-val_ratio-test_ratio)*len(full_dataset)):int((1.0-test_ratio)*len(full_dataset))]\n",
        "test_items = items[int((1.0-test_ratio)*len(full_dataset)):-1]\n",
        "\n",
        "train_dataset = Subset(full_dataset, train_items)\n",
        "val_dataset = Subset(full_dataset, val_items)\n",
        "test_dataset = Subset(full_dataset, test_items)\n",
        "\n",
        "BATCH_SIZE = 32\n",
        "full_dataloader = DataLoader(train_dataset, batch_size=BATCH_SIZE, shuffle=True)\n",
        "\n",
        "train_dataloader = DataLoader(train_dataset, batch_size=BATCH_SIZE, shuffle=True)\n",
        "val_dataloader = DataLoader(val_dataset, batch_size=BATCH_SIZE, shuffle=True)\n",
        "test_dataloader = DataLoader(test_dataset, batch_size=BATCH_SIZE, shuffle=False)"
      ]
    },
    {
      "cell_type": "code",
      "execution_count": null,
      "metadata": {
        "colab": {
          "base_uri": "https://localhost:8080/",
          "height": 1000
        },
        "id": "ll_68hyhrvaf",
        "outputId": "5f176f6a-c52f-4e6d-d318-c398835c7898"
      },
      "outputs": [
        {
          "name": "stdout",
          "output_type": "stream",
          "text": [
            "ITER  0: training loss       = 1.0980\n",
            "______________________________________\n",
            "        : validation accuracy = 0.3414\n",
            "______________________________________\n",
            "ITER  100: training loss       = 1.0918\n",
            "______________________________________\n",
            "        : validation accuracy = 0.3358\n",
            "______________________________________\n",
            "ITER  200: training loss       = 1.0821\n",
            "______________________________________\n",
            "        : validation accuracy = 0.3386\n",
            "______________________________________\n",
            "ITER  300: training loss       = 1.0606\n",
            "______________________________________\n",
            "        : validation accuracy = 0.4686\n",
            "______________________________________\n",
            "ITER  400: training loss       = 0.9655\n",
            "______________________________________\n",
            "        : validation accuracy = 0.5813\n",
            "______________________________________\n",
            "ITER  500: training loss       = 0.6940\n",
            "______________________________________\n",
            "        : validation accuracy = 0.6528\n",
            "______________________________________\n",
            "ITER  600: training loss       = 0.3557\n",
            "______________________________________\n",
            "        : validation accuracy = 0.7207\n",
            "______________________________________\n",
            "ITER  700: training loss       = 0.1521\n",
            "______________________________________\n",
            "        : validation accuracy = 0.7459\n",
            "______________________________________\n",
            "ITER  800: training loss       = 0.0334\n",
            "______________________________________\n",
            "        : validation accuracy = 0.7345\n",
            "______________________________________\n",
            "ITER  900: training loss       = 0.0131\n",
            "______________________________________\n",
            "        : validation accuracy = 0.7869\n",
            "______________________________________\n",
            "ITER  1000: training loss       = 0.0075\n",
            "______________________________________\n",
            "        : validation accuracy = 0.7783\n",
            "______________________________________\n",
            "ITER  1100: training loss       = 0.0049\n",
            "______________________________________\n",
            "        : validation accuracy = 0.7049\n",
            "______________________________________\n",
            "ITER  1200: training loss       = 0.0036\n",
            "______________________________________\n",
            "        : validation accuracy = 0.7523\n",
            "______________________________________\n",
            "ITER  1300: training loss       = 0.0028\n",
            "______________________________________\n",
            "        : validation accuracy = 0.7588\n",
            "______________________________________\n",
            "ITER  1400: training loss       = 0.0023\n",
            "______________________________________\n",
            "        : validation accuracy = 0.7495\n",
            "______________________________________\n",
            "ITER  1500: training loss       = 0.0019\n",
            "______________________________________\n",
            "        : validation accuracy = 0.7459\n",
            "______________________________________\n",
            "ITER  1600: training loss       = 0.0016\n",
            "______________________________________\n",
            "        : validation accuracy = 0.7710\n",
            "______________________________________\n",
            "ITER  1700: training loss       = 0.0014\n",
            "______________________________________\n",
            "        : validation accuracy = 0.7612\n",
            "______________________________________\n",
            "ITER  1800: training loss       = 0.0012\n",
            "______________________________________\n",
            "        : validation accuracy = 0.7576\n",
            "______________________________________\n",
            "ITER  1900: training loss       = 0.0011\n",
            "______________________________________\n",
            "        : validation accuracy = 0.7487\n",
            "______________________________________\n",
            "ITER  2000: training loss       = 0.0010\n",
            "______________________________________\n",
            "        : validation accuracy = 0.7406\n",
            "______________________________________\n",
            "time_elapsed: 271.8060822409998\n"
          ]
        },
        {
          "data": {
            "text/plain": [
              "Text(0, 0.5, 'validation accuracy')"
            ]
          },
          "execution_count": 34,
          "metadata": {},
          "output_type": "execute_result"
        },
        {
          "data": {
            "image/png": "[encoded data removed]",
            "text/plain": [
              "<Figure size 432x288 with 2 Axes>"
            ]
          },
          "metadata": {
            "needs_background": "light"
          },
          "output_type": "display_data"
        }
      ],
      "source": [
        "start_t = timer()\n",
        "\n",
        "average_training_losses = []\n",
        "average_val_accs = []\n",
        "training_losses = []\n",
        "val_accs = []\n",
        "iteration = 0\n",
        "nb_pts = 0 \n",
        "max_iter = 2000\n",
        "stop_epoch = False\n",
        "\n",
        "for epoch in range(1000000): \n",
        "    for (x_train_in, y_train_in) in train_small_dataloader:\n",
        "        training_losses.append(train_step(x_train_in, y_train_in, cnn_0, optimizer))\n",
        "        if iteration % 100 == 0:\n",
        "            nb_pts += 1 \n",
        "            average_training_losses.append(sum(training_losses) / len(training_losses))\n",
        "            training_losses = []\n",
        "            print(\"ITER  {}: training loss       = {:.4f}\".format(iteration, average_training_losses[-1]))\n",
        "            print(\"______________________________________\")\n",
        "            val_accs = []\n",
        "            for x_val_in, y_val_in in val_dataloader:\n",
        "                val_accs.append(eval_step(x_val_in, y_val_in, cnn_0))\n",
        "            average_val_accs.append(sum(val_accs) / len(val_accs))\n",
        "            print(\"        : validation accuracy = {:.4f}\".format(average_val_accs[-1]))\n",
        "            print(\"______________________________________\")\n",
        "        if iteration >= max_iter:\n",
        "            stop_epoch = True\n",
        "            break\n",
        "        iteration += 1\n",
        "    if stop_epoch:\n",
        "        break\n",
        "        \n",
        "end_t = timer()\n",
        "print(\"time_elapsed: {}\".format(end_t - start_t))\n",
        "\n",
        "times = list(range(len(average_training_losses)))\n",
        "\n",
        "fig = plt.figure()\n",
        "\n",
        "ax = fig.add_subplot(121)\n",
        "ax.plot(np.arange(nb_pts), average_training_losses)\n",
        "ax.set_xlabel(\"iteration * 100\")\n",
        "ax.set_ylabel(\"classification loss\")\n",
        "\n",
        "ax = fig.add_subplot(122)\n",
        "ax.plot(np.arange(len(average_val_accs)), average_val_accs)\n",
        "ax.set_xlabel(\"iteration * 100\")\n",
        "ax.set_ylabel(\"validation accuracy\")"
      ]
    },
    {
      "cell_type": "code",
      "execution_count": null,
      "metadata": {
        "colab": {
          "base_uri": "https://localhost:8080/"
        },
        "id": "iAVpnykbrvah",
        "outputId": "07f71036-1944-426f-f469-3dd6fa811687"
      },
      "outputs": [
        {
          "name": "stdout",
          "output_type": "stream",
          "text": [
            "ACCURACY - TRAINING SET: 1.0\n",
            "ACCURACY - TEST SET: 0.7235576510429382\n"
          ]
        }
      ],
      "source": [
        "train_accs = []\n",
        "for x_train_in, y_train_in in train_small_dataloader:\n",
        "    train_accs.append(eval_step(x_train_in, y_train_in, cnn_0))\n",
        "\n",
        "average_train_acc = sum(train_accs) / len(train_accs)\n",
        "print(\"ACCURACY - TRAINING SET: {}\".format(average_train_acc))\n",
        "\n",
        "test_accs = []\n",
        "for x_test_in, y_test_in in test_dataloader:\n",
        "    test_accs.append(eval_step(x_test_in, y_test_in, cnn_0))\n",
        "\n",
        "average_test_acc = sum(test_accs) / len(test_accs)\n",
        "print(\"ACCURACY - TEST SET: {}\".format(average_test_acc))"
      ]
    },
    {
      "cell_type": "markdown",
      "metadata": {
        "id": "gs4I78Q4rvak"
      },
      "source": [
        "### TODO 9: We will attempt to use l2 regularization to alleviate the overfitting issue. Use the \"weight_decay\" in your optimizer. \n",
        "\n",
        "Train on the small training set; plot loss and validation accuracy. "
      ]
    },
    {
      "cell_type": "code",
      "execution_count": null,
      "metadata": {
        "id": "lGiYvida7Zhz"
      },
      "outputs": [],
      "source": [
        "cnn_0 = CNN()\n",
        "optimizer = optimizer = torch.optim.SGD(cnn_0.parameters(), lr=LEARNING_RATE, weight_decay=0.01)\n",
        "\n",
        "startpoint = torch.load('start')\n",
        "cnn_0.load_state_dict(startpoint['model_state_dict'])\n",
        "optimizer.load_state_dict(startpoint['optimizer_state_dict'])\n",
        "cnn_0 = cnn_0.to('cuda:0')"
      ]
    },
    {
      "cell_type": "code",
      "execution_count": null,
      "metadata": {
        "colab": {
          "base_uri": "https://localhost:8080/",
          "height": 1000
        },
        "id": "0O19QCeprvan",
        "outputId": "cfb1f157-e9a9-4fbf-ab94-20150c5ef943"
      },
      "outputs": [
        {
          "name": "stdout",
          "output_type": "stream",
          "text": [
            "ITER  0: training loss       = 1.1009\n",
            "______________________________________\n",
            "        : validation accuracy = 0.3406\n",
            "______________________________________\n",
            "ITER  100: training loss       = 1.0921\n",
            "______________________________________\n",
            "        : validation accuracy = 0.3333\n",
            "______________________________________\n",
            "ITER  200: training loss       = 1.0820\n",
            "______________________________________\n",
            "        : validation accuracy = 0.3528\n",
            "______________________________________\n",
            "ITER  300: training loss       = 1.0614\n",
            "______________________________________\n",
            "        : validation accuracy = 0.4304\n",
            "______________________________________\n",
            "ITER  400: training loss       = 0.9662\n",
            "______________________________________\n",
            "        : validation accuracy = 0.6443\n",
            "______________________________________\n",
            "ITER  500: training loss       = 0.6838\n",
            "______________________________________\n",
            "        : validation accuracy = 0.5749\n",
            "______________________________________\n",
            "ITER  600: training loss       = 0.3818\n",
            "______________________________________\n",
            "        : validation accuracy = 0.7093\n",
            "______________________________________\n",
            "ITER  700: training loss       = 0.1377\n",
            "______________________________________\n",
            "        : validation accuracy = 0.7247\n",
            "______________________________________\n",
            "ITER  800: training loss       = 0.0308\n",
            "______________________________________\n",
            "        : validation accuracy = 0.7163\n",
            "______________________________________\n",
            "ITER  900: training loss       = 0.0128\n",
            "______________________________________\n",
            "        : validation accuracy = 0.7512\n",
            "______________________________________\n",
            "ITER  1000: training loss       = 0.0074\n",
            "______________________________________\n",
            "        : validation accuracy = 0.7531\n",
            "______________________________________\n",
            "ITER  1100: training loss       = 0.0049\n",
            "______________________________________\n",
            "        : validation accuracy = 0.7495\n",
            "______________________________________\n",
            "ITER  1200: training loss       = 0.0036\n",
            "______________________________________\n",
            "        : validation accuracy = 0.7905\n",
            "______________________________________\n",
            "ITER  1300: training loss       = 0.0028\n",
            "______________________________________\n",
            "        : validation accuracy = 0.7414\n",
            "______________________________________\n",
            "ITER  1400: training loss       = 0.0023\n",
            "______________________________________\n",
            "        : validation accuracy = 0.7515\n",
            "______________________________________\n",
            "ITER  1500: training loss       = 0.0019\n",
            "______________________________________\n",
            "        : validation accuracy = 0.7450\n",
            "______________________________________\n",
            "ITER  1600: training loss       = 0.0016\n",
            "______________________________________\n",
            "        : validation accuracy = 0.7320\n",
            "______________________________________\n",
            "ITER  1700: training loss       = 0.0014\n",
            "______________________________________\n",
            "        : validation accuracy = 0.7512\n",
            "______________________________________\n",
            "ITER  1800: training loss       = 0.0012\n",
            "______________________________________\n",
            "        : validation accuracy = 0.7523\n",
            "______________________________________\n",
            "ITER  1900: training loss       = 0.0011\n",
            "______________________________________\n",
            "        : validation accuracy = 0.7743\n",
            "______________________________________\n",
            "ITER  2000: training loss       = 0.0010\n",
            "______________________________________\n",
            "        : validation accuracy = 0.7414\n",
            "______________________________________\n",
            "time_elapsed: 269.5833074350003\n"
          ]
        },
        {
          "data": {
            "text/plain": [
              "Text(0, 0.5, 'validation accuracy')"
            ]
          },
          "execution_count": 37,
          "metadata": {},
          "output_type": "execute_result"
        },
        {
          "data": {
            "image/png": "[encoded data removed]",
            "text/plain": [
              "<Figure size 432x288 with 2 Axes>"
            ]
          },
          "metadata": {
            "needs_background": "light"
          },
          "output_type": "display_data"
        }
      ],
      "source": [
        "start_t = timer()\n",
        "\n",
        "average_training_losses = []\n",
        "average_val_accs = []\n",
        "training_losses = []\n",
        "val_accs = []\n",
        "iteration = 0\n",
        "nb_pts = 0 \n",
        "max_iter = 2000\n",
        "stop_epoch = False\n",
        "\n",
        "for epoch in range(1000000): \n",
        "    for (x_train_in, y_train_in) in train_small_dataloader:\n",
        "        training_losses.append(train_step(x_train_in, y_train_in, cnn_0, optimizer))\n",
        "        if iteration % 100 == 0:\n",
        "            nb_pts += 1 \n",
        "            average_training_losses.append(sum(training_losses) / len(training_losses))\n",
        "            training_losses = []\n",
        "            print(\"ITER  {}: training loss       = {:.4f}\".format(iteration, average_training_losses[-1]))\n",
        "            print(\"______________________________________\")\n",
        "            val_accs = []\n",
        "            for x_val_in, y_val_in in val_dataloader:\n",
        "                val_accs.append(eval_step(x_val_in, y_val_in, cnn_0))\n",
        "            average_val_accs.append(sum(val_accs) / len(val_accs))\n",
        "            print(\"        : validation accuracy = {:.4f}\".format(average_val_accs[-1]))\n",
        "            print(\"______________________________________\")\n",
        "        if iteration >= max_iter:\n",
        "            stop_epoch = True\n",
        "            break\n",
        "        iteration += 1\n",
        "    if stop_epoch:\n",
        "        break\n",
        "        \n",
        "end_t = timer()\n",
        "print(\"time_elapsed: {}\".format(end_t - start_t))\n",
        "\n",
        "times = list(range(len(average_training_losses)))\n",
        "\n",
        "fig = plt.figure()\n",
        "\n",
        "ax = fig.add_subplot(121)\n",
        "ax.plot(np.arange(nb_pts), average_training_losses)\n",
        "ax.set_xlabel(\"iteration * 100\")\n",
        "ax.set_ylabel(\"classification loss\")\n",
        "\n",
        "ax = fig.add_subplot(122)\n",
        "ax.plot(np.arange(len(average_val_accs)), average_val_accs)\n",
        "ax.set_xlabel(\"iteration * 100\")\n",
        "ax.set_ylabel(\"validation accuracy\")"
      ]
    },
    {
      "cell_type": "code",
      "execution_count": null,
      "metadata": {
        "colab": {
          "base_uri": "https://localhost:8080/"
        },
        "id": "NWJ12Q8frvap",
        "outputId": "70385931-12be-408b-ba98-afdaaacf9dee"
      },
      "outputs": [
        {
          "name": "stdout",
          "output_type": "stream",
          "text": [
            "ACCURACY - TRAINING SET: 1.0\n",
            "ACCURACY - TEST SET: 0.7201236486434937\n"
          ]
        }
      ],
      "source": [
        "train_accs = []\n",
        "for x_train_in, y_train_in in train_small_dataloader:\n",
        "    train_accs.append(eval_step(x_train_in, y_train_in, cnn_0))\n",
        "\n",
        "average_train_acc = sum(train_accs) / len(train_accs)\n",
        "print(\"ACCURACY - TRAINING SET: {}\".format(average_train_acc))\n",
        "\n",
        "test_accs = []\n",
        "for x_test_in, y_test_in in test_dataloader:\n",
        "    test_accs.append(eval_step(x_test_in, y_test_in, cnn_0))\n",
        "\n",
        "average_test_acc = sum(test_accs) / len(test_accs)\n",
        "print(\"ACCURACY - TEST SET: {}\".format(average_test_acc))"
      ]
    },
    {
      "cell_type": "markdown",
      "metadata": {
        "id": "xy_BMirSea-h"
      },
      "source": [
        "### EXTRA QUESTION 1: Change the code for *CNN* by adding dropout, for example between the flatten and dense_1 layers."
      ]
    },
    {
      "cell_type": "markdown",
      "metadata": {
        "id": "286plsUwea-i"
      },
      "source": [
        "### EXTRA QUESTION 2: Repeat the previous experiments with different values for the learning rate and batch size."
      ]
    },
    {
      "cell_type": "markdown",
      "metadata": {
        "id": "bvp5QipD7Zh0"
      },
      "source": [
        "### EXTRA QUESTION 3: On the small dataset, save the model when validation accurary is at its highest, and check for test accuracy (early stopping). "
      ]
    },
    {
      "cell_type": "markdown",
      "metadata": {
        "id": "NN78f1Jpea-j"
      },
      "source": [
        "### Theoretical questions to think about:\n",
        "- What are the advantages and disadvantages of having a large validation set?\n",
        "- Same question for a small one.\n",
        "- Why do we even have a validation set at all? Why not directly use the test set?\n",
        "- Take another look at the model we used. Can you point out any issues with it?\n",
        "- Manufacturing small examples of overfitting was actually quite challenging. To do this, a certain amount of labels (20% of the training set) had to be corrupted. How does that drive the model into overfitting?"
      ]
    }
  ],
  "metadata": {
    "accelerator": "GPU",
    "colab": {
      "collapsed_sections": [],
      "provenance": []
    },
    "file_extension": ".py",
    "kernelspec": {
      "display_name": "Python 3 (ipykernel)",
      "language": "python",
      "name": "python3"
    },
    "language_info": {
      "codemirror_mode": {
        "name": "ipython",
        "version": 3
      },
      "file_extension": ".py",
      "mimetype": "text/x-python",
      "name": "python",
      "nbconvert_exporter": "python",
      "pygments_lexer": "ipython3",
      "version": "3.10.7"
    },
    "mimetype": "text/x-python",
    "name": "python",
    "npconvert_exporter": "python",
    "pygments_lexer": "ipython3",
    "version": 3
  },
  "nbformat": 4,
  "nbformat_minor": 0
}
