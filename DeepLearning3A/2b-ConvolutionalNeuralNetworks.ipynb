{
  "cells": [
    {
      "cell_type": "markdown",
      "metadata": {
        "id": "9fUvJwvg0ifO"
      },
      "source": [
        "Convolutional Neural Networks\n",
        "================\n",
        "\n",
        "------\n",
        "**Deep Learning for Computer Vision**<br>\n",
        "(c) Research Group CAMMA, University of Strasbourg<br>\n",
        "Website: http://camma.u-strasbg.fr/\n",
        "-----"
      ]
    },
    {
      "cell_type": "markdown",
      "metadata": {
        "id": "5V7yFttQ0ifR"
      },
      "source": [
        "### About this notebook\n",
        "\n",
        "- **Objectives**: \n",
        "  - Train your first convolutional neural network using Tensorflow and Keras\n",
        "  \n",
        "\n",
        "- **Instructions**:\n",
        "  - To make the best use of this notebook, read the provided instructions and code, fill in the *#TODO* blocks, and run the code.\n",
        "  - Load Cats & Dogs datasets from https://seafile.unistra.fr/f/ca6dc3c7823f44b4a769/?dl=1\n",
        "  "
      ]
    },
    {
      "cell_type": "markdown",
      "metadata": {
        "id": "5LOQP2WC0ifS"
      },
      "source": [
        "Import libraries:"
      ]
    },
    {
      "cell_type": "code",
      "execution_count": null,
      "metadata": {
        "id": "YTp3rBq00ifS"
      },
      "outputs": [],
      "source": [
        "import numpy as np\n",
        "import matplotlib.pyplot as plt\n",
        "import pickle\n",
        "import gzip"
      ]
    },
    {
      "cell_type": "code",
      "execution_count": null,
      "metadata": {
        "id": "KHeyurY_0ifT"
      },
      "outputs": [],
      "source": [
        "import tensorflow as tf"
      ]
    },
    {
      "cell_type": "markdown",
      "metadata": {
        "id": "H9qkAMGx0ifU"
      },
      "source": [
        "Check version of Tensorflow. Version should be >= 2.0."
      ]
    },
    {
      "cell_type": "code",
      "execution_count": null,
      "metadata": {
        "id": "cBXHISnt0ifU"
      },
      "outputs": [],
      "source": [
        "tf.__version__"
      ]
    },
    {
      "cell_type": "markdown",
      "metadata": {
        "id": "Gat_qPiE0ifV"
      },
      "source": [
        "### Load MNIST dataset"
      ]
    },
    {
      "cell_type": "code",
      "execution_count": null,
      "metadata": {
        "id": "Af5la19G0ifV"
      },
      "outputs": [],
      "source": [
        "from google.colab import drive\n",
        "drive.mount('/content/drive')\n",
        "path = '/content/drive/MyDrive/datasets/' #TO ADAPT IF NEEDED\n",
        "f = gzip.open(path+'mnist.pkl.gz', 'rb')\n",
        "train_set, valid_set, test_set = pickle.load(f,encoding='bytes')\n",
        "f.close()\n",
        "\n",
        "#%% Shuffle the data and define the data variables\n",
        "X_train,y_train = train_set\n",
        "X_test,y_test = test_set\n",
        "\n",
        "inds=np.arange(0,X_train.shape[0])\n",
        "np.random.shuffle(inds)\n",
        "X_train,y_train = X_train[inds],y_train[inds] \n",
        "\n",
        "inds=np.arange(0,X_test.shape[0])\n",
        "np.random.shuffle(inds)\n",
        "X_test,y_test = X_test[inds],y_test[inds] \n",
        "\n",
        "print(X_train.shape)\n",
        "print(X_test.shape)"
      ]
    },
    {
      "cell_type": "markdown",
      "metadata": {
        "id": "dKXIr6nE0ifW"
      },
      "source": [
        "### Tensorflow model corresponding to a 2-layer neural network"
      ]
    },
    {
      "cell_type": "markdown",
      "metadata": {
        "id": "gorrGCum0ifW"
      },
      "source": [
        "Create the model using the high-level library Keras:"
      ]
    },
    {
      "cell_type": "code",
      "execution_count": null,
      "metadata": {
        "id": "JJ6QQMjO0ifX"
      },
      "outputs": [],
      "source": [
        "model = tf.keras.models.Sequential()\n",
        "model.add(tf.keras.layers.Dense(8, activation='relu',input_shape=(784,)) )\n",
        "model.add(tf.keras.layers.Dense(10, activation='softmax') )"
      ]
    },
    {
      "cell_type": "markdown",
      "metadata": {
        "id": "EmTy2qOH0ifX"
      },
      "source": [
        "Print a description of the model:"
      ]
    },
    {
      "cell_type": "code",
      "execution_count": null,
      "metadata": {
        "id": "zkw9lEgY0ifY"
      },
      "outputs": [],
      "source": [
        "model.summary()"
      ]
    },
    {
      "cell_type": "markdown",
      "metadata": {
        "id": "-u_CEyvd0ifY"
      },
      "source": [
        "Verify by hand that the indicated number of parameters is exact."
      ]
    },
    {
      "cell_type": "markdown",
      "metadata": {
        "id": "1maGpvHh0ifZ"
      },
      "source": [
        "Add a loss and define the training parameters:"
      ]
    },
    {
      "cell_type": "code",
      "execution_count": null,
      "metadata": {
        "id": "8jUfeNBQ0ifZ"
      },
      "outputs": [],
      "source": [
        "model.compile(optimizer='adam',\n",
        "              loss='sparse_categorical_crossentropy', #Ground truth provided as class IDs\n",
        "              metrics=['accuracy'])\n"
      ]
    },
    {
      "cell_type": "markdown",
      "metadata": {
        "id": "QM0CVzbJ0ifa"
      },
      "source": [
        "Perform the training:"
      ]
    },
    {
      "cell_type": "code",
      "execution_count": null,
      "metadata": {
        "id": "JfssduCT0ifa"
      },
      "outputs": [],
      "source": [
        "model.fit(X_train, y_train, epochs=5)"
      ]
    },
    {
      "cell_type": "markdown",
      "metadata": {
        "id": "gh5yjX0O0ifb"
      },
      "source": [
        "Evaluate the model on the test set:"
      ]
    },
    {
      "cell_type": "code",
      "execution_count": null,
      "metadata": {
        "id": "qQBqWvbb0ifb"
      },
      "outputs": [],
      "source": [
        "model.evaluate(X_test,  y_test, verbose=2)"
      ]
    },
    {
      "cell_type": "markdown",
      "metadata": {
        "id": "yLKx7Btl0ifb"
      },
      "source": [
        "Increase the number of hidden nodes to 128 and retrain the model. What do you conclude?"
      ]
    },
    {
      "cell_type": "markdown",
      "metadata": {
        "id": "q-H3Eo4M0ifb"
      },
      "source": [
        "### Use Images as input"
      ]
    },
    {
      "cell_type": "markdown",
      "metadata": {
        "id": "IfF4wYmw0ifc"
      },
      "source": [
        "Reshape the data:"
      ]
    },
    {
      "cell_type": "code",
      "execution_count": null,
      "metadata": {
        "id": "FdixMjFc0ifc"
      },
      "outputs": [],
      "source": [
        "X_train = X_train.reshape(X_train.shape[0],28,28,1)\n",
        "X_test = X_test.reshape(X_test.shape[0],28,28,1)\n",
        "print(X_train.shape)\n",
        "print(X_test.shape)"
      ]
    },
    {
      "cell_type": "markdown",
      "metadata": {
        "id": "-wCLM-Rq0ifc"
      },
      "source": [
        "Use the flattening layer, which linearizes the input, to provide the images directly to the same model:"
      ]
    },
    {
      "cell_type": "code",
      "execution_count": null,
      "metadata": {
        "id": "R8NIJrVr0ifc"
      },
      "outputs": [],
      "source": [
        "model = tf.keras.models.Sequential()\n",
        "model.add( tf.keras.layers.Flatten(input_shape=(28, 28,1)) )\n",
        "model.add( tf.keras.layers.Dense(64, activation='relu') )\n",
        "model.add( tf.keras.layers.Dense(10, activation='softmax') )\n"
      ]
    },
    {
      "cell_type": "code",
      "execution_count": null,
      "metadata": {
        "id": "9XiWnwRz0ifd"
      },
      "outputs": [],
      "source": [
        "model.compile(optimizer='adam',\n",
        "              loss='sparse_categorical_crossentropy',\n",
        "              metrics=['accuracy'])"
      ]
    },
    {
      "cell_type": "markdown",
      "metadata": {
        "id": "iVpNS-p60ifd"
      },
      "source": [
        "Train the model:"
      ]
    },
    {
      "cell_type": "code",
      "execution_count": null,
      "metadata": {
        "id": "OIuI6YmK0ifd"
      },
      "outputs": [],
      "source": [
        "history = model.fit(X_train, y_train, epochs=5)"
      ]
    },
    {
      "cell_type": "markdown",
      "metadata": {
        "id": "LDnSxEbE0ife"
      },
      "source": [
        "Plot the training accuracy:"
      ]
    },
    {
      "cell_type": "code",
      "execution_count": null,
      "metadata": {
        "id": "CS02zGmI0ife"
      },
      "outputs": [],
      "source": [
        "plt.plot(history.history['accuracy'], label='accuracy')\n",
        "plt.xlabel('Epoch')\n",
        "plt.ylabel('Accuracy')\n",
        "plt.ylim([0.9, 1])\n",
        "plt.legend(loc='lower right')"
      ]
    },
    {
      "cell_type": "markdown",
      "metadata": {
        "id": "d3Klz22J0ife"
      },
      "source": [
        "Evalute the model on the test set:"
      ]
    },
    {
      "cell_type": "code",
      "execution_count": null,
      "metadata": {
        "id": "B5Au8JLt0ife"
      },
      "outputs": [],
      "source": [
        "model.evaluate(X_test,  y_test, verbose=2)\n"
      ]
    },
    {
      "cell_type": "markdown",
      "metadata": {
        "id": "B7Iw1Jen0iff"
      },
      "source": [
        "### Use a Convolutional Neural Network:"
      ]
    },
    {
      "cell_type": "code",
      "execution_count": null,
      "metadata": {
        "id": "WjCJ0O8v0iff"
      },
      "outputs": [],
      "source": [
        "model = tf.keras.models.Sequential()\n",
        "model.add(tf.keras.layers.Conv2D(8, (3, 3), activation='relu', input_shape=(28,28,1) ))\n",
        "model.add(tf.keras.layers.MaxPooling2D((2, 2)))\n",
        "model.add(tf.keras.layers.Conv2D(32, (3, 3), activation='relu'))\n",
        "\n",
        "model.add(tf.keras.layers.Flatten())\n",
        "model.add(tf.keras.layers.Dense(10, activation='softmax'))"
      ]
    },
    {
      "cell_type": "code",
      "execution_count": null,
      "metadata": {
        "id": "TjLi62Fn0iff"
      },
      "outputs": [],
      "source": [
        "model.summary()\n"
      ]
    },
    {
      "cell_type": "code",
      "execution_count": null,
      "metadata": {
        "id": "mbJ9abop0iff"
      },
      "outputs": [],
      "source": [
        "model.compile(optimizer='adam',\n",
        "              loss='sparse_categorical_crossentropy',\n",
        "              metrics=['accuracy'])\n"
      ]
    },
    {
      "cell_type": "code",
      "execution_count": null,
      "metadata": {
        "id": "sMYZ-KIT0ifg"
      },
      "outputs": [],
      "source": [
        "model.fit(X_train, y_train, epochs=5)"
      ]
    },
    {
      "cell_type": "code",
      "execution_count": null,
      "metadata": {
        "id": "txjSkgCV0ifg"
      },
      "outputs": [],
      "source": [
        "model.evaluate(X_test,  y_test, verbose=2)\n"
      ]
    },
    {
      "cell_type": "markdown",
      "metadata": {
        "id": "UJNAjWZ00ifg"
      },
      "source": [
        "The obtained accuracy should be around 99%"
      ]
    },
    {
      "cell_type": "markdown",
      "metadata": {
        "id": "-arn0oU80ifg"
      },
      "source": [
        "### Classification on the Cats & Dogs dataset"
      ]
    },
    {
      "cell_type": "markdown",
      "metadata": {
        "id": "psvSXvgd0ifh"
      },
      "source": [
        "Load the dataset:"
      ]
    },
    {
      "cell_type": "code",
      "execution_count": null,
      "metadata": {
        "id": "3za1QFfu0ifh"
      },
      "outputs": [],
      "source": [
        "from google.colab import drive\n",
        "drive.mount('/content/drive')\n",
        "path = '/content/drive/MyDrive/datasets/' #TO ADAPT IF NEEDED\n",
        "f=gzip.open(path+'td_catsdogs2000_u8.pkl.gz', 'rb')\n",
        "X_data,y_data = pickle.load(f, encoding='bytes')\n",
        "f.close()\n",
        "\n",
        "# Split data for train (first 1000 images) and test (the rest) \n",
        "X_train= X_data[0:1000,:] \n",
        "y_train= y_data[0:1000,:]\n",
        "X_test= X_data[1000:2000,:]\n",
        "y_test= y_data[1000:2000,:]"
      ]
    },
    {
      "cell_type": "code",
      "execution_count": null,
      "metadata": {
        "id": "650QImqk0ifh"
      },
      "outputs": [],
      "source": [
        "print(X_train.shape)\n",
        "print(X_test.shape)"
      ]
    },
    {
      "cell_type": "markdown",
      "metadata": {
        "id": "B7G_vP920ifh"
      },
      "source": [
        "Display a few images along with the ground truth:"
      ]
    },
    {
      "cell_type": "code",
      "execution_count": null,
      "metadata": {
        "id": "rPHGLLkA0ifh"
      },
      "outputs": [],
      "source": [
        "#TODO<\n",
        "#TODO>"
      ]
    },
    {
      "cell_type": "markdown",
      "metadata": {
        "id": "ruPSo3HW0ifi"
      },
      "source": [
        "**(1)** Train a 2-layer neural network classifier with 128 hidden nodes"
      ]
    },
    {
      "cell_type": "markdown",
      "metadata": {
        "id": "byQNB72d0ifi"
      },
      "source": [
        "Define the structure of the model:"
      ]
    },
    {
      "cell_type": "code",
      "execution_count": null,
      "metadata": {
        "id": "oV9PIlF70ifi"
      },
      "outputs": [],
      "source": [
        "#TODO<\n",
        "#TODO>"
      ]
    },
    {
      "cell_type": "markdown",
      "metadata": {
        "id": "0yiAFwpa0ifj"
      },
      "source": [
        "Train the model:"
      ]
    },
    {
      "cell_type": "code",
      "execution_count": null,
      "metadata": {
        "id": "hs7mgLKt0ifj"
      },
      "outputs": [],
      "source": [
        "#TODO<\n",
        "#TODO>"
      ]
    },
    {
      "cell_type": "markdown",
      "metadata": {
        "id": "c7yLaXeA0ifj"
      },
      "source": [
        "Evaluate the model on the test set:"
      ]
    },
    {
      "cell_type": "code",
      "execution_count": null,
      "metadata": {
        "id": "bWYDzxVq0ifj"
      },
      "outputs": [],
      "source": [
        "#TODO<\n",
        "#TODO>"
      ]
    },
    {
      "cell_type": "markdown",
      "metadata": {
        "id": "g3I7VUK-0ifj"
      },
      "source": [
        "What do you conclude?"
      ]
    },
    {
      "cell_type": "markdown",
      "metadata": {
        "id": "VfFuH5Fp0ifk"
      },
      "source": [
        "**(2)** Train a simple convolutional neural network classifier"
      ]
    },
    {
      "cell_type": "markdown",
      "metadata": {
        "id": "2nctn5qu0ifk"
      },
      "source": [
        "Define a model with 2 convolutional layers separated with a maxpooling layer:"
      ]
    },
    {
      "cell_type": "code",
      "execution_count": null,
      "metadata": {
        "id": "nh22aHZC0ifk"
      },
      "outputs": [],
      "source": [
        "#TODO<\n",
        "#TODO>"
      ]
    },
    {
      "cell_type": "markdown",
      "metadata": {
        "id": "_smCllxQ0ifk"
      },
      "source": [
        "Train the model:"
      ]
    },
    {
      "cell_type": "code",
      "execution_count": null,
      "metadata": {
        "id": "Fj_mwuON0ifk"
      },
      "outputs": [],
      "source": [
        "#TODO<\n",
        "#TODO>"
      ]
    },
    {
      "cell_type": "markdown",
      "metadata": {
        "id": "b7DUsP-50ifl"
      },
      "source": [
        "Experiment with different networks by changing the number of channels in the layers and adding/removing layers."
      ]
    },
    {
      "cell_type": "markdown",
      "metadata": {
        "id": "oKX5JW7y0ifl"
      },
      "source": [
        "Evaluate the model on the test set:"
      ]
    },
    {
      "cell_type": "code",
      "execution_count": null,
      "metadata": {
        "id": "t3KVguJs0ifl"
      },
      "outputs": [],
      "source": [
        "#TODO<\n",
        "#TODO>"
      ]
    },
    {
      "cell_type": "markdown",
      "metadata": {
        "id": "G5ANJHb90ifl"
      },
      "source": [
        "What do you conclude?"
      ]
    }
  ],
  "metadata": {
    "kernelspec": {
      "display_name": "Python 3",
      "language": "python",
      "name": "python3"
    },
    "language_info": {
      "codemirror_mode": {
        "name": "ipython",
        "version": 3
      },
      "file_extension": ".py",
      "mimetype": "text/x-python",
      "name": "python",
      "nbconvert_exporter": "python",
      "pygments_lexer": "ipython3",
      "version": "3.6.10"
    },
    "colab": {
      "provenance": [],
      "collapsed_sections": []
    }
  },
  "nbformat": 4,
  "nbformat_minor": 0
}