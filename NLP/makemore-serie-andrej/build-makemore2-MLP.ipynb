{
 "cells": [
  {
   "cell_type": "code",
   "execution_count": 2,
   "metadata": {},
   "outputs": [],
   "source": [
    "import torch\n",
    "import torch.nn.functional as F\n",
    "import matplotlib.pyplot as plt"
   ]
  },
  {
   "cell_type": "code",
   "execution_count": 3,
   "metadata": {},
   "outputs": [
    {
     "name": "stdout",
     "output_type": "stream",
     "text": [
      "Nombre de prénoms :  32033\n"
     ]
    },
    {
     "data": {
      "text/plain": [
       "['emma', 'olivia', 'ava', 'isabella', 'sophia', 'charlotte', 'mia', 'amelia']"
      ]
     },
     "execution_count": 3,
     "metadata": {},
     "output_type": "execute_result"
    }
   ],
   "source": [
    "# read in all the words \n",
    "words = open('names.txt', 'r').read().splitlines()\n",
    "print(\"Nombre de prénoms : \", len(words))\n",
    "words[:8]"
   ]
  },
  {
   "cell_type": "code",
   "execution_count": 4,
   "metadata": {},
   "outputs": [
    {
     "name": "stdout",
     "output_type": "stream",
     "text": [
      "{0: '.', 1: 'a', 2: 'b', 3: 'c', 4: 'd', 5: 'e', 6: 'f', 7: 'g', 8: 'h', 9: 'i', 10: 'j', 11: 'k', 12: 'l', 13: 'm', 14: 'n', 15: 'o', 16: 'p', 17: 'q', 18: 'r', 19: 's', 20: 't', 21: 'u', 22: 'v', 23: 'w', 24: 'x', 25: 'y', 26: 'z'}\n"
     ]
    }
   ],
   "source": [
    "chars = sorted(list(set(''.join(words))) + ['.'])\n",
    "stoi = {s:i for i, s in enumerate(chars)}\n",
    "itos = {i:s for i, s in enumerate(chars)}\n",
    "encode = lambda x : stoi[x]\n",
    "decode = lambda x : itos[x]\n",
    "print(itos)"
   ]
  },
  {
   "cell_type": "code",
   "execution_count": 5,
   "metadata": {},
   "outputs": [
    {
     "name": "stdout",
     "output_type": "stream",
     "text": [
      "emma\n",
      "... ---> e\n",
      "..e ---> m\n",
      ".em ---> m\n",
      "emm ---> a\n",
      "mma ---> .\n",
      "olivia\n",
      "... ---> o\n",
      "..o ---> l\n",
      ".ol ---> i\n",
      "oli ---> v\n",
      "liv ---> i\n",
      "ivi ---> a\n",
      "via ---> .\n",
      "ava\n",
      "... ---> a\n",
      "..a ---> v\n",
      ".av ---> a\n",
      "ava ---> .\n",
      "isabella\n",
      "... ---> i\n",
      "..i ---> s\n",
      ".is ---> a\n",
      "isa ---> b\n",
      "sab ---> e\n",
      "abe ---> l\n",
      "bel ---> l\n",
      "ell ---> a\n",
      "lla ---> .\n",
      "sophia\n",
      "... ---> s\n",
      "..s ---> o\n",
      ".so ---> p\n",
      "sop ---> h\n",
      "oph ---> i\n",
      "phi ---> a\n",
      "hia ---> .\n"
     ]
    }
   ],
   "source": [
    "# build the dataset \n",
    "\n",
    "block_size = 3 # context length : how many characters do we take to predict the next one? \n",
    "X, Y = [], []\n",
    "for w in words[:5]:\n",
    "    print(w)\n",
    "    context = [0] * block_size # padding with dots. \n",
    "    for ch in w + '.':\n",
    "        ix = encode(ch)\n",
    "        X.append(context)\n",
    "        Y.append(ix)\n",
    "        print(''.join(decode(i) for i in context), '--->', decode(ix))\n",
    "        context = context[1:] + [ix]\n",
    "\n",
    "X = torch.tensor(X)\n",
    "Y = torch.tensor(Y)"
   ]
  },
  {
   "cell_type": "code",
   "execution_count": 6,
   "metadata": {},
   "outputs": [
    {
     "data": {
      "text/plain": [
       "(torch.Size([32, 3]), torch.int64, torch.Size([32]), torch.int64)"
      ]
     },
     "execution_count": 6,
     "metadata": {},
     "output_type": "execute_result"
    }
   ],
   "source": [
    "X.shape, X.dtype, Y.shape, Y.dtype"
   ]
  },
  {
   "cell_type": "code",
   "execution_count": 7,
   "metadata": {},
   "outputs": [],
   "source": [
    "C = torch.randn((27,2))"
   ]
  },
  {
   "cell_type": "code",
   "execution_count": 8,
   "metadata": {},
   "outputs": [
    {
     "data": {
      "text/plain": [
       "(torch.Size([27, 2]), torch.Size([32, 3]), torch.Size([32, 3, 2]))"
      ]
     },
     "execution_count": 8,
     "metadata": {},
     "output_type": "execute_result"
    }
   ],
   "source": [
    "C.shape, X.shape, C[X].shape"
   ]
  },
  {
   "cell_type": "code",
   "execution_count": 9,
   "metadata": {},
   "outputs": [],
   "source": [
    "emb = C[X] # (nb_of_blocks, block_size, dimensions) -> (32,3,2)"
   ]
  },
  {
   "cell_type": "code",
   "execution_count": 10,
   "metadata": {},
   "outputs": [
    {
     "data": {
      "text/plain": [
       "torch.Size([32, 100])"
      ]
     },
     "execution_count": 10,
     "metadata": {},
     "output_type": "execute_result"
    }
   ],
   "source": [
    "# first layer -- \n",
    "W1 = torch.randn((6, 100))\n",
    "b1 = torch.randn(100)\n",
    "# what happen if emb @ W1: \n",
    "#  --> mat1 and mat2 shapes cannot be multiplied (96x2 and 6x100)\n",
    "# solution : torch.reshape or torch.view \n",
    "h = emb.view(emb.shape[0], emb.shape[1] * emb.shape[2]) @ W1 + b1\n",
    "h = torch.tanh(h) # activation layer \n",
    "h.shape"
   ]
  },
  {
   "cell_type": "code",
   "execution_count": 11,
   "metadata": {},
   "outputs": [
    {
     "data": {
      "text/plain": [
       "tensor([3.6539e-12, 1.1588e-12, 1.8215e-07, 1.3733e-01, 4.0648e-01, 1.8338e-05,\n",
       "        2.9920e-04, 4.1642e-04, 7.9927e-01, 1.7839e-09, 2.6006e-09, 8.2484e-06,\n",
       "        5.5920e-06, 1.5224e-05, 3.2731e-11, 4.6285e-06, 2.1196e-06, 1.1945e-04,\n",
       "        3.6358e-09, 1.7218e-11, 2.8092e-09, 1.6987e-09, 6.5650e-01, 2.1076e-02,\n",
       "        5.8755e-03, 9.2672e-04, 6.0024e-05, 1.1532e-10, 1.1015e-01, 9.6473e-02,\n",
       "        2.7825e-13, 2.4693e-05])"
      ]
     },
     "execution_count": 11,
     "metadata": {},
     "output_type": "execute_result"
    }
   ],
   "source": [
    "# second layer -- \n",
    "W2 = torch.randn((100,27))\n",
    "b2 = torch.randn(27)\n",
    "\n",
    "logits = h @ W2 + b2 # (32, 27)\n",
    "# softmax\n",
    "counts = logits.exp()\n",
    "prob = counts / counts.sum(1, keepdim=True)\n",
    "prob[torch.arange(32), Y]"
   ]
  },
  {
   "cell_type": "markdown",
   "metadata": {},
   "source": [
    "## Rangement"
   ]
  },
  {
   "cell_type": "code",
   "execution_count": 12,
   "metadata": {},
   "outputs": [],
   "source": [
    "# build the dataset \n",
    "block_size = 3 # context length : how many characters do we take to predict the next one? \n",
    "X, Y = [], []\n",
    "for w in words:\n",
    "    context = [0] * block_size # padding with dots. \n",
    "    for ch in w + '.':\n",
    "        ix = encode(ch)\n",
    "        X.append(context)\n",
    "        Y.append(ix)\n",
    "        context = context[1:] + [ix]\n",
    "\n",
    "X = torch.tensor(X)\n",
    "Y = torch.tensor(Y)"
   ]
  },
  {
   "cell_type": "code",
   "execution_count": 13,
   "metadata": {},
   "outputs": [
    {
     "data": {
      "text/plain": [
       "(torch.Size([228146, 3]), torch.Size([228146]))"
      ]
     },
     "execution_count": 13,
     "metadata": {},
     "output_type": "execute_result"
    }
   ],
   "source": [
    "X.shape, Y.shape # dataset"
   ]
  },
  {
   "cell_type": "code",
   "execution_count": 14,
   "metadata": {},
   "outputs": [],
   "source": [
    "g = torch.Generator().manual_seed(2147483647) # for reproducibility\n",
    "C = torch.randn((27, 2), generator=g)\n",
    "W1 = torch.randn((6, 100), generator=g)\n",
    "b1 = torch.randn(100, generator=g)\n",
    "W2 = torch.randn((100, 27), generator=g)\n",
    "b2 = torch.randn(27, generator=g)\n",
    "parameters = [C, W1, b1, W2, b2]"
   ]
  },
  {
   "cell_type": "code",
   "execution_count": 15,
   "metadata": {},
   "outputs": [
    {
     "data": {
      "text/plain": [
       "3481"
      ]
     },
     "execution_count": 15,
     "metadata": {},
     "output_type": "execute_result"
    }
   ],
   "source": [
    "sum(p.nelement() for p in parameters) # number of parameters in total"
   ]
  },
  {
   "cell_type": "code",
   "execution_count": null,
   "metadata": {},
   "outputs": [],
   "source": [
    "BATCH_SIZE = 32\n",
    "LEARNING_RATE = 0.1\n",
    "\n",
    "for p in parameters:\n",
    "    p.requires_grad = True\n",
    "\n",
    "for _ in range(10000):\n",
    "\n",
    "    # minibatch construct\n",
    "    ix = torch.randint(0, X.shape[0], (BATCH_SIZE, ))\n",
    "\n",
    "    # forward pass\n",
    "    emb = C[X[ix]] # (batch_size, block_size, dimensions)\n",
    "    h = emb.view(emb.shape[0], emb.shape[1] * emb.shape[2]) @ W1 + b1\n",
    "    h = torch.tanh(h)\n",
    "    logits = h @ W2 + b2\n",
    "    # In practice, you never re-write cross_entropy for numerous reasons, numerical behavior, space occupation, faster results ... \n",
    "    # counts = logits.exp()\n",
    "    # prob = counts / counts.sum(1, keepdim=True)\n",
    "    # loss = -prob[torch.arange(32), Y].log().mean()\n",
    "    loss = F.cross_entropy(logits, Y[ix])\n",
    "    \n",
    "\n",
    "    # backward pass\n",
    "    for p in parameters:\n",
    "        p.grad = None\n",
    "    loss.backward()\n",
    "    # update \n",
    "    for p in parameters:\n",
    "        p.data += - LEARNING_RATE * p.grad\n",
    "\n",
    "print(f\"loss = {loss.item():.4f}\")"
   ]
  },
  {
   "cell_type": "markdown",
   "metadata": {},
   "source": [
    "Petit ajout sur comment trouver un learning rate intéressant : en tester plusieurs ! "
   ]
  },
  {
   "cell_type": "code",
   "execution_count": 73,
   "metadata": {},
   "outputs": [
    {
     "name": "stdout",
     "output_type": "stream",
     "text": [
      "loss = 6.6387\n"
     ]
    },
    {
     "data": {
      "text/plain": [
       "[<matplotlib.lines.Line2D at 0x10643dae2c0>]"
      ]
     },
     "execution_count": 73,
     "metadata": {},
     "output_type": "execute_result"
    },
    {
     "data": {
      "image/png": "[encoded data removed]",
      "text/plain": [
       "<Figure size 640x480 with 1 Axes>"
      ]
     },
     "metadata": {},
     "output_type": "display_data"
    }
   ],
   "source": [
    "lrs = torch.linspace(-3, 0, 1000)\n",
    "lre = 10 ** lrs \n",
    "\n",
    "BATCH_SIZE = 32\n",
    "\n",
    "lri = []\n",
    "lossi = []\n",
    "\n",
    "for p in parameters:\n",
    "    p.requires_grad = True\n",
    "\n",
    "for i in range(1000):\n",
    "\n",
    "    # minibatch construct\n",
    "    ix = torch.randint(0, X.shape[0], (BATCH_SIZE, ))\n",
    "\n",
    "    # forward pass\n",
    "    emb = C[X[ix]] # (batch_size, block_size, dimensions)\n",
    "    h = emb.view(emb.shape[0], emb.shape[1] * emb.shape[2]) @ W1 + b1\n",
    "    h = torch.tanh(h)\n",
    "    logits = h @ W2 + b2\n",
    "    loss = F.cross_entropy(logits, Y[ix])\n",
    "    \n",
    "    # backward pass\n",
    "    for p in parameters:\n",
    "        p.grad = None\n",
    "\n",
    "    loss.backward()\n",
    "\n",
    "    lr = lre[i]\n",
    "    \n",
    "    for p in parameters:\n",
    "        p.data += - lr * p.grad\n",
    "\n",
    "    # track stats \n",
    "    lri.append(lrs[i])\n",
    "    lossi.append(loss.item())\n",
    "\n",
    "print(f\"loss = {loss.item():.4f}\")\n",
    "\n",
    "plt.plot(lri, lossi)"
   ]
  },
  {
   "cell_type": "markdown",
   "metadata": {},
   "source": [
    "On voit qu'un exposant autour de -1 est intéressant, soit un learning_rate autour de 0.1"
   ]
  },
  {
   "cell_type": "markdown",
   "metadata": {},
   "source": [
    "### don't overfit : train/val/test split"
   ]
  },
  {
   "cell_type": "code",
   "execution_count": 81,
   "metadata": {},
   "outputs": [
    {
     "data": {
      "text/plain": [
       "(torch.Size([182580, 3]), torch.Size([22767, 3]), torch.Size([22799, 3]))"
      ]
     },
     "execution_count": 81,
     "metadata": {},
     "output_type": "execute_result"
    }
   ],
   "source": [
    "# 80%, 10%, 10%\n",
    "# train, val, test\n",
    "# train parameters, train hyperparameters, validate all at the end independantly \n",
    "import random \n",
    "random.seed(42)\n",
    "\n",
    "def build_dataset(words):\n",
    "    block_size = 3 # context length : how many characters do we take to predict the next one? \n",
    "    X, Y = [], []\n",
    "    for w in words:\n",
    "        context = [0] * block_size # padding with dots. \n",
    "        for ch in w + '.':\n",
    "            ix = encode(ch)\n",
    "            X.append(context)\n",
    "            Y.append(ix)\n",
    "            context = context[1:] + [ix]\n",
    "\n",
    "    X = torch.tensor(X)\n",
    "    Y = torch.tensor(Y)\n",
    "\n",
    "    return X, Y\n",
    "\n",
    "\n",
    "random.shuffle(words)\n",
    "n1 = int(0.8 * len(words))\n",
    "n2 = int(0.9 * len(words))\n",
    "\n",
    "X_train, Y_train = build_dataset(words[:n1])\n",
    "X_val, Y_val = build_dataset(words[n1:n2])\n",
    "X_test, Y_test = build_dataset(words[n2:])\n",
    "\n",
    "X_train.shape, X_val.shape, X_test.shape"
   ]
  },
  {
   "cell_type": "code",
   "execution_count": 99,
   "metadata": {},
   "outputs": [],
   "source": [
    "g = torch.Generator().manual_seed(2147483647) # for reproducibility\n",
    "C = torch.randn((27, 2), generator=g)\n",
    "W1 = torch.randn((6, 300), generator=g)\n",
    "b1 = torch.randn(300, generator=g)\n",
    "W2 = torch.randn((300, 27), generator=g)\n",
    "b2 = torch.randn(27, generator=g)\n",
    "parameters = [C, W1, b1, W2, b2]\n",
    "\n",
    "BATCH_SIZE = 32\n",
    "LEARNING_RATE = 0.1\n",
    "\n",
    "def train(steps):\n",
    "    for p in parameters:\n",
    "        p.requires_grad = True\n",
    "\n",
    "    for _ in range(steps):\n",
    "\n",
    "        # minibatch construct\n",
    "        ix = torch.randint(0, X.shape[0], (BATCH_SIZE, ))\n",
    "\n",
    "        # forward pass\n",
    "        emb = C[X[ix]] # (batch_size, block_size, dimensions)\n",
    "        h = emb.view(emb.shape[0], emb.shape[1] * emb.shape[2]) @ W1 + b1\n",
    "        h = torch.tanh(h)\n",
    "        logits = h @ W2 + b2\n",
    "        loss = F.cross_entropy(logits, Y[ix])\n",
    "        \n",
    "        # backward pass\n",
    "        for p in parameters:\n",
    "            p.grad = None\n",
    "        loss.backward()\n",
    "        # update \n",
    "        for p in parameters:\n",
    "            p.data += - LEARNING_RATE * p.grad\n"
   ]
  },
  {
   "cell_type": "code",
   "execution_count": 102,
   "metadata": {},
   "outputs": [
    {
     "name": "stdout",
     "output_type": "stream",
     "text": [
      "Train loss =  2.5240070819854736\n",
      "Val loss =  2.5204296112060547\n"
     ]
    }
   ],
   "source": [
    "train(10000)\n",
    "\n",
    "emb = C[X_train] # (batch_size, block_size, dimensions)\n",
    "h = emb.view(emb.shape[0], emb.shape[1] * emb.shape[2]) @ W1 + b1\n",
    "h = torch.tanh(h)\n",
    "logits = h @ W2 + b2\n",
    "train_loss = F.cross_entropy(logits, Y_train)\n",
    "\n",
    "    \n",
    "emb = C[X_val] # (batch_size, block_size, dimensions)\n",
    "h = emb.view(emb.shape[0], emb.shape[1] * emb.shape[2]) @ W1 + b1\n",
    "h = torch.tanh(h)\n",
    "logits = h @ W2 + b2\n",
    "val_loss = F.cross_entropy(logits, Y_val)\n",
    "print(\"Train loss = \", train_loss.item())\n",
    "print(\"Val loss = \", val_loss.item())"
   ]
  },
  {
   "cell_type": "code",
   "execution_count": 1,
   "metadata": {},
   "outputs": [
    {
     "ename": "NameError",
     "evalue": "name 'plt' is not defined",
     "output_type": "error",
     "traceback": [
      "\u001b[1;31m---------------------------------------------------------------------------\u001b[0m",
      "\u001b[1;31mNameError\u001b[0m                                 Traceback (most recent call last)",
      "Cell \u001b[1;32mIn[1], line 2\u001b[0m\n\u001b[0;32m      1\u001b[0m \u001b[38;5;66;03m# visualize dimensions 0 and 1 of the embedding matrix C for all characters\u001b[39;00m\n\u001b[1;32m----> 2\u001b[0m \u001b[43mplt\u001b[49m\u001b[38;5;241m.\u001b[39mfigure(figsize\u001b[38;5;241m=\u001b[39m(\u001b[38;5;241m8\u001b[39m,\u001b[38;5;241m8\u001b[39m))\n\u001b[0;32m      3\u001b[0m plt\u001b[38;5;241m.\u001b[39mscatter(C[:,\u001b[38;5;241m0\u001b[39m]\u001b[38;5;241m.\u001b[39mdata, C[:,\u001b[38;5;241m1\u001b[39m]\u001b[38;5;241m.\u001b[39mdata, s\u001b[38;5;241m=\u001b[39m\u001b[38;5;241m200\u001b[39m)\n\u001b[0;32m      4\u001b[0m \u001b[38;5;28;01mfor\u001b[39;00m i \u001b[38;5;129;01min\u001b[39;00m \u001b[38;5;28mrange\u001b[39m(C\u001b[38;5;241m.\u001b[39mshape[\u001b[38;5;241m0\u001b[39m]):\n",
      "\u001b[1;31mNameError\u001b[0m: name 'plt' is not defined"
     ]
    }
   ],
   "source": [
    "# visualize dimensions 0 and 1 of the embedding matrix C for all characters\n",
    "plt.figure(figsize=(8,8))\n",
    "plt.scatter(C[:,0].data, C[:,1].data, s=200)\n",
    "for i in range(C.shape[0]):\n",
    "    plt.text(C[i,0].item(), C[i,1].item(), itos[i], ha=\"center\", va=\"center\", color='white')\n",
    "plt.grid('minor')"
   ]
  },
  {
   "cell_type": "code",
   "execution_count": null,
   "metadata": {},
   "outputs": [],
   "source": []
  }
 ],
 "metadata": {
  "kernelspec": {
   "display_name": "Python 3",
   "language": "python",
   "name": "python3"
  },
  "language_info": {
   "codemirror_mode": {
    "name": "ipython",
    "version": 3
   },
   "file_extension": ".py",
   "mimetype": "text/x-python",
   "name": "python",
   "nbconvert_exporter": "python",
   "pygments_lexer": "ipython3",
   "version": "3.10.7"
  }
 },
 "nbformat": 4,
 "nbformat_minor": 2
}
